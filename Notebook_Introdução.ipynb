{
  "nbformat": 4,
  "nbformat_minor": 0,
  "metadata": {
    "colab": {
      "name": "Notebook - Introdução.ipynb",
      "provenance": [],
      "collapsed_sections": [
        "G2bekgOR545Z",
        "uJvMRZgS7EuQ",
        "KMOekqo94Qm-"
      ],
      "authorship_tag": "ABX9TyP0XrvCJdq1JK5037EQfUCV",
      "include_colab_link": true
    },
    "kernelspec": {
      "name": "python3",
      "display_name": "Python 3"
    },
    "language_info": {
      "name": "python"
    }
  },
  "cells": [
    {
      "cell_type": "markdown",
      "metadata": {
        "id": "view-in-github",
        "colab_type": "text"
      },
      "source": [
        "<a href=\"https://colab.research.google.com/github/andrejuniorba/Python-CienciaDeDados/blob/main/Notebook_Introdu%C3%A7%C3%A3o.ipynb\" target=\"_parent\"><img src=\"https://colab.research.google.com/assets/colab-badge.svg\" alt=\"Open In Colab\"/></a>"
      ]
    },
    {
      "cell_type": "markdown",
      "source": [
        "# **Data Science com Python**\n",
        "\n"
      ],
      "metadata": {
        "id": "5QHnDeEp2YCe"
      }
    },
    {
      "cell_type": "markdown",
      "source": [
        "Imersão no mundo do Data Science, unindo o fundamental da teoria com a prática em Python."
      ],
      "metadata": {
        "id": "aHEHOOgC5JN9"
      }
    },
    {
      "cell_type": "markdown",
      "source": [
        "<center><img src = \"http://assets.stickpng.com/images/5848152fcef1014c0b5e4967.png\" width=\"250\">"
      ],
      "metadata": {
        "id": "vyNWtDFD1xwd"
      }
    },
    {
      "cell_type": "markdown",
      "source": [
        "# 01. Elementos básicos"
      ],
      "metadata": {
        "id": "CxEl1EcAAn_6"
      }
    },
    {
      "cell_type": "markdown",
      "source": [
        "## Hello World\n"
      ],
      "metadata": {
        "id": "G2bekgOR545Z"
      }
    },
    {
      "cell_type": "code",
      "source": [
        "#função \"print\" para imprimir na tela a mensagem.\n",
        "\n",
        "print(\"Olá mundo!\")"
      ],
      "metadata": {
        "colab": {
          "base_uri": "https://localhost:8080/"
        },
        "id": "y4T2KKeE6lkG",
        "outputId": "e74e1171-056f-49ba-a4c7-5d18d95ea52b"
      },
      "execution_count": null,
      "outputs": [
        {
          "output_type": "stream",
          "name": "stdout",
          "text": [
            "Olá mundo\n"
          ]
        }
      ]
    },
    {
      "cell_type": "code",
      "source": [
        "print(\"Meu nome é André Luz.\")"
      ],
      "metadata": {
        "colab": {
          "base_uri": "https://localhost:8080/"
        },
        "id": "Tro9VSkR6rH-",
        "outputId": "865ef201-234e-4b54-a330-4661b9cc5f8d"
      },
      "execution_count": null,
      "outputs": [
        {
          "output_type": "stream",
          "name": "stdout",
          "text": [
            "Meu nome é André Luz.\n"
          ]
        }
      ]
    },
    {
      "cell_type": "markdown",
      "source": [
        "# Tipos de Variáveis\n",
        "\n",
        "* integer (int) = 2\n",
        "\n",
        "* float = 1.432\n",
        "\n",
        "* strings (str) = \"Petrobrás\" ou 'Petrobrás'\n",
        "\n",
        "* boolean (bool) = True ou False"
      ],
      "metadata": {
        "id": "uJvMRZgS7EuQ"
      }
    },
    {
      "cell_type": "code",
      "source": [
        "nome = 'André'\n",
        "altura = 1.77\n",
        "idade = 40\n",
        "\n",
        "type(nome)"
      ],
      "metadata": {
        "id": "KsTBRER1_xHk",
        "colab": {
          "base_uri": "https://localhost:8080/"
        },
        "outputId": "842eac4a-7755-4789-b2f5-061f4fc21ecf"
      },
      "execution_count": null,
      "outputs": [
        {
          "output_type": "execute_result",
          "data": {
            "text/plain": [
              "str"
            ]
          },
          "metadata": {},
          "execution_count": 3
        }
      ]
    },
    {
      "cell_type": "code",
      "source": [
        "type(altura)"
      ],
      "metadata": {
        "colab": {
          "base_uri": "https://localhost:8080/"
        },
        "id": "6byLtT6lxJbn",
        "outputId": "0e5e4a24-9064-4574-f6bd-3e6cb5c253e1"
      },
      "execution_count": null,
      "outputs": [
        {
          "output_type": "execute_result",
          "data": {
            "text/plain": [
              "float"
            ]
          },
          "metadata": {},
          "execution_count": 4
        }
      ]
    },
    {
      "cell_type": "code",
      "source": [
        "type(idade)"
      ],
      "metadata": {
        "colab": {
          "base_uri": "https://localhost:8080/"
        },
        "id": "QrsPDepvxNYW",
        "outputId": "30bc01c8-eba1-41d0-f2a9-5bde4c7910b3"
      },
      "execution_count": null,
      "outputs": [
        {
          "output_type": "execute_result",
          "data": {
            "text/plain": [
              "int"
            ]
          },
          "metadata": {},
          "execution_count": 5
        }
      ]
    },
    {
      "cell_type": "code",
      "source": [
        "print(f\"Meu nome é {nome}\")\n",
        "print(\"Tenho a idade de {} anos\".format(idade))\n",
        "print(\"Minha altura em metros é {} \".format(altura))"
      ],
      "metadata": {
        "colab": {
          "base_uri": "https://localhost:8080/"
        },
        "id": "EjIlYDdPxQ0p",
        "outputId": "a8617e73-81da-4983-cab8-4ba99b3c8315"
      },
      "execution_count": null,
      "outputs": [
        {
          "output_type": "stream",
          "name": "stdout",
          "text": [
            "Meu nome é André\n",
            "Tenho a idade de 40 anos\n",
            "Minha altura em metros é 1.77 \n"
          ]
        }
      ]
    },
    {
      "cell_type": "markdown",
      "source": [
        "## Operadores Aritméticos"
      ],
      "metadata": {
        "id": "45Ulmc-izH9T"
      }
    },
    {
      "cell_type": "markdown",
      "source": [
        "* Soma +\n",
        "\n",
        "* Subtração -\n",
        "\n",
        "* Multiplicação *\n",
        "\n",
        "* Divisão /\n",
        "\n",
        "* Resto da divisão %\n",
        "\n",
        "* Divisão (Apenas a parte inteira) //\n",
        "\n",
        "* Potência **"
      ],
      "metadata": {
        "id": "ZC1eGRDIzNZm"
      }
    },
    {
      "cell_type": "code",
      "source": [
        "a = 5\n",
        "b = 4\n",
        "\n",
        "print(a + b)\n",
        "print(a - b)\n",
        "print(a * b)\n",
        "print(a // b)\n",
        "print(a / b)\n",
        "print(a % b)\n",
        "print(a**3)"
      ],
      "metadata": {
        "colab": {
          "base_uri": "https://localhost:8080/"
        },
        "id": "n-Ysv9hLzjee",
        "outputId": "7c5bea22-6287-4822-ac4b-35d4e5d2652f"
      },
      "execution_count": null,
      "outputs": [
        {
          "output_type": "stream",
          "name": "stdout",
          "text": [
            "9\n",
            "1\n",
            "20\n",
            "1\n",
            "1.25\n",
            "1\n",
            "125\n"
          ]
        }
      ]
    },
    {
      "cell_type": "markdown",
      "source": [
        "# Operadores lógicos\n",
        "\n",
        "### Comparativos:\n",
        "\n",
        "* Igualdade ==\n",
        "\n",
        "* Diferente !=\n",
        "\n",
        "* Menor que <\n",
        "\n",
        "* Maior que >\n",
        "\n",
        "* Menor ou igual <=\n",
        "\n",
        "* Maior ou igual >=\n",
        "\n",
        "### Condicionais:\n",
        "\n",
        "* and\n",
        "* or"
      ],
      "metadata": {
        "id": "KMOekqo94Qm-"
      }
    },
    {
      "cell_type": "code",
      "source": [
        "e = 10\n",
        "f = 14\n",
        "g = 9\n",
        "h = 12\n",
        "\n",
        "print(e == f)\n",
        "print(e != f)\n",
        "print(e < f)\n",
        "print(e > f)\n",
        "print(e >= f)\n",
        "print(e <= f)"
      ],
      "metadata": {
        "colab": {
          "base_uri": "https://localhost:8080/"
        },
        "id": "ayDWvRu94ty2",
        "outputId": "7a36ab38-5345-4930-d12e-10574a1cd181"
      },
      "execution_count": null,
      "outputs": [
        {
          "output_type": "stream",
          "name": "stdout",
          "text": [
            "False\n",
            "True\n",
            "True\n",
            "False\n",
            "False\n",
            "True\n"
          ]
        }
      ]
    },
    {
      "cell_type": "code",
      "source": [
        "print(e > f and g < h)\n",
        "print(e > f or g < h)"
      ],
      "metadata": {
        "colab": {
          "base_uri": "https://localhost:8080/"
        },
        "id": "TF3FFVCO6l2m",
        "outputId": "0fd5caad-a569-48ad-ff07-c890a97de956"
      },
      "execution_count": null,
      "outputs": [
        {
          "output_type": "stream",
          "name": "stdout",
          "text": [
            "False\n",
            "True\n"
          ]
        }
      ]
    },
    {
      "cell_type": "markdown",
      "source": [
        "# 02. Estruturas básicas para armazenamento de dados"
      ],
      "metadata": {
        "id": "x7yfM2KKANSY"
      }
    },
    {
      "cell_type": "markdown",
      "source": [
        "## Strings"
      ],
      "metadata": {
        "id": "2SyFJ54GAYnN"
      }
    },
    {
      "cell_type": "code",
      "source": [
        "manchete = 'Petrobrás é uma empresa de capital aberto'"
      ],
      "metadata": {
        "id": "esXJ2UgNBGF9"
      },
      "execution_count": null,
      "outputs": []
    },
    {
      "cell_type": "code",
      "source": [
        "print(manchete)"
      ],
      "metadata": {
        "colab": {
          "base_uri": "https://localhost:8080/"
        },
        "id": "K2oSCBBcCPHx",
        "outputId": "ed1e407e-f770-42e5-fd1c-c26eeb921099"
      },
      "execution_count": null,
      "outputs": [
        {
          "output_type": "stream",
          "name": "stdout",
          "text": [
            "Petrobrás é uma empresa de capital aberto\n"
          ]
        }
      ]
    },
    {
      "cell_type": "code",
      "source": [
        "type(manchete)"
      ],
      "metadata": {
        "colab": {
          "base_uri": "https://localhost:8080/"
        },
        "id": "8AZdD6O3CeR0",
        "outputId": "22098e01-e388-45dc-eea2-130bae9268eb"
      },
      "execution_count": null,
      "outputs": [
        {
          "output_type": "execute_result",
          "data": {
            "text/plain": [
              "str"
            ]
          },
          "metadata": {},
          "execution_count": 53
        }
      ]
    },
    {
      "cell_type": "code",
      "source": [
        "#Comprimento (length) da string\n",
        "\n",
        "len(manchete)"
      ],
      "metadata": {
        "colab": {
          "base_uri": "https://localhost:8080/"
        },
        "id": "Bj1UWI-3CkXL",
        "outputId": "acb815e8-18c5-4e81-ca0e-a3dd78d1e0fb"
      },
      "execution_count": null,
      "outputs": [
        {
          "output_type": "execute_result",
          "data": {
            "text/plain": [
              "41"
            ]
          },
          "metadata": {},
          "execution_count": 51
        }
      ]
    },
    {
      "cell_type": "code",
      "source": [
        "#Indexação\n",
        "print(manchete[0])\n",
        "print(manchete[-1])\n",
        "\n",
        "#Slicing (1º é inclusivo e o 2º é exclusivo)\n",
        "print(manchete[:-1])\n",
        "print(manchete[0:9])\n",
        "print(manchete[:9])\n",
        "print(manchete[0:])\n",
        "\n",
        "#apresentação de 2 em 2 caracteres\n",
        "print(manchete[::2])\n",
        "\n",
        "#Inverter a frase\n",
        "print(manchete[::-1])"
      ],
      "metadata": {
        "colab": {
          "base_uri": "https://localhost:8080/"
        },
        "id": "I5drWr5_DK86",
        "outputId": "be2521f5-1281-490c-9b95-f17ac616f9aa"
      },
      "execution_count": null,
      "outputs": [
        {
          "output_type": "stream",
          "name": "stdout",
          "text": [
            "P\n",
            "o\n",
            "Petrobrás é uma empresa de capital abert\n",
            "Petrobrás\n",
            "Petrobrás\n",
            "Petrobrás é uma empresa de capital aberto\n",
            "Ptorséuaepead aia bro\n",
            "otreba latipac ed aserpme amu é sárborteP\n"
          ]
        }
      ]
    },
    {
      "cell_type": "markdown",
      "source": [
        "### Propriedades das strings\n",
        "\n",
        "* Imutável (não é possível mudar elementos)\n",
        "* Adição (concatenar)\n",
        "* Modificar para Maiúscula (uppercase) ou minúscula (lowercase)"
      ],
      "metadata": {
        "id": "D1PBKlH5KfEf"
      }
    },
    {
      "cell_type": "code",
      "source": [
        "texto1 = 'André'\n",
        "texto2 = ' tem 40 anos.'\n",
        "frase = texto1 + texto2\n",
        "\n",
        "print(frase)\n",
        "print(frase.upper())\n",
        "print(frase.lower())"
      ],
      "metadata": {
        "colab": {
          "base_uri": "https://localhost:8080/"
        },
        "id": "pKFO9kMjKlbl",
        "outputId": "15e7e8f8-04e3-4d73-f9c5-9c723a9fb7a7"
      },
      "execution_count": null,
      "outputs": [
        {
          "output_type": "stream",
          "name": "stdout",
          "text": [
            "André tem 40 anos.\n",
            "ANDRÉ TEM 40 ANOS.\n",
            "andré tem 40 anos.\n"
          ]
        }
      ]
    },
    {
      "cell_type": "code",
      "source": [
        "#Método split => Separar as palavras dentro de uma string\n",
        "#Adicionar em uma lista\n",
        "\n",
        "print(frase.split())\n",
        "\n",
        "#adicionar quebra em um ponto específico. Neste caso sempre onde tiver a letra \"e\"\n",
        "print(frase.split('e'))"
      ],
      "metadata": {
        "colab": {
          "base_uri": "https://localhost:8080/"
        },
        "id": "Tr9qZQZ2NYdQ",
        "outputId": "b87dae47-ce08-463c-94d8-c268367d3227"
      },
      "execution_count": null,
      "outputs": [
        {
          "output_type": "stream",
          "name": "stdout",
          "text": [
            "['André', 'tem', '40', 'anos.']\n",
            "['André t', 'm 40 anos.']\n"
          ]
        }
      ]
    },
    {
      "cell_type": "markdown",
      "source": [
        "## Listas"
      ],
      "metadata": {
        "id": "TAOXtxoHLe67"
      }
    },
    {
      "cell_type": "code",
      "source": [
        "nomes = ['André', 'João', 'Maria', 3, 48]"
      ],
      "metadata": {
        "id": "qcFqjCYrLo2v"
      },
      "execution_count": null,
      "outputs": []
    },
    {
      "cell_type": "code",
      "source": [
        "type(nomes)"
      ],
      "metadata": {
        "colab": {
          "base_uri": "https://localhost:8080/"
        },
        "id": "iUhPjgrQM5tX",
        "outputId": "b2b34b47-f43e-4838-95cc-b7c74ceb4398"
      },
      "execution_count": null,
      "outputs": [
        {
          "output_type": "execute_result",
          "data": {
            "text/plain": [
              "list"
            ]
          },
          "metadata": {},
          "execution_count": 2
        }
      ]
    },
    {
      "cell_type": "code",
      "source": [
        "#Indexação e slicing segue o mesmo padrão das strings\n",
        "\n",
        "print (nomes[1])\n",
        "print(type(nomes[4]))"
      ],
      "metadata": {
        "colab": {
          "base_uri": "https://localhost:8080/"
        },
        "id": "5g5Q9ZHgNUrN",
        "outputId": "c5cb3522-c945-4923-a867-2cc14c29fc56"
      },
      "execution_count": null,
      "outputs": [
        {
          "output_type": "stream",
          "name": "stdout",
          "text": [
            "João\n",
            "<class 'int'>\n"
          ]
        }
      ]
    },
    {
      "cell_type": "code",
      "source": [
        "print('Os aprovados no concurso são ' + nomes[0] + ' e ' + nomes[2]) "
      ],
      "metadata": {
        "colab": {
          "base_uri": "https://localhost:8080/"
        },
        "id": "OAcRoBd2OCDF",
        "outputId": "a658915b-a41c-4829-a014-5000193f476e"
      },
      "execution_count": null,
      "outputs": [
        {
          "output_type": "stream",
          "name": "stdout",
          "text": [
            "Os aprovados no concurso são André e Maria\n"
          ]
        }
      ]
    },
    {
      "cell_type": "markdown",
      "source": [
        "###Propriedades das listas\n",
        "\n",
        "* São mutáveis\n",
        "* Adição (concatenação)\n",
        "* Multiplicar\n",
        "* append (adicionar um novo elemento)"
      ],
      "metadata": {
        "id": "7VymaH8dPhWq"
      }
    },
    {
      "cell_type": "code",
      "source": [
        "lista01 = ['23', '34', '87']"
      ],
      "metadata": {
        "id": "wPM1Cs8iPpe6"
      },
      "execution_count": null,
      "outputs": []
    },
    {
      "cell_type": "code",
      "source": [
        "lista01"
      ],
      "metadata": {
        "colab": {
          "base_uri": "https://localhost:8080/"
        },
        "id": "PjfE51FjQGnv",
        "outputId": "72e5e7e3-0db0-40b4-97fe-4b558284981c"
      },
      "execution_count": null,
      "outputs": [
        {
          "output_type": "execute_result",
          "data": {
            "text/plain": [
              "['23', '34', '87']"
            ]
          },
          "metadata": {},
          "execution_count": 11
        }
      ]
    },
    {
      "cell_type": "code",
      "source": [
        "#Modificar o primeiro elemento da lista\n",
        "lista01[0] = '10'"
      ],
      "metadata": {
        "id": "PTOq99bJQMWq"
      },
      "execution_count": null,
      "outputs": []
    },
    {
      "cell_type": "code",
      "source": [
        "lista01"
      ],
      "metadata": {
        "colab": {
          "base_uri": "https://localhost:8080/"
        },
        "id": "a4gX0pg1QRHM",
        "outputId": "97553a94-5e91-427d-eeeb-a8e6ba3a11c5"
      },
      "execution_count": null,
      "outputs": [
        {
          "output_type": "execute_result",
          "data": {
            "text/plain": [
              "['10', '34', '87']"
            ]
          },
          "metadata": {},
          "execution_count": 13
        }
      ]
    },
    {
      "cell_type": "code",
      "source": [
        "#Concatenando listas\n",
        "\n",
        "nomes + lista01"
      ],
      "metadata": {
        "colab": {
          "base_uri": "https://localhost:8080/"
        },
        "id": "NELgfTB0Q08-",
        "outputId": "9cd8b09d-fdb5-47cb-cbd0-620d0b974a3c"
      },
      "execution_count": null,
      "outputs": [
        {
          "output_type": "execute_result",
          "data": {
            "text/plain": [
              "['André', 'João', 'Maria', 3, 48, '10', '34', '87']"
            ]
          },
          "metadata": {},
          "execution_count": 16
        }
      ]
    },
    {
      "cell_type": "code",
      "source": [
        "#Adicionar um novo elemento na lista\n",
        "\n",
        "print(lista01)\n",
        "lista01.append('30')\n",
        "print(lista01)"
      ],
      "metadata": {
        "colab": {
          "base_uri": "https://localhost:8080/"
        },
        "id": "7YyKjY9bRTk2",
        "outputId": "9f12c38b-ce94-47cf-caf3-3364dadf3a70"
      },
      "execution_count": null,
      "outputs": [
        {
          "output_type": "stream",
          "name": "stdout",
          "text": [
            "['10', '34', '87']\n",
            "['10', '34', '87', '30']\n"
          ]
        }
      ]
    },
    {
      "cell_type": "code",
      "source": [
        "#Retirar elemento da lista\n",
        "#Se usar apenas pop() remove o último elemento\n",
        "\n",
        "lista01.pop(0)\n",
        "print(lista01)"
      ],
      "metadata": {
        "colab": {
          "base_uri": "https://localhost:8080/"
        },
        "id": "pVl8tHguR5yB",
        "outputId": "cc3f2183-2dcc-4423-84da-1b68def4891f"
      },
      "execution_count": null,
      "outputs": [
        {
          "output_type": "stream",
          "name": "stdout",
          "text": [
            "['34', '87', '30']\n"
          ]
        }
      ]
    },
    {
      "cell_type": "code",
      "source": [
        "#Método \"sort\" para classificar por ordem crescente / alfabética\n",
        "idade = [10, 25, 56, 21, 32]\n",
        "nomes01 = ['Rosana', 'Ana', 'Júlia', 'Marcelo']\n",
        "\n",
        "idade.sort()\n",
        "nomes01.sort()\n",
        "\n",
        "print(idade)\n",
        "print(nomes01)"
      ],
      "metadata": {
        "colab": {
          "base_uri": "https://localhost:8080/"
        },
        "id": "fFJWMSP5TMWY",
        "outputId": "bed692c3-0645-47cc-aa23-f32ed0022937"
      },
      "execution_count": null,
      "outputs": [
        {
          "output_type": "stream",
          "name": "stdout",
          "text": [
            "[10, 21, 25, 32, 56]\n",
            "['Ana', 'Júlia', 'Marcelo', 'Rosana']\n"
          ]
        }
      ]
    },
    {
      "cell_type": "code",
      "source": [
        "#Método \"reverse\" para classificar em ordem decrescente\n",
        "\n",
        "idade.reverse()\n",
        "print(idade)"
      ],
      "metadata": {
        "colab": {
          "base_uri": "https://localhost:8080/"
        },
        "id": "hrhcLbrXT_1f",
        "outputId": "a4a92af5-806b-41c2-d97e-163d3bd222cf"
      },
      "execution_count": null,
      "outputs": [
        {
          "output_type": "stream",
          "name": "stdout",
          "text": [
            "[56, 32, 25, 21, 10]\n"
          ]
        }
      ]
    },
    {
      "cell_type": "code",
      "source": [
        "#Unir mais de uma lista em outra lista criando uma espécia de matriz\n",
        "\n",
        "lista1 = [1,2,3]\n",
        "lista2 = [3,4,5]\n",
        "lista3 = [7,8,9]\n",
        "\n",
        "matriz = [lista1, lista2, lista3]\n",
        "\n",
        "print(matriz)"
      ],
      "metadata": {
        "colab": {
          "base_uri": "https://localhost:8080/"
        },
        "id": "guV_MMD9UnJL",
        "outputId": "299f4b0f-a09d-46b5-d6a5-099b5a6182b3"
      },
      "execution_count": null,
      "outputs": [
        {
          "output_type": "stream",
          "name": "stdout",
          "text": [
            "[[1, 2, 3], [3, 4, 5], [7, 8, 9]]\n"
          ]
        }
      ]
    },
    {
      "cell_type": "code",
      "source": [
        "#Acessar um elemento específico dentro de uma lista na matriz\n",
        "\n",
        "print(matriz[1])\n",
        "\n",
        "print(matriz[1][0])"
      ],
      "metadata": {
        "colab": {
          "base_uri": "https://localhost:8080/"
        },
        "id": "BCuY8eGjVUDm",
        "outputId": "80f9b92e-d833-43fe-e0d6-3123bd0f78d6"
      },
      "execution_count": null,
      "outputs": [
        {
          "output_type": "stream",
          "name": "stdout",
          "text": [
            "[3, 4, 5]\n",
            "3\n"
          ]
        }
      ]
    },
    {
      "cell_type": "markdown",
      "source": [
        "### Dicionários"
      ],
      "metadata": {
        "id": "oXKS4W3SWGNO"
      }
    },
    {
      "cell_type": "code",
      "source": [
        "#Os dicionários apesentam em sua estrutura os pares \"chave:valor {key:value}\"\n",
        "#Os valores podem ser de qualquer tipo como: números, strings, listas...\n",
        "precos = {'PETR4': 34.27, 'VALE3': 77.81, 'ITSA4': 9.14}\n",
        "\n",
        "print (precos)\n",
        "type(precos)"
      ],
      "metadata": {
        "id": "MvofFcn-WI7t",
        "colab": {
          "base_uri": "https://localhost:8080/"
        },
        "outputId": "cc85c740-bafc-4253-b465-3e3d0b5e966d"
      },
      "execution_count": null,
      "outputs": [
        {
          "output_type": "stream",
          "name": "stdout",
          "text": [
            "{'PETR4': 34.27, 'VALE3': 77.81, 'ITSA4': 9.14}\n"
          ]
        },
        {
          "output_type": "execute_result",
          "data": {
            "text/plain": [
              "dict"
            ]
          },
          "metadata": {},
          "execution_count": 3
        }
      ]
    },
    {
      "cell_type": "code",
      "source": [
        "#Apresentando apenas as chaves\n",
        "print(precos.keys())\n",
        "\n",
        "#Apresentando apenas os valores\n",
        "print(precos.values())\n",
        "\n",
        "#Apresentando os pares\n",
        "print(precos.items())"
      ],
      "metadata": {
        "colab": {
          "base_uri": "https://localhost:8080/"
        },
        "id": "IhPOTr79Wok9",
        "outputId": "e2281b67-d65e-4c9e-fe54-177d361685f4"
      },
      "execution_count": null,
      "outputs": [
        {
          "output_type": "stream",
          "name": "stdout",
          "text": [
            "dict_keys(['PETR4', 'VALE3', 'ITSA4'])\n",
            "dict_values([34.27, 77.81, 9.14])\n",
            "dict_items([('PETR4', 34.27), ('VALE3', 77.81), ('ITSA4', 9.14)])\n"
          ]
        }
      ]
    },
    {
      "cell_type": "code",
      "source": [
        "#Indexação\n",
        "print(precos['PETR4'])"
      ],
      "metadata": {
        "colab": {
          "base_uri": "https://localhost:8080/"
        },
        "id": "Ewl69TQFXgv1",
        "outputId": "90440a5f-168b-4e99-b1aa-173b5c6ea78b"
      },
      "execution_count": null,
      "outputs": [
        {
          "output_type": "stream",
          "name": "stdout",
          "text": [
            "34.27\n"
          ]
        }
      ]
    },
    {
      "cell_type": "code",
      "source": [
        "#São mutáveis.\n",
        "#Mudar um determinado valor dentro do dicionário\n",
        "precos['VALE3'] = 80\n",
        "print(precos)"
      ],
      "metadata": {
        "colab": {
          "base_uri": "https://localhost:8080/"
        },
        "id": "qw8ECp31YMXe",
        "outputId": "c0fc9dc7-89e5-4d6f-85df-8ccc2b672f7b"
      },
      "execution_count": null,
      "outputs": [
        {
          "output_type": "stream",
          "name": "stdout",
          "text": [
            "{'PETR4': 34.27, 'VALE3': 80, 'ITSA4': 9.14}\n"
          ]
        }
      ]
    },
    {
      "cell_type": "code",
      "source": [
        "#Adicionar um novo elemento ao dicionário\n",
        "precos['GOAU4'] = 20\n",
        "\n",
        "print(precos)"
      ],
      "metadata": {
        "colab": {
          "base_uri": "https://localhost:8080/"
        },
        "id": "fN5HzeJ7YtlC",
        "outputId": "d6050733-f090-4d83-f4d0-4baa7ee34380"
      },
      "execution_count": null,
      "outputs": [
        {
          "output_type": "stream",
          "name": "stdout",
          "text": [
            "{'PETR4': 34.27, 'VALE3': 80, 'ITSA4': 9.14, 'GOAU4': 20}\n"
          ]
        }
      ]
    },
    {
      "cell_type": "markdown",
      "source": [
        "##Tuplas"
      ],
      "metadata": {
        "id": "AXpva-X1YOaz"
      }
    },
    {
      "cell_type": "code",
      "source": [
        "tupla = (1,1,2,2,4,5,10)\n",
        "\n",
        "print(tupla)\n",
        "print(type(tupla))\n",
        "print(len(tupla))\n"
      ],
      "metadata": {
        "colab": {
          "base_uri": "https://localhost:8080/"
        },
        "id": "4RnZbUDiZaRw",
        "outputId": "71131381-34c5-4236-ab8b-24f2a02946bf"
      },
      "execution_count": null,
      "outputs": [
        {
          "output_type": "stream",
          "name": "stdout",
          "text": [
            "(1, 1, 2, 2, 4, 5, 10)\n",
            "<class 'tuple'>\n",
            "7\n"
          ]
        }
      ]
    },
    {
      "cell_type": "code",
      "source": [
        "#Indexação e slicing da mesma forma que as listas\n",
        "\n",
        "print(tupla[0])\n",
        "print(tupla[1:4])"
      ],
      "metadata": {
        "colab": {
          "base_uri": "https://localhost:8080/"
        },
        "id": "eFDJGa6GaBX2",
        "outputId": "6ef5922b-c247-4842-8c37-f254fca0557f"
      },
      "execution_count": null,
      "outputs": [
        {
          "output_type": "stream",
          "name": "stdout",
          "text": [
            "1\n",
            "(1, 2, 2)\n"
          ]
        }
      ]
    },
    {
      "cell_type": "code",
      "source": [
        "#Verificar uma posição (indice)\n",
        "tupla.index(10)"
      ],
      "metadata": {
        "colab": {
          "base_uri": "https://localhost:8080/"
        },
        "id": "u9-gBR4papzf",
        "outputId": "e8d89887-9a97-42af-ddab-bab24a608460"
      },
      "execution_count": null,
      "outputs": [
        {
          "output_type": "execute_result",
          "data": {
            "text/plain": [
              "6"
            ]
          },
          "metadata": {},
          "execution_count": 20
        }
      ]
    },
    {
      "cell_type": "code",
      "source": [
        "#Método para contagem de itens iguais\n",
        "\n",
        "tupla.count(1)"
      ],
      "metadata": {
        "colab": {
          "base_uri": "https://localhost:8080/"
        },
        "id": "AJq2aLHTbPgc",
        "outputId": "fafaa549-3187-405c-e576-1154ebe5bf16"
      },
      "execution_count": null,
      "outputs": [
        {
          "output_type": "execute_result",
          "data": {
            "text/plain": [
              "2"
            ]
          },
          "metadata": {},
          "execution_count": 21
        }
      ]
    },
    {
      "cell_type": "markdown",
      "source": [
        "## Conjuntos\n",
        "\n",
        "### Para criar conjunto usamos o método set()"
      ],
      "metadata": {
        "id": "VyZ1XoBcbuMP"
      }
    },
    {
      "cell_type": "code",
      "source": [
        "conjunto = set()\n",
        "\n",
        "print(conjunto)\n",
        "print(type(conjunto))"
      ],
      "metadata": {
        "colab": {
          "base_uri": "https://localhost:8080/"
        },
        "id": "3w2gI07PbyYG",
        "outputId": "d005b0f5-89c2-4b20-abed-1232c4f3289d"
      },
      "execution_count": null,
      "outputs": [
        {
          "output_type": "stream",
          "name": "stdout",
          "text": [
            "set()\n",
            "<class 'set'>\n"
          ]
        }
      ]
    },
    {
      "cell_type": "code",
      "source": [
        "#Adicionar elemento ao conjunto\n",
        "#Ele não repete elementos\n",
        "#Não é indexável\n",
        "\n",
        "conjunto.add(9)\n",
        "print(conjunto)\n",
        "print(len(conjunto))"
      ],
      "metadata": {
        "colab": {
          "base_uri": "https://localhost:8080/"
        },
        "id": "FSrzY0-Acsj2",
        "outputId": "f50bcddf-5d6e-4530-cc48-e13368c8d419"
      },
      "execution_count": null,
      "outputs": [
        {
          "output_type": "stream",
          "name": "stdout",
          "text": [
            "{9}\n",
            "1\n"
          ]
        }
      ]
    },
    {
      "cell_type": "markdown",
      "source": [
        "# 03.Condicionais e Loops"
      ],
      "metadata": {
        "id": "b8G8FDDUeoDh"
      }
    },
    {
      "cell_type": "markdown",
      "source": [
        "## Se então"
      ],
      "metadata": {
        "id": "0g7mynwZ30h0"
      }
    },
    {
      "cell_type": "code",
      "source": [
        "preco_azul = 35\n",
        "preco_alvo = 30\n",
        "\n",
        "if preco_azul < 30:\n",
        "  print('Compre! preço descontado')\n",
        "elif preco_azul < 33:\n",
        "  print('Em queda. Aguarde mais um pouco')\n",
        "else:\n",
        "  print('Espere!')"
      ],
      "metadata": {
        "colab": {
          "base_uri": "https://localhost:8080/"
        },
        "id": "QwwHmrHdev57",
        "outputId": "fdbbdb42-5e93-4df4-9703-cb67939747cf"
      },
      "execution_count": null,
      "outputs": [
        {
          "output_type": "stream",
          "name": "stdout",
          "text": [
            "Espere!\n"
          ]
        }
      ]
    },
    {
      "cell_type": "markdown",
      "source": [
        "### for"
      ],
      "metadata": {
        "id": "pRcT7ehU36ll"
      }
    },
    {
      "cell_type": "code",
      "source": [
        "#Estrutura de repetição \n",
        "\n",
        "lista_nomes = ['Joana', 'André', 'Rosana', 'Ana']"
      ],
      "metadata": {
        "id": "dmQZ4H8qpaIg"
      },
      "execution_count": null,
      "outputs": []
    },
    {
      "cell_type": "code",
      "source": [
        "for item in lista_nomes:\n",
        "  print(item)"
      ],
      "metadata": {
        "colab": {
          "base_uri": "https://localhost:8080/"
        },
        "id": "at888jfip_-t",
        "outputId": "f0a557be-b105-4aa3-fb2c-91efe016d55b"
      },
      "execution_count": null,
      "outputs": [
        {
          "output_type": "stream",
          "name": "stdout",
          "text": [
            "Joana\n",
            "André\n",
            "Rosana\n",
            "Ana\n"
          ]
        }
      ]
    },
    {
      "cell_type": "code",
      "source": [
        "lista_ativos = ['PETR4.SA', 'ITSA4.SA', 'VALE3.SA']\n"
      ],
      "metadata": {
        "id": "BBa16CTWqtrM"
      },
      "execution_count": null,
      "outputs": []
    },
    {
      "cell_type": "code",
      "source": [
        "#concatenando cada elemento com a frase.\n",
        "\n",
        "for i in lista_ativos:\n",
        "  print(i,'é um ativo da B3.')"
      ],
      "metadata": {
        "colab": {
          "base_uri": "https://localhost:8080/"
        },
        "id": "FRJ6D1nvrpFT",
        "outputId": "7215a553-35dd-4e8b-e050-c804a86ffb0b"
      },
      "execution_count": null,
      "outputs": [
        {
          "output_type": "stream",
          "name": "stdout",
          "text": [
            "PETR4.SA é um ativo da B3.\n",
            "ITSA4.SA é um ativo da B3.\n",
            "VALE3.SA é um ativo da B3.\n"
          ]
        }
      ]
    },
    {
      "cell_type": "code",
      "source": [
        "ativos01 = {'PETR4.SA': 30, 'ITSA4.SA': 10, 'VALE3.SA': 80}"
      ],
      "metadata": {
        "id": "50KZBV5jt2uW"
      },
      "execution_count": null,
      "outputs": []
    },
    {
      "cell_type": "code",
      "source": [
        "#Converter para lista a fim de usar a indexação\n",
        "x = list(ativos01.keys())\n",
        "y = list(ativos01.values())\n",
        "\n",
        "#concatenando uma frase.\n",
        "for atv in range(0,len(ativos01)):\n",
        "  print(x[atv], 'está com o valor de',y[atv])"
      ],
      "metadata": {
        "colab": {
          "base_uri": "https://localhost:8080/"
        },
        "id": "fBqOv5CjuYMH",
        "outputId": "151b1357-4782-4683-dbe2-433456131a73"
      },
      "execution_count": null,
      "outputs": [
        {
          "output_type": "stream",
          "name": "stdout",
          "text": [
            "PETR4.SA está com o valor de 30\n",
            "ITSA4.SA está com o valor de 10\n",
            "VALE3.SA está com o valor de 80\n"
          ]
        }
      ]
    },
    {
      "cell_type": "markdown",
      "source": [
        "### While"
      ],
      "metadata": {
        "id": "6nWgKkrh4Alz"
      }
    },
    {
      "cell_type": "code",
      "source": [
        "#round(numero,quantidade de digitos) usado para arredondar valores.\n",
        "preco_weg = 30\n",
        "\n",
        "while preco_weg < 39:\n",
        "  print('Ainda não atingiu o preço alvo. Aguarde! o preço atual é: ', round(preco_weg,2))\n",
        "  #criando condição para o loop não ficar infinito\n",
        "  preco_weg = preco_weg * 1.01\n",
        "\n",
        "else:\n",
        "  print('Preço alvo atingido, hora de vender! Preço de venda: ',round(preco_weg,2))\n"
      ],
      "metadata": {
        "colab": {
          "base_uri": "https://localhost:8080/"
        },
        "id": "K1eBfY_E4Cwf",
        "outputId": "783d9007-196b-44c3-a6d7-9fa0c3d5070a"
      },
      "execution_count": null,
      "outputs": [
        {
          "output_type": "stream",
          "name": "stdout",
          "text": [
            "Ainda não atingiu o preço alvo. Aguarde! o preço atual é:  30\n",
            "Ainda não atingiu o preço alvo. Aguarde! o preço atual é:  30.3\n",
            "Ainda não atingiu o preço alvo. Aguarde! o preço atual é:  30.6\n",
            "Ainda não atingiu o preço alvo. Aguarde! o preço atual é:  30.91\n",
            "Ainda não atingiu o preço alvo. Aguarde! o preço atual é:  31.22\n",
            "Ainda não atingiu o preço alvo. Aguarde! o preço atual é:  31.53\n",
            "Ainda não atingiu o preço alvo. Aguarde! o preço atual é:  31.85\n",
            "Ainda não atingiu o preço alvo. Aguarde! o preço atual é:  32.16\n",
            "Ainda não atingiu o preço alvo. Aguarde! o preço atual é:  32.49\n",
            "Ainda não atingiu o preço alvo. Aguarde! o preço atual é:  32.81\n",
            "Ainda não atingiu o preço alvo. Aguarde! o preço atual é:  33.14\n",
            "Ainda não atingiu o preço alvo. Aguarde! o preço atual é:  33.47\n",
            "Ainda não atingiu o preço alvo. Aguarde! o preço atual é:  33.8\n",
            "Ainda não atingiu o preço alvo. Aguarde! o preço atual é:  34.14\n",
            "Ainda não atingiu o preço alvo. Aguarde! o preço atual é:  34.48\n",
            "Ainda não atingiu o preço alvo. Aguarde! o preço atual é:  34.83\n",
            "Ainda não atingiu o preço alvo. Aguarde! o preço atual é:  35.18\n",
            "Ainda não atingiu o preço alvo. Aguarde! o preço atual é:  35.53\n",
            "Ainda não atingiu o preço alvo. Aguarde! o preço atual é:  35.88\n",
            "Ainda não atingiu o preço alvo. Aguarde! o preço atual é:  36.24\n",
            "Ainda não atingiu o preço alvo. Aguarde! o preço atual é:  36.61\n",
            "Ainda não atingiu o preço alvo. Aguarde! o preço atual é:  36.97\n",
            "Ainda não atingiu o preço alvo. Aguarde! o preço atual é:  37.34\n",
            "Ainda não atingiu o preço alvo. Aguarde! o preço atual é:  37.71\n",
            "Ainda não atingiu o preço alvo. Aguarde! o preço atual é:  38.09\n",
            "Ainda não atingiu o preço alvo. Aguarde! o preço atual é:  38.47\n",
            "Ainda não atingiu o preço alvo. Aguarde! o preço atual é:  38.86\n",
            "Preço alvo atingido, hora de vender! Preço de venda:  39.25\n"
          ]
        }
      ]
    },
    {
      "cell_type": "code",
      "source": [
        "#Verificando a condição de investimento de um cliente.\n",
        "\n",
        "investimento_unitario = 0\n",
        "investimento_total = 0\n",
        "\n",
        "while investimento_total < 10000:\n",
        "  investimento_unitario = int(input('Digite o valor investido na operação: '))\n",
        "  investimento_total = investimento_total + investimento_unitario\n",
        "\n",
        "else:\n",
        "  print('Seu limite para investimento foi atingido.')\n",
        "  print('Você execedeu R$',investimento_total - 10000, 'do valor previsto.')\n",
        "\n",
        "print('Seu investimento total foi de R$',investimento_total)\n"
      ],
      "metadata": {
        "colab": {
          "base_uri": "https://localhost:8080/"
        },
        "id": "9zst9Bja6vf5",
        "outputId": "4147ad3a-b2db-4448-efc7-72de6aabf8b6"
      },
      "execution_count": null,
      "outputs": [
        {
          "output_type": "stream",
          "name": "stdout",
          "text": [
            "Digite o valor investido na operação: 10000\n",
            "Seu limite para investimento foi atingido.\n",
            "Você execedeu R$ 0 do valor previsto.\n",
            "Seu investimento total foi de R$ 10000\n"
          ]
        }
      ]
    },
    {
      "cell_type": "markdown",
      "source": [
        "### Range"
      ],
      "metadata": {
        "id": "ByoWT_sQMi8o"
      }
    },
    {
      "cell_type": "code",
      "source": [
        "print(range(0,11))\n",
        "print(list(range(0,11)))"
      ],
      "metadata": {
        "colab": {
          "base_uri": "https://localhost:8080/"
        },
        "id": "viRPNUDkPvXd",
        "outputId": "c8fc8138-094c-40e9-b6a4-e9d3ae5e109e"
      },
      "execution_count": null,
      "outputs": [
        {
          "output_type": "stream",
          "name": "stdout",
          "text": [
            "range(0, 11)\n",
            "[0, 1, 2, 3, 4, 5, 6, 7, 8, 9, 10]\n"
          ]
        }
      ]
    },
    {
      "cell_type": "code",
      "source": [
        "for i in range(0,11):\n",
        "  print(i)"
      ],
      "metadata": {
        "colab": {
          "base_uri": "https://localhost:8080/"
        },
        "id": "43z7xOu5QAPF",
        "outputId": "71b3c5f0-c347-490a-f794-313628770def"
      },
      "execution_count": null,
      "outputs": [
        {
          "output_type": "stream",
          "name": "stdout",
          "text": [
            "0\n",
            "1\n",
            "2\n",
            "3\n",
            "4\n",
            "5\n",
            "6\n",
            "7\n",
            "8\n",
            "9\n",
            "10\n"
          ]
        }
      ]
    },
    {
      "cell_type": "markdown",
      "source": [
        "### Enumerate"
      ],
      "metadata": {
        "id": "MzBt1N0bQXv_"
      }
    },
    {
      "cell_type": "code",
      "source": [
        "lista_ativos = ['PETR4.SA', 'ITSA4.SA', 'VALE3.SA']\n",
        "\n",
        "enumerate(lista_ativos)\n",
        "\n",
        "print(list(enumerate(lista_ativos)))"
      ],
      "metadata": {
        "colab": {
          "base_uri": "https://localhost:8080/"
        },
        "id": "L-cLeoWdQaRe",
        "outputId": "2342576d-bb3e-4281-eb05-bdee470e0f7b"
      },
      "execution_count": null,
      "outputs": [
        {
          "output_type": "stream",
          "name": "stdout",
          "text": [
            "[(0, 'PETR4.SA'), (1, 'ITSA4.SA'), (2, 'VALE3.SA')]\n"
          ]
        }
      ]
    },
    {
      "cell_type": "code",
      "source": [
        "acao = 'PETR4'\n",
        "\n",
        "list(enumerate(acao))"
      ],
      "metadata": {
        "colab": {
          "base_uri": "https://localhost:8080/"
        },
        "id": "iTK45xsuQroc",
        "outputId": "8481a572-f138-41c5-8dc2-5f9006062cb1"
      },
      "execution_count": null,
      "outputs": [
        {
          "output_type": "execute_result",
          "data": {
            "text/plain": [
              "[(0, 'P'), (1, 'E'), (2, 'T'), (3, 'R'), (4, '4')]"
            ]
          },
          "metadata": {},
          "execution_count": 15
        }
      ]
    },
    {
      "cell_type": "code",
      "source": [
        "for i, letra in enumerate(acao):\n",
        "  print('No índice', i, 'o caractere é', letra)"
      ],
      "metadata": {
        "colab": {
          "base_uri": "https://localhost:8080/"
        },
        "id": "ECfHssJ_RySB",
        "outputId": "766c55cd-9501-4792-8e88-a3b7eea71183"
      },
      "execution_count": null,
      "outputs": [
        {
          "output_type": "stream",
          "name": "stdout",
          "text": [
            "No índice 0 o caractere é P\n",
            "No índice 1 o caractere é E\n",
            "No índice 2 o caractere é T\n",
            "No índice 3 o caractere é R\n",
            "No índice 4 o caractere é 4\n"
          ]
        }
      ]
    },
    {
      "cell_type": "markdown",
      "source": [
        "### Zip & in"
      ],
      "metadata": {
        "id": "kHCTc6iETDus"
      }
    },
    {
      "cell_type": "code",
      "source": [
        "acoes = ['PETR4', 'WEGE3', 'MGLU3', 'JHSF3', 'GOAU4']\n",
        "setores = ['Petróleo', 'Motores', 'Varejo', 'Construção', 'Metalurgia']\n",
        "\n",
        "zip(acoes,setores)\n",
        "\n",
        "list(zip(acoes,setores))"
      ],
      "metadata": {
        "colab": {
          "base_uri": "https://localhost:8080/"
        },
        "id": "dcNnZL3CTHQr",
        "outputId": "e0d6c79e-13e1-4345-ae58-3365ec87695a"
      },
      "execution_count": null,
      "outputs": [
        {
          "output_type": "execute_result",
          "data": {
            "text/plain": [
              "[('PETR4', 'Petróleo'),\n",
              " ('WEGE3', 'Motores'),\n",
              " ('MGLU3', 'Varejo'),\n",
              " ('JHSF3', 'Construção'),\n",
              " ('GOAU4', 'Metalurgia')]"
            ]
          },
          "metadata": {},
          "execution_count": 29
        }
      ]
    },
    {
      "cell_type": "code",
      "source": [
        "for acao, setor in list(zip(acoes,setores)):\n",
        "  print('O papel',acao, 'pertence ao setor', setor)"
      ],
      "metadata": {
        "colab": {
          "base_uri": "https://localhost:8080/"
        },
        "id": "9SkHirTHUe6P",
        "outputId": "c110525c-0752-4fec-e70b-e96204de0100"
      },
      "execution_count": null,
      "outputs": [
        {
          "output_type": "stream",
          "name": "stdout",
          "text": [
            "O papel PETR4 pertence ao setor Petróleo\n",
            "O papel WEGE3 pertence ao setor Motores\n",
            "O papel MGLU3 pertence ao setor Varejo\n",
            "O papel JHSF3 pertence ao setor Construção\n",
            "O papel GOAU4 pertence ao setor Metalurgia\n"
          ]
        }
      ]
    },
    {
      "cell_type": "code",
      "source": [
        "#Inserindo variáveis dentro das strings\n",
        "\n",
        "print(f'O papel {acao} está no setor de {setor}')"
      ],
      "metadata": {
        "colab": {
          "base_uri": "https://localhost:8080/"
        },
        "id": "aFv9ZF1MVxhK",
        "outputId": "57dee5e7-be9e-4e62-d3f9-412aa46d51d6"
      },
      "execution_count": null,
      "outputs": [
        {
          "output_type": "stream",
          "name": "stdout",
          "text": [
            "O papel GOAU4 está no setor de Metalurgia\n"
          ]
        }
      ]
    }
  ]
}