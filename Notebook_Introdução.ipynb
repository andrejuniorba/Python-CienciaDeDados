{
  "nbformat": 4,
  "nbformat_minor": 0,
  "metadata": {
    "colab": {
      "name": "Notebook - Introdução.ipynb",
      "provenance": [],
      "collapsed_sections": [
        "G2bekgOR545Z",
        "uJvMRZgS7EuQ",
        "KMOekqo94Qm-"
      ],
      "authorship_tag": "ABX9TyPOEahzcTrSf9284XeJsTky",
      "include_colab_link": true
    },
    "kernelspec": {
      "name": "python3",
      "display_name": "Python 3"
    },
    "language_info": {
      "name": "python"
    }
  },
  "cells": [
    {
      "cell_type": "markdown",
      "metadata": {
        "id": "view-in-github",
        "colab_type": "text"
      },
      "source": [
        "<a href=\"https://colab.research.google.com/github/andrejuniorba/Python-CienciaDeDados/blob/main/Notebook_Introdu%C3%A7%C3%A3o.ipynb\" target=\"_parent\"><img src=\"https://colab.research.google.com/assets/colab-badge.svg\" alt=\"Open In Colab\"/></a>"
      ]
    },
    {
      "cell_type": "markdown",
      "source": [
        "# **Data Science com Python**\n",
        "\n"
      ],
      "metadata": {
        "id": "5QHnDeEp2YCe"
      }
    },
    {
      "cell_type": "markdown",
      "source": [
        "Imersão no mundo do Data Science, unindo o fundamental da teoria com a prática em Python."
      ],
      "metadata": {
        "id": "aHEHOOgC5JN9"
      }
    },
    {
      "cell_type": "markdown",
      "source": [
        "<center><img src = \"http://assets.stickpng.com/images/5848152fcef1014c0b5e4967.png\" width=\"250\">"
      ],
      "metadata": {
        "id": "vyNWtDFD1xwd"
      }
    },
    {
      "cell_type": "markdown",
      "source": [
        "# 01. Elementos básicos"
      ],
      "metadata": {
        "id": "CxEl1EcAAn_6"
      }
    },
    {
      "cell_type": "markdown",
      "source": [
        "## Hello World\n"
      ],
      "metadata": {
        "id": "G2bekgOR545Z"
      }
    },
    {
      "cell_type": "code",
      "source": [
        "#função \"print\" para imprimir na tela a mensagem.\n",
        "\n",
        "print(\"Olá mundo!\")"
      ],
      "metadata": {
        "colab": {
          "base_uri": "https://localhost:8080/"
        },
        "id": "y4T2KKeE6lkG",
        "outputId": "e74e1171-056f-49ba-a4c7-5d18d95ea52b"
      },
      "execution_count": null,
      "outputs": [
        {
          "output_type": "stream",
          "name": "stdout",
          "text": [
            "Olá mundo\n"
          ]
        }
      ]
    },
    {
      "cell_type": "code",
      "source": [
        "print(\"Meu nome é André Luz.\")"
      ],
      "metadata": {
        "colab": {
          "base_uri": "https://localhost:8080/"
        },
        "id": "Tro9VSkR6rH-",
        "outputId": "865ef201-234e-4b54-a330-4661b9cc5f8d"
      },
      "execution_count": null,
      "outputs": [
        {
          "output_type": "stream",
          "name": "stdout",
          "text": [
            "Meu nome é André Luz.\n"
          ]
        }
      ]
    },
    {
      "cell_type": "markdown",
      "source": [
        "# Tipos de Variáveis\n",
        "\n",
        "* integer (int) = 2\n",
        "\n",
        "* float = 1.432\n",
        "\n",
        "* strings (str) = \"Petrobrás\" ou 'Petrobrás'\n",
        "\n",
        "* boolean (bool) = True ou False"
      ],
      "metadata": {
        "id": "uJvMRZgS7EuQ"
      }
    },
    {
      "cell_type": "code",
      "source": [
        "nome = 'André'\n",
        "altura = 1.77\n",
        "idade = 40\n",
        "\n",
        "type(nome)"
      ],
      "metadata": {
        "id": "KsTBRER1_xHk",
        "colab": {
          "base_uri": "https://localhost:8080/"
        },
        "outputId": "842eac4a-7755-4789-b2f5-061f4fc21ecf"
      },
      "execution_count": null,
      "outputs": [
        {
          "output_type": "execute_result",
          "data": {
            "text/plain": [
              "str"
            ]
          },
          "metadata": {},
          "execution_count": 3
        }
      ]
    },
    {
      "cell_type": "code",
      "source": [
        "type(altura)"
      ],
      "metadata": {
        "colab": {
          "base_uri": "https://localhost:8080/"
        },
        "id": "6byLtT6lxJbn",
        "outputId": "0e5e4a24-9064-4574-f6bd-3e6cb5c253e1"
      },
      "execution_count": null,
      "outputs": [
        {
          "output_type": "execute_result",
          "data": {
            "text/plain": [
              "float"
            ]
          },
          "metadata": {},
          "execution_count": 4
        }
      ]
    },
    {
      "cell_type": "code",
      "source": [
        "type(idade)"
      ],
      "metadata": {
        "colab": {
          "base_uri": "https://localhost:8080/"
        },
        "id": "QrsPDepvxNYW",
        "outputId": "30bc01c8-eba1-41d0-f2a9-5bde4c7910b3"
      },
      "execution_count": null,
      "outputs": [
        {
          "output_type": "execute_result",
          "data": {
            "text/plain": [
              "int"
            ]
          },
          "metadata": {},
          "execution_count": 5
        }
      ]
    },
    {
      "cell_type": "code",
      "source": [
        "print(f\"Meu nome é {nome}\")\n",
        "print(\"Tenho a idade de {} anos\".format(idade))\n",
        "print(\"Minha altura em metros é {} \".format(altura))"
      ],
      "metadata": {
        "colab": {
          "base_uri": "https://localhost:8080/"
        },
        "id": "EjIlYDdPxQ0p",
        "outputId": "a8617e73-81da-4983-cab8-4ba99b3c8315"
      },
      "execution_count": null,
      "outputs": [
        {
          "output_type": "stream",
          "name": "stdout",
          "text": [
            "Meu nome é André\n",
            "Tenho a idade de 40 anos\n",
            "Minha altura em metros é 1.77 \n"
          ]
        }
      ]
    },
    {
      "cell_type": "markdown",
      "source": [
        "## Operadores Aritméticos"
      ],
      "metadata": {
        "id": "45Ulmc-izH9T"
      }
    },
    {
      "cell_type": "markdown",
      "source": [
        "* Soma +\n",
        "\n",
        "* Subtração -\n",
        "\n",
        "* Multiplicação *\n",
        "\n",
        "* Divisão /\n",
        "\n",
        "* Resto da divisão %\n",
        "\n",
        "* Divisão (Apenas a parte inteira) //\n",
        "\n",
        "* Potência **"
      ],
      "metadata": {
        "id": "ZC1eGRDIzNZm"
      }
    },
    {
      "cell_type": "code",
      "source": [
        "a = 5\n",
        "b = 4\n",
        "\n",
        "print(a + b)\n",
        "print(a - b)\n",
        "print(a * b)\n",
        "print(a // b)\n",
        "print(a / b)\n",
        "print(a % b)\n",
        "print(a**3)"
      ],
      "metadata": {
        "colab": {
          "base_uri": "https://localhost:8080/"
        },
        "id": "n-Ysv9hLzjee",
        "outputId": "7c5bea22-6287-4822-ac4b-35d4e5d2652f"
      },
      "execution_count": null,
      "outputs": [
        {
          "output_type": "stream",
          "name": "stdout",
          "text": [
            "9\n",
            "1\n",
            "20\n",
            "1\n",
            "1.25\n",
            "1\n",
            "125\n"
          ]
        }
      ]
    },
    {
      "cell_type": "markdown",
      "source": [
        "# Operadores lógicos\n",
        "\n",
        "### Comparativos:\n",
        "\n",
        "* Igualdade ==\n",
        "\n",
        "* Diferente !=\n",
        "\n",
        "* Menor que <\n",
        "\n",
        "* Maior que >\n",
        "\n",
        "* Menor ou igual <=\n",
        "\n",
        "* Maior ou igual >=\n",
        "\n",
        "### Condicionais:\n",
        "\n",
        "* and\n",
        "* or"
      ],
      "metadata": {
        "id": "KMOekqo94Qm-"
      }
    },
    {
      "cell_type": "code",
      "source": [
        "e = 10\n",
        "f = 14\n",
        "g = 9\n",
        "h = 12\n",
        "\n",
        "print(e == f)\n",
        "print(e != f)\n",
        "print(e < f)\n",
        "print(e > f)\n",
        "print(e >= f)\n",
        "print(e <= f)"
      ],
      "metadata": {
        "colab": {
          "base_uri": "https://localhost:8080/"
        },
        "id": "ayDWvRu94ty2",
        "outputId": "7a36ab38-5345-4930-d12e-10574a1cd181"
      },
      "execution_count": null,
      "outputs": [
        {
          "output_type": "stream",
          "name": "stdout",
          "text": [
            "False\n",
            "True\n",
            "True\n",
            "False\n",
            "False\n",
            "True\n"
          ]
        }
      ]
    },
    {
      "cell_type": "code",
      "source": [
        "print(e > f and g < h)\n",
        "print(e > f or g < h)"
      ],
      "metadata": {
        "colab": {
          "base_uri": "https://localhost:8080/"
        },
        "id": "TF3FFVCO6l2m",
        "outputId": "0fd5caad-a569-48ad-ff07-c890a97de956"
      },
      "execution_count": null,
      "outputs": [
        {
          "output_type": "stream",
          "name": "stdout",
          "text": [
            "False\n",
            "True\n"
          ]
        }
      ]
    },
    {
      "cell_type": "markdown",
      "source": [
        "# 02. Estruturas básicas para armazenamento de dados"
      ],
      "metadata": {
        "id": "x7yfM2KKANSY"
      }
    },
    {
      "cell_type": "markdown",
      "source": [
        "## Strings"
      ],
      "metadata": {
        "id": "2SyFJ54GAYnN"
      }
    },
    {
      "cell_type": "code",
      "source": [
        "manchete = 'Petrobrás é uma empresa de capital aberto'"
      ],
      "metadata": {
        "id": "esXJ2UgNBGF9"
      },
      "execution_count": null,
      "outputs": []
    },
    {
      "cell_type": "code",
      "source": [
        "print(manchete)"
      ],
      "metadata": {
        "colab": {
          "base_uri": "https://localhost:8080/"
        },
        "id": "K2oSCBBcCPHx",
        "outputId": "ed1e407e-f770-42e5-fd1c-c26eeb921099"
      },
      "execution_count": null,
      "outputs": [
        {
          "output_type": "stream",
          "name": "stdout",
          "text": [
            "Petrobrás é uma empresa de capital aberto\n"
          ]
        }
      ]
    },
    {
      "cell_type": "code",
      "source": [
        "type(manchete)"
      ],
      "metadata": {
        "colab": {
          "base_uri": "https://localhost:8080/"
        },
        "id": "8AZdD6O3CeR0",
        "outputId": "22098e01-e388-45dc-eea2-130bae9268eb"
      },
      "execution_count": null,
      "outputs": [
        {
          "output_type": "execute_result",
          "data": {
            "text/plain": [
              "str"
            ]
          },
          "metadata": {},
          "execution_count": 53
        }
      ]
    },
    {
      "cell_type": "code",
      "source": [
        "#Comprimento (length) da string\n",
        "\n",
        "len(manchete)"
      ],
      "metadata": {
        "colab": {
          "base_uri": "https://localhost:8080/"
        },
        "id": "Bj1UWI-3CkXL",
        "outputId": "acb815e8-18c5-4e81-ca0e-a3dd78d1e0fb"
      },
      "execution_count": null,
      "outputs": [
        {
          "output_type": "execute_result",
          "data": {
            "text/plain": [
              "41"
            ]
          },
          "metadata": {},
          "execution_count": 51
        }
      ]
    },
    {
      "cell_type": "code",
      "source": [
        "#Indexação\n",
        "print(manchete[0])\n",
        "print(manchete[-1])\n",
        "\n",
        "#Slicing (1º é inclusivo e o 2º é exclusivo)\n",
        "print(manchete[:-1])\n",
        "print(manchete[0:9])\n",
        "print(manchete[:9])\n",
        "print(manchete[0:])\n",
        "\n",
        "#apresentação de 2 em 2 caracteres\n",
        "print(manchete[::2])\n",
        "\n",
        "#Inverter a frase\n",
        "print(manchete[::-1])"
      ],
      "metadata": {
        "colab": {
          "base_uri": "https://localhost:8080/"
        },
        "id": "I5drWr5_DK86",
        "outputId": "be2521f5-1281-490c-9b95-f17ac616f9aa"
      },
      "execution_count": null,
      "outputs": [
        {
          "output_type": "stream",
          "name": "stdout",
          "text": [
            "P\n",
            "o\n",
            "Petrobrás é uma empresa de capital abert\n",
            "Petrobrás\n",
            "Petrobrás\n",
            "Petrobrás é uma empresa de capital aberto\n",
            "Ptorséuaepead aia bro\n",
            "otreba latipac ed aserpme amu é sárborteP\n"
          ]
        }
      ]
    },
    {
      "cell_type": "markdown",
      "source": [
        "### Propriedades das strings\n",
        "\n",
        "* Imutável (não é possível mudar elementos)\n",
        "* Adição (concatenar)\n",
        "* Modificar para Maiúscula (uppercase) ou minúscula (lowercase)"
      ],
      "metadata": {
        "id": "D1PBKlH5KfEf"
      }
    },
    {
      "cell_type": "code",
      "source": [
        "texto1 = 'André'\n",
        "texto2 = ' tem 40 anos.'\n",
        "frase = texto1 + texto2\n",
        "\n",
        "print(frase)\n",
        "print(frase.upper())\n",
        "print(frase.lower())"
      ],
      "metadata": {
        "colab": {
          "base_uri": "https://localhost:8080/"
        },
        "id": "pKFO9kMjKlbl",
        "outputId": "15e7e8f8-04e3-4d73-f9c5-9c723a9fb7a7"
      },
      "execution_count": null,
      "outputs": [
        {
          "output_type": "stream",
          "name": "stdout",
          "text": [
            "André tem 40 anos.\n",
            "ANDRÉ TEM 40 ANOS.\n",
            "andré tem 40 anos.\n"
          ]
        }
      ]
    },
    {
      "cell_type": "code",
      "source": [
        "#Método split => Separar as palavras dentro de uma string\n",
        "#Adicionar em uma lista\n",
        "\n",
        "print(frase.split())\n",
        "\n",
        "#adicionar quebra em um ponto específico. Neste caso sempre onde tiver a letra \"e\"\n",
        "print(frase.split('e'))"
      ],
      "metadata": {
        "colab": {
          "base_uri": "https://localhost:8080/"
        },
        "id": "Tr9qZQZ2NYdQ",
        "outputId": "b87dae47-ce08-463c-94d8-c268367d3227"
      },
      "execution_count": null,
      "outputs": [
        {
          "output_type": "stream",
          "name": "stdout",
          "text": [
            "['André', 'tem', '40', 'anos.']\n",
            "['André t', 'm 40 anos.']\n"
          ]
        }
      ]
    },
    {
      "cell_type": "markdown",
      "source": [
        "## Listas"
      ],
      "metadata": {
        "id": "TAOXtxoHLe67"
      }
    },
    {
      "cell_type": "code",
      "source": [
        "nomes = ['André', 'João', 'Maria', 3, 48]"
      ],
      "metadata": {
        "id": "qcFqjCYrLo2v"
      },
      "execution_count": 3,
      "outputs": []
    },
    {
      "cell_type": "code",
      "source": [
        "type(nomes)"
      ],
      "metadata": {
        "colab": {
          "base_uri": "https://localhost:8080/"
        },
        "id": "iUhPjgrQM5tX",
        "outputId": "b2b34b47-f43e-4838-95cc-b7c74ceb4398"
      },
      "execution_count": 2,
      "outputs": [
        {
          "output_type": "execute_result",
          "data": {
            "text/plain": [
              "list"
            ]
          },
          "metadata": {},
          "execution_count": 2
        }
      ]
    },
    {
      "cell_type": "code",
      "source": [
        "#Indexação e slicing segue o mesmo padrão das strings\n",
        "\n",
        "print (nomes[1])\n",
        "print(type(nomes[4]))"
      ],
      "metadata": {
        "colab": {
          "base_uri": "https://localhost:8080/"
        },
        "id": "5g5Q9ZHgNUrN",
        "outputId": "c5cb3522-c945-4923-a867-2cc14c29fc56"
      },
      "execution_count": 4,
      "outputs": [
        {
          "output_type": "stream",
          "name": "stdout",
          "text": [
            "João\n",
            "<class 'int'>\n"
          ]
        }
      ]
    },
    {
      "cell_type": "code",
      "source": [
        "print('Os aprovados no concurso são ' + nomes[0] + ' e ' + nomes[2]) "
      ],
      "metadata": {
        "colab": {
          "base_uri": "https://localhost:8080/"
        },
        "id": "OAcRoBd2OCDF",
        "outputId": "a658915b-a41c-4829-a014-5000193f476e"
      },
      "execution_count": 9,
      "outputs": [
        {
          "output_type": "stream",
          "name": "stdout",
          "text": [
            "Os aprovados no concurso são André e Maria\n"
          ]
        }
      ]
    },
    {
      "cell_type": "markdown",
      "source": [
        "###Propriedades das listas\n",
        "\n",
        "* São mutáveis\n",
        "* Adição (concatenação)\n",
        "* Multiplicar\n",
        "* append (adicionar um novo elemento)"
      ],
      "metadata": {
        "id": "7VymaH8dPhWq"
      }
    },
    {
      "cell_type": "code",
      "source": [
        "lista01 = ['23', '34', '87']"
      ],
      "metadata": {
        "id": "wPM1Cs8iPpe6"
      },
      "execution_count": 10,
      "outputs": []
    },
    {
      "cell_type": "code",
      "source": [
        "lista01"
      ],
      "metadata": {
        "colab": {
          "base_uri": "https://localhost:8080/"
        },
        "id": "PjfE51FjQGnv",
        "outputId": "72e5e7e3-0db0-40b4-97fe-4b558284981c"
      },
      "execution_count": 11,
      "outputs": [
        {
          "output_type": "execute_result",
          "data": {
            "text/plain": [
              "['23', '34', '87']"
            ]
          },
          "metadata": {},
          "execution_count": 11
        }
      ]
    },
    {
      "cell_type": "code",
      "source": [
        "#Modificar o primeiro elemento da lista\n",
        "lista01[0] = '10'"
      ],
      "metadata": {
        "id": "PTOq99bJQMWq"
      },
      "execution_count": 15,
      "outputs": []
    },
    {
      "cell_type": "code",
      "source": [
        "lista01"
      ],
      "metadata": {
        "colab": {
          "base_uri": "https://localhost:8080/"
        },
        "id": "a4gX0pg1QRHM",
        "outputId": "97553a94-5e91-427d-eeeb-a8e6ba3a11c5"
      },
      "execution_count": 13,
      "outputs": [
        {
          "output_type": "execute_result",
          "data": {
            "text/plain": [
              "['10', '34', '87']"
            ]
          },
          "metadata": {},
          "execution_count": 13
        }
      ]
    },
    {
      "cell_type": "code",
      "source": [
        "#Concatenando listas\n",
        "\n",
        "nomes + lista01"
      ],
      "metadata": {
        "colab": {
          "base_uri": "https://localhost:8080/"
        },
        "id": "NELgfTB0Q08-",
        "outputId": "9cd8b09d-fdb5-47cb-cbd0-620d0b974a3c"
      },
      "execution_count": 16,
      "outputs": [
        {
          "output_type": "execute_result",
          "data": {
            "text/plain": [
              "['André', 'João', 'Maria', 3, 48, '10', '34', '87']"
            ]
          },
          "metadata": {},
          "execution_count": 16
        }
      ]
    },
    {
      "cell_type": "code",
      "source": [
        "#Adicionar um novo elemento na lista\n",
        "\n",
        "print(lista01)\n",
        "lista01.append('30')\n",
        "print(lista01)"
      ],
      "metadata": {
        "colab": {
          "base_uri": "https://localhost:8080/"
        },
        "id": "7YyKjY9bRTk2",
        "outputId": "9f12c38b-ce94-47cf-caf3-3364dadf3a70"
      },
      "execution_count": 33,
      "outputs": [
        {
          "output_type": "stream",
          "name": "stdout",
          "text": [
            "['10', '34', '87']\n",
            "['10', '34', '87', '30']\n"
          ]
        }
      ]
    },
    {
      "cell_type": "code",
      "source": [
        "#Retirar elemento da lista\n",
        "#Se usar apenas pop() remove o último elemento\n",
        "\n",
        "lista01.pop(0)\n",
        "print(lista01)"
      ],
      "metadata": {
        "colab": {
          "base_uri": "https://localhost:8080/"
        },
        "id": "pVl8tHguR5yB",
        "outputId": "cc3f2183-2dcc-4423-84da-1b68def4891f"
      },
      "execution_count": 34,
      "outputs": [
        {
          "output_type": "stream",
          "name": "stdout",
          "text": [
            "['34', '87', '30']\n"
          ]
        }
      ]
    },
    {
      "cell_type": "code",
      "source": [
        "#Método \"sort\" para classificar por ordem crescente / alfabética\n",
        "idade = [10, 25, 56, 21, 32]\n",
        "nomes01 = ['Rosana', 'Ana', 'Júlia', 'Marcelo']\n",
        "\n",
        "idade.sort()\n",
        "nomes01.sort()\n",
        "\n",
        "print(idade)\n",
        "print(nomes01)"
      ],
      "metadata": {
        "colab": {
          "base_uri": "https://localhost:8080/"
        },
        "id": "fFJWMSP5TMWY",
        "outputId": "bed692c3-0645-47cc-aa23-f32ed0022937"
      },
      "execution_count": 37,
      "outputs": [
        {
          "output_type": "stream",
          "name": "stdout",
          "text": [
            "[10, 21, 25, 32, 56]\n",
            "['Ana', 'Júlia', 'Marcelo', 'Rosana']\n"
          ]
        }
      ]
    },
    {
      "cell_type": "code",
      "source": [
        "#Método \"reverse\" para classificar em ordem decrescente\n",
        "\n",
        "idade.reverse()\n",
        "print(idade)"
      ],
      "metadata": {
        "colab": {
          "base_uri": "https://localhost:8080/"
        },
        "id": "hrhcLbrXT_1f",
        "outputId": "a4a92af5-806b-41c2-d97e-163d3bd222cf"
      },
      "execution_count": 38,
      "outputs": [
        {
          "output_type": "stream",
          "name": "stdout",
          "text": [
            "[56, 32, 25, 21, 10]\n"
          ]
        }
      ]
    },
    {
      "cell_type": "code",
      "source": [
        "#Unir mais de uma lista em outra lista criando uma espécia de matriz\n",
        "\n",
        "lista1 = [1,2,3]\n",
        "lista2 = [3,4,5]\n",
        "lista3 = [7,8,9]\n",
        "\n",
        "matriz = [lista1, lista2, lista3]\n",
        "\n",
        "print(matriz)"
      ],
      "metadata": {
        "colab": {
          "base_uri": "https://localhost:8080/"
        },
        "id": "guV_MMD9UnJL",
        "outputId": "299f4b0f-a09d-46b5-d6a5-099b5a6182b3"
      },
      "execution_count": 40,
      "outputs": [
        {
          "output_type": "stream",
          "name": "stdout",
          "text": [
            "[[1, 2, 3], [3, 4, 5], [7, 8, 9]]\n"
          ]
        }
      ]
    },
    {
      "cell_type": "code",
      "source": [
        "#Acessar um elemento específico dentro de uma lista na matriz\n",
        "\n",
        "print(matriz[1])\n",
        "\n",
        "print(matriz[1][0])"
      ],
      "metadata": {
        "colab": {
          "base_uri": "https://localhost:8080/"
        },
        "id": "BCuY8eGjVUDm",
        "outputId": "80f9b92e-d833-43fe-e0d6-3123bd0f78d6"
      },
      "execution_count": 41,
      "outputs": [
        {
          "output_type": "stream",
          "name": "stdout",
          "text": [
            "[3, 4, 5]\n",
            "3\n"
          ]
        }
      ]
    },
    {
      "cell_type": "markdown",
      "source": [
        "### Dicionários"
      ],
      "metadata": {
        "id": "oXKS4W3SWGNO"
      }
    },
    {
      "cell_type": "code",
      "source": [
        ""
      ],
      "metadata": {
        "id": "MvofFcn-WI7t"
      },
      "execution_count": null,
      "outputs": []
    }
  ]
}