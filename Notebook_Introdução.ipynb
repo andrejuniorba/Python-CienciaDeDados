{
  "nbformat": 4,
  "nbformat_minor": 0,
  "metadata": {
    "colab": {
      "name": "Notebook - Introdução.ipynb",
      "provenance": [],
      "collapsed_sections": [],
      "authorship_tag": "ABX9TyN885mlL85IQxd9AjAQODGB",
      "include_colab_link": true
    },
    "kernelspec": {
      "name": "python3",
      "display_name": "Python 3"
    },
    "language_info": {
      "name": "python"
    }
  },
  "cells": [
    {
      "cell_type": "markdown",
      "metadata": {
        "id": "view-in-github",
        "colab_type": "text"
      },
      "source": [
        "<a href=\"https://colab.research.google.com/github/andrejuniorba/Python-CienciaDeDados/blob/main/Notebook_Introdu%C3%A7%C3%A3o.ipynb\" target=\"_parent\"><img src=\"https://colab.research.google.com/assets/colab-badge.svg\" alt=\"Open In Colab\"/></a>"
      ]
    },
    {
      "cell_type": "markdown",
      "source": [
        "# **Data Science com Python**\n",
        "\n",
        "## Introdução"
      ],
      "metadata": {
        "id": "5QHnDeEp2YCe"
      }
    },
    {
      "cell_type": "markdown",
      "source": [
        "Imersão no mundo do Data Science, unindo o fundamental da teoria com a prática em Python."
      ],
      "metadata": {
        "id": "aHEHOOgC5JN9"
      }
    },
    {
      "cell_type": "markdown",
      "source": [
        "<center><img src = \"http://assets.stickpng.com/images/5848152fcef1014c0b5e4967.png\" width=\"250\">"
      ],
      "metadata": {
        "id": "vyNWtDFD1xwd"
      }
    },
    {
      "cell_type": "markdown",
      "source": [
        "## Hello World\n"
      ],
      "metadata": {
        "id": "G2bekgOR545Z"
      }
    },
    {
      "cell_type": "code",
      "source": [
        "#função \"print\" para imprimir na tela a mensagem.\n",
        "\n",
        "print(\"Olá mundo!\")"
      ],
      "metadata": {
        "colab": {
          "base_uri": "https://localhost:8080/"
        },
        "id": "y4T2KKeE6lkG",
        "outputId": "e74e1171-056f-49ba-a4c7-5d18d95ea52b"
      },
      "execution_count": null,
      "outputs": [
        {
          "output_type": "stream",
          "name": "stdout",
          "text": [
            "Olá mundo\n"
          ]
        }
      ]
    },
    {
      "cell_type": "code",
      "source": [
        "print(\"Meu nome é André Luz.\")"
      ],
      "metadata": {
        "colab": {
          "base_uri": "https://localhost:8080/"
        },
        "id": "Tro9VSkR6rH-",
        "outputId": "865ef201-234e-4b54-a330-4661b9cc5f8d"
      },
      "execution_count": null,
      "outputs": [
        {
          "output_type": "stream",
          "name": "stdout",
          "text": [
            "Meu nome é André Luz.\n"
          ]
        }
      ]
    },
    {
      "cell_type": "markdown",
      "source": [
        "# Tipos de Variáveis\n",
        "\n",
        "* integer (int) = 2\n",
        "\n",
        "* float = 1.432\n",
        "\n",
        "* strings (str) = \"Petrobrás\" ou 'Petrobrás'\n",
        "\n",
        "* boolean (bool) = True ou False"
      ],
      "metadata": {
        "id": "uJvMRZgS7EuQ"
      }
    },
    {
      "cell_type": "code",
      "source": [
        "nome = 'André'\n",
        "altura = 1.77\n",
        "idade = 40\n",
        "\n",
        "type(nome)"
      ],
      "metadata": {
        "id": "KsTBRER1_xHk",
        "colab": {
          "base_uri": "https://localhost:8080/"
        },
        "outputId": "842eac4a-7755-4789-b2f5-061f4fc21ecf"
      },
      "execution_count": 3,
      "outputs": [
        {
          "output_type": "execute_result",
          "data": {
            "text/plain": [
              "str"
            ]
          },
          "metadata": {},
          "execution_count": 3
        }
      ]
    },
    {
      "cell_type": "code",
      "source": [
        "type(altura)"
      ],
      "metadata": {
        "colab": {
          "base_uri": "https://localhost:8080/"
        },
        "id": "6byLtT6lxJbn",
        "outputId": "0e5e4a24-9064-4574-f6bd-3e6cb5c253e1"
      },
      "execution_count": 4,
      "outputs": [
        {
          "output_type": "execute_result",
          "data": {
            "text/plain": [
              "float"
            ]
          },
          "metadata": {},
          "execution_count": 4
        }
      ]
    },
    {
      "cell_type": "code",
      "source": [
        "type(idade)"
      ],
      "metadata": {
        "colab": {
          "base_uri": "https://localhost:8080/"
        },
        "id": "QrsPDepvxNYW",
        "outputId": "30bc01c8-eba1-41d0-f2a9-5bde4c7910b3"
      },
      "execution_count": 5,
      "outputs": [
        {
          "output_type": "execute_result",
          "data": {
            "text/plain": [
              "int"
            ]
          },
          "metadata": {},
          "execution_count": 5
        }
      ]
    },
    {
      "cell_type": "code",
      "source": [
        "print(f\"Meu nome é {nome}\")\n",
        "print(\"Tenho a idade de {} anos\".format(idade))\n",
        "print(\"Minha altura em metros é {} \".format(altura))"
      ],
      "metadata": {
        "colab": {
          "base_uri": "https://localhost:8080/"
        },
        "id": "EjIlYDdPxQ0p",
        "outputId": "a8617e73-81da-4983-cab8-4ba99b3c8315"
      },
      "execution_count": 15,
      "outputs": [
        {
          "output_type": "stream",
          "name": "stdout",
          "text": [
            "Meu nome é André\n",
            "Tenho a idade de 40 anos\n",
            "Minha altura em metros é 1.77 \n"
          ]
        }
      ]
    },
    {
      "cell_type": "markdown",
      "source": [
        "## Operadores Aritméticos"
      ],
      "metadata": {
        "id": "45Ulmc-izH9T"
      }
    },
    {
      "cell_type": "markdown",
      "source": [
        "* Soma +\n",
        "\n",
        "* Subtração -\n",
        "\n",
        "* Multiplicação *\n",
        "\n",
        "* Divisão /\n",
        "\n",
        "* Resto da divisão %\n",
        "\n",
        "* Divisão (Apenas a parte inteira) //\n",
        "\n",
        "* Potência **"
      ],
      "metadata": {
        "id": "ZC1eGRDIzNZm"
      }
    },
    {
      "cell_type": "code",
      "source": [
        "a = 5\n",
        "b = 4\n",
        "\n",
        "print(a + b)\n",
        "print(a - b)\n",
        "print(a * b)\n",
        "print(a // b)\n",
        "print(a / b)\n",
        "print(a % b)\n",
        "print(a**3)"
      ],
      "metadata": {
        "colab": {
          "base_uri": "https://localhost:8080/"
        },
        "id": "n-Ysv9hLzjee",
        "outputId": "7c5bea22-6287-4822-ac4b-35d4e5d2652f"
      },
      "execution_count": 28,
      "outputs": [
        {
          "output_type": "stream",
          "name": "stdout",
          "text": [
            "9\n",
            "1\n",
            "20\n",
            "1\n",
            "1.25\n",
            "1\n",
            "125\n"
          ]
        }
      ]
    },
    {
      "cell_type": "markdown",
      "source": [
        "# Operadores lógicos\n",
        "\n",
        "### Comparativos:\n",
        "\n",
        "* Igualdade ==\n",
        "\n",
        "* Diferente !=\n",
        "\n",
        "* Menor que <\n",
        "\n",
        "* Maior que >\n",
        "\n",
        "* Menor ou igual <=\n",
        "\n",
        "* Maior ou igual >=\n",
        "\n",
        "### Condicionais:\n",
        "\n",
        "* and\n",
        "* or"
      ],
      "metadata": {
        "id": "KMOekqo94Qm-"
      }
    },
    {
      "cell_type": "code",
      "source": [
        "e = 10\n",
        "f = 14\n",
        "g = 9\n",
        "h = 12\n",
        "\n",
        "print(e == f)\n",
        "print(e != f)\n",
        "print(e < f)\n",
        "print(e > f)\n",
        "print(e >= f)\n",
        "print(e <= f)"
      ],
      "metadata": {
        "colab": {
          "base_uri": "https://localhost:8080/"
        },
        "id": "ayDWvRu94ty2",
        "outputId": "7a36ab38-5345-4930-d12e-10574a1cd181"
      },
      "execution_count": 34,
      "outputs": [
        {
          "output_type": "stream",
          "name": "stdout",
          "text": [
            "False\n",
            "True\n",
            "True\n",
            "False\n",
            "False\n",
            "True\n"
          ]
        }
      ]
    },
    {
      "cell_type": "code",
      "source": [
        "print(e > f and g < h)\n",
        "print(e > f or g < h)"
      ],
      "metadata": {
        "colab": {
          "base_uri": "https://localhost:8080/"
        },
        "id": "TF3FFVCO6l2m",
        "outputId": "0fd5caad-a569-48ad-ff07-c890a97de956"
      },
      "execution_count": 37,
      "outputs": [
        {
          "output_type": "stream",
          "name": "stdout",
          "text": [
            "False\n",
            "True\n"
          ]
        }
      ]
    }
  ]
}