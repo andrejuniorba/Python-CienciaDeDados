{
  "nbformat": 4,
  "nbformat_minor": 0,
  "metadata": {
    "colab": {
      "name": "Notebook0.ipynb",
      "provenance": [],
      "collapsed_sections": [],
      "authorship_tag": "ABX9TyPnsIMzBSBW+NIqrYsbYCAO",
      "include_colab_link": true
    },
    "kernelspec": {
      "name": "python3",
      "display_name": "Python 3"
    },
    "language_info": {
      "name": "python"
    }
  },
  "cells": [
    {
      "cell_type": "markdown",
      "metadata": {
        "id": "view-in-github",
        "colab_type": "text"
      },
      "source": [
        "<a href=\"https://colab.research.google.com/github/andrejuniorba/Python-CienciaDeDados/blob/main/Notebook0.ipynb\" target=\"_parent\"><img src=\"https://colab.research.google.com/assets/colab-badge.svg\" alt=\"Open In Colab\"/></a>"
      ]
    },
    {
      "cell_type": "markdown",
      "source": [
        "# **Data Science com Python**"
      ],
      "metadata": {
        "id": "5QHnDeEp2YCe"
      }
    },
    {
      "cell_type": "markdown",
      "source": [
        "Imersão no mundo do Data Science, unindo o fundamental da teoria com a prática em Python."
      ],
      "metadata": {
        "id": "aHEHOOgC5JN9"
      }
    },
    {
      "cell_type": "markdown",
      "source": [
        "<center><img src = \"http://assets.stickpng.com/images/5848152fcef1014c0b5e4967.png\" width=\"250\">"
      ],
      "metadata": {
        "id": "vyNWtDFD1xwd"
      }
    },
    {
      "cell_type": "markdown",
      "source": [
        "# Aula0 - Hello World\n"
      ],
      "metadata": {
        "id": "G2bekgOR545Z"
      }
    },
    {
      "cell_type": "code",
      "source": [
        "#função \"print\" para imprimir na tela a mensagem.\n",
        "\n",
        "print(\"Olá mundo!\")"
      ],
      "metadata": {
        "colab": {
          "base_uri": "https://localhost:8080/"
        },
        "id": "y4T2KKeE6lkG",
        "outputId": "e74e1171-056f-49ba-a4c7-5d18d95ea52b"
      },
      "execution_count": 1,
      "outputs": [
        {
          "output_type": "stream",
          "name": "stdout",
          "text": [
            "Olá mundo\n"
          ]
        }
      ]
    },
    {
      "cell_type": "code",
      "source": [
        "print(\"Meu nome é André Luz.\")"
      ],
      "metadata": {
        "colab": {
          "base_uri": "https://localhost:8080/"
        },
        "id": "Tro9VSkR6rH-",
        "outputId": "865ef201-234e-4b54-a330-4661b9cc5f8d"
      },
      "execution_count": 2,
      "outputs": [
        {
          "output_type": "stream",
          "name": "stdout",
          "text": [
            "Meu nome é André Luz.\n"
          ]
        }
      ]
    },
    {
      "cell_type": "code",
      "source": [
        ""
      ],
      "metadata": {
        "id": "uJvMRZgS7EuQ"
      },
      "execution_count": null,
      "outputs": []
    }
  ]
}