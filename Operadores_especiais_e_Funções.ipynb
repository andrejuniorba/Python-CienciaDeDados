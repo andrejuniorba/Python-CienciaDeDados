{
  "nbformat": 4,
  "nbformat_minor": 0,
  "metadata": {
    "colab": {
      "name": "Operadores especiais e Funções.ipynb",
      "provenance": [],
      "collapsed_sections": [],
      "authorship_tag": "ABX9TyOhQzousGkI8EhdCfPkbjzv",
      "include_colab_link": true
    },
    "kernelspec": {
      "name": "python3",
      "display_name": "Python 3"
    },
    "language_info": {
      "name": "python"
    }
  },
  "cells": [
    {
      "cell_type": "markdown",
      "metadata": {
        "id": "view-in-github",
        "colab_type": "text"
      },
      "source": [
        "<a href=\"https://colab.research.google.com/github/andrejuniorba/Python-CienciaDeDados/blob/main/Operadores_especiais_e_Fun%C3%A7%C3%B5es.ipynb\" target=\"_parent\"><img src=\"https://colab.research.google.com/assets/colab-badge.svg\" alt=\"Open In Colab\"/></a>"
      ]
    },
    {
      "cell_type": "markdown",
      "source": [
        "# **Data Science com Python**\n"
      ],
      "metadata": {
        "id": "IFM5oi7GQCUP"
      }
    },
    {
      "cell_type": "markdown",
      "source": [
        "Imersão no mundo do Data Science, unindo o fundamental da teoria com a prática em Python."
      ],
      "metadata": {
        "id": "OZf5yX7OQHt4"
      }
    },
    {
      "cell_type": "markdown",
      "source": [
        "<center><img src = \"http://assets.stickpng.com/images/5848152fcef1014c0b5e4967.png\" width=\"250\">"
      ],
      "metadata": {
        "id": "oGt8k7zXQMg4"
      }
    },
    {
      "cell_type": "markdown",
      "source": [
        "## 01. Operadores especiais"
      ],
      "metadata": {
        "id": "63Knj_5QQQ2-"
      }
    },
    {
      "cell_type": "markdown",
      "source": [
        "## Random\n",
        "\n",
        "Operador usado para obter números aleatórios de acordo com alguma condição pré-determinada."
      ],
      "metadata": {
        "id": "y8IwPN3qQfQe"
      }
    },
    {
      "cell_type": "code",
      "source": [
        "from random import randint, shuffle\n",
        "\n",
        "#retorna um número aleatório de acordo a um intervalo\n",
        "randint(0,10)"
      ],
      "metadata": {
        "colab": {
          "base_uri": "https://localhost:8080/"
        },
        "id": "uIA9SeNqReyA",
        "outputId": "b54c4370-a9fc-4b2e-ad7e-ddbe3e1dee0d"
      },
      "execution_count": null,
      "outputs": [
        {
          "output_type": "execute_result",
          "data": {
            "text/plain": [
              "7"
            ]
          },
          "metadata": {},
          "execution_count": 1
        }
      ]
    },
    {
      "cell_type": "code",
      "source": [
        "#gerar lista com 10 números aleatórios entre 10 e 100;\n",
        "#Salvar na mémoria em uma lista\n",
        "\n",
        "list_rand = []\n",
        "\n",
        "for i in range(0,10):\n",
        "  list_rand.append(randint(10,100))\n",
        "\n",
        "print(list_rand)\n"
      ],
      "metadata": {
        "colab": {
          "base_uri": "https://localhost:8080/"
        },
        "id": "_bJ8y8pTSHRc",
        "outputId": "5faca527-746f-4b25-b0f9-dc6d2b19bfa8"
      },
      "execution_count": null,
      "outputs": [
        {
          "output_type": "stream",
          "name": "stdout",
          "text": [
            "[72, 75, 93, 73, 71, 19, 88, 18, 94, 84]\n"
          ]
        }
      ]
    },
    {
      "cell_type": "code",
      "source": [
        "#ordem crescente\n",
        "list_rand.sort()\n",
        "print(list_rand)\n",
        "\n",
        "#ordem decrescente\n",
        "list_rand.reverse()\n",
        "print(list_rand)\n",
        "\n",
        "#Desorganizado\n",
        "shuffle(list_rand)\n",
        "print(list_rand)"
      ],
      "metadata": {
        "colab": {
          "base_uri": "https://localhost:8080/"
        },
        "id": "9sHqunNMTH-c",
        "outputId": "858f3fba-80ff-4819-ffd8-0c72d006240a"
      },
      "execution_count": null,
      "outputs": [
        {
          "output_type": "stream",
          "name": "stdout",
          "text": [
            "[18, 19, 71, 72, 73, 75, 84, 88, 93, 94]\n",
            "[94, 93, 88, 84, 75, 73, 72, 71, 19, 18]\n",
            "[71, 84, 94, 19, 93, 88, 72, 73, 18, 75]\n"
          ]
        }
      ]
    },
    {
      "cell_type": "markdown",
      "source": [
        "### min e max"
      ],
      "metadata": {
        "id": "mUPGPjPUUAjM"
      }
    },
    {
      "cell_type": "code",
      "source": [
        "#obter o mínimo de uma lista\n",
        "lista1 = [72, 75, 93, 73, 71, 19, 88, 18, 94, 84]\n",
        "print(min(lista1))\n",
        "\n",
        "#obter o máximo de uma lista\n",
        "print(max(lista1))"
      ],
      "metadata": {
        "colab": {
          "base_uri": "https://localhost:8080/"
        },
        "id": "3HQxdwMsUD5a",
        "outputId": "3d9de088-155a-4da6-dce3-55fb13f6e759"
      },
      "execution_count": null,
      "outputs": [
        {
          "output_type": "stream",
          "name": "stdout",
          "text": [
            "18\n",
            "94\n"
          ]
        }
      ]
    },
    {
      "cell_type": "markdown",
      "source": [
        "### List Comprehension (ccompreensão de lista)\n",
        "\n",
        "Forma de executar loops com uma estrutura de código mais resumida do que os \"for\" tradicionais."
      ],
      "metadata": {
        "id": "vAHeCiufVJoF"
      }
    },
    {
      "cell_type": "code",
      "source": [
        "acao = 'MGLU3'\n",
        "\n",
        "#criar uma lista com os caracteres\n",
        "lista_caractere = []\n",
        "#Exemplo com \"for\"\n",
        "\n",
        "for caractere in acao:\n",
        "  lista_caractere.append(caractere)\n",
        "\n",
        "print(lista_caractere)\n",
        "\n",
        "#usando list comprehension (muito mais prático e menos linha de código)\n",
        "\n",
        "[caractere for caractere in acao]"
      ],
      "metadata": {
        "colab": {
          "base_uri": "https://localhost:8080/"
        },
        "id": "ex4rstahVbke",
        "outputId": "fc355f2a-e9a1-4ff7-cd1e-be667a1e7b32"
      },
      "execution_count": null,
      "outputs": [
        {
          "output_type": "stream",
          "name": "stdout",
          "text": [
            "['M', 'G', 'L', 'U', '3']\n"
          ]
        },
        {
          "output_type": "execute_result",
          "data": {
            "text/plain": [
              "['M', 'G', 'L', 'U', '3']"
            ]
          },
          "metadata": {},
          "execution_count": 12
        }
      ]
    },
    {
      "cell_type": "code",
      "source": [
        "ativos = ['MGLU', 'VALE', 'HEGE']\n",
        "\n",
        "#Adicionar o número 3 em cada ação\n",
        "ativos_corrigidos = []\n",
        "\n",
        "for ativo in ativos:\n",
        "  ativos_corrigidos.append(ativo + '3')\n",
        "\n",
        "print(ativos_corrigidos)\n",
        "\n",
        "\"OU\"\n",
        "\n",
        "[ativo + '3' for ativo in ativos]\n"
      ],
      "metadata": {
        "colab": {
          "base_uri": "https://localhost:8080/"
        },
        "id": "uJ5xiSMBYEP_",
        "outputId": "b2956c88-25a3-473b-8496-5a0dda858514"
      },
      "execution_count": null,
      "outputs": [
        {
          "output_type": "stream",
          "name": "stdout",
          "text": [
            "['MGLU3', 'VALE3', 'HEGE3']\n"
          ]
        },
        {
          "output_type": "execute_result",
          "data": {
            "text/plain": [
              "['MGLU3', 'VALE3', 'HEGE3']"
            ]
          },
          "metadata": {},
          "execution_count": 15
        }
      ]
    },
    {
      "cell_type": "code",
      "source": [
        "#Elevar todos os números de 0 a 10 ao quadrado.\n",
        "\n",
        "lista_num = [0,1,2,3,4,5,6,7,8,9,10]\n",
        "\n",
        "[num**2 for num in lista_num]\n",
        "\n"
      ],
      "metadata": {
        "colab": {
          "base_uri": "https://localhost:8080/"
        },
        "id": "BAzsTmcUZW7j",
        "outputId": "e44aaf8f-8efd-4305-8a78-000240803d0c"
      },
      "execution_count": null,
      "outputs": [
        {
          "output_type": "execute_result",
          "data": {
            "text/plain": [
              "[0, 1, 4, 9, 16, 25, 36, 49, 64, 81, 100]"
            ]
          },
          "metadata": {},
          "execution_count": 19
        }
      ]
    },
    {
      "cell_type": "code",
      "source": [
        "lista02_num = []\n",
        "\n",
        "[num**2 for num in range(0,11)]"
      ],
      "metadata": {
        "colab": {
          "base_uri": "https://localhost:8080/"
        },
        "id": "YH_x28Seaogl",
        "outputId": "976cf447-fb7c-467c-d319-4ca148e2f2ff"
      },
      "execution_count": null,
      "outputs": [
        {
          "output_type": "execute_result",
          "data": {
            "text/plain": [
              "[0, 1, 4, 9, 16, 25, 36, 49, 64, 81, 100]"
            ]
          },
          "metadata": {},
          "execution_count": 22
        }
      ]
    },
    {
      "cell_type": "markdown",
      "source": [
        "## 02. Funções e métodos"
      ],
      "metadata": {
        "id": "3w-s_1GQbpbU"
      }
    },
    {
      "cell_type": "markdown",
      "source": [
        "###def nome_da_função (parâmetros):\n",
        "###     descreve a função\n",
        "\n",
        "###nome_da_função()    => chama a função"
      ],
      "metadata": {
        "id": "E2hes-Vibr67"
      }
    },
    {
      "cell_type": "code",
      "source": [
        "def soma_numeros (num1, num2):\n",
        "  soma = num1 + num2\n",
        "  return soma\n",
        "\n"
      ],
      "metadata": {
        "id": "Kum6Aa51dlF3"
      },
      "execution_count": null,
      "outputs": []
    },
    {
      "cell_type": "code",
      "source": [
        "soma_numeros(2,3)"
      ],
      "metadata": {
        "colab": {
          "base_uri": "https://localhost:8080/"
        },
        "id": "633XB8HmeJ9H",
        "outputId": "bf48227b-35e3-47e5-aef9-7b2c9c4315f8"
      },
      "execution_count": null,
      "outputs": [
        {
          "output_type": "execute_result",
          "data": {
            "text/plain": [
              "5"
            ]
          },
          "metadata": {},
          "execution_count": 30
        }
      ]
    },
    {
      "cell_type": "code",
      "source": [
        "#Função 'preço' que retorna a cotação de um papel de acordo com o que for especificado pelo usuário\n",
        "\n",
        "def preco (acao):\n",
        "  if(acao == 'PETR4'):\n",
        "    print('O preço agora é R$30,09')\n",
        "  elif (acao == 'VALE3'):\n",
        "    print('O preço é R$ 112,00')\n",
        "  elif (acao == 'MGLU3'):\n",
        "    print('O preço é R$6,79')\n",
        "  else:\n",
        "    print('Papel desconhecido.')"
      ],
      "metadata": {
        "id": "MeM1vy6MeqAe"
      },
      "execution_count": null,
      "outputs": []
    },
    {
      "cell_type": "code",
      "source": [
        "preco('ITSA4')"
      ],
      "metadata": {
        "colab": {
          "base_uri": "https://localhost:8080/"
        },
        "id": "ExAioygvfnoZ",
        "outputId": "d4b322a9-d69a-40b4-e84b-71d2c063961f"
      },
      "execution_count": null,
      "outputs": [
        {
          "output_type": "stream",
          "name": "stdout",
          "text": [
            "Papel desconhecido.\n"
          ]
        }
      ]
    },
    {
      "cell_type": "markdown",
      "source": [
        "Docstring é a documentação da função, ou seja, a mensagem que aparece quando o usuário consulta a ajuda da função."
      ],
      "metadata": {
        "id": "JstLRO1-gf__"
      }
    },
    {
      "cell_type": "code",
      "source": [
        "#Criar o docstring da função abaixo.\n",
        "def preco (acao):\n",
        "  '''Essa função deve ser utilizada para retornar a cotação em tempo real de um papel'''\n",
        "  \n",
        "  if(acao == 'PETR4'):\n",
        "    print('O preço agora é R$30,09')\n",
        "  elif (acao == 'VALE3'):\n",
        "    print('O preço é R$ 112,00')\n",
        "  elif (acao == 'MGLU3'):\n",
        "    print('O preço é R$6,79')\n",
        "  else:\n",
        "    print('Papel desconhecido.')"
      ],
      "metadata": {
        "id": "ppDmafi4guAN"
      },
      "execution_count": null,
      "outputs": []
    },
    {
      "cell_type": "markdown",
      "source": [
        "## Métodos\n",
        "\n",
        "É uma função aplicáveis apenas a determinados tipos de objetos. É usada com \".nome do metodo ()\"."
      ],
      "metadata": {
        "id": "sDRdi_KnhMaB"
      }
    },
    {
      "cell_type": "markdown",
      "source": [
        "### Funções embutidas (bult-in-functions)\n",
        "\n",
        "São funções nativas do Python que não necessita de nenhuma biblioteca."
      ],
      "metadata": {
        "id": "62PA5cN8hfSz"
      }
    },
    {
      "cell_type": "markdown",
      "source": [
        "### Map\n",
        "\n",
        "Função \"map()\" aplica um comando a vários elementos de uma lista, de uma vez.\n"
      ],
      "metadata": {
        "id": "Vik2T6HLiE2g"
      }
    },
    {
      "cell_type": "code",
      "source": [
        "#Por padrão, caso o usuário não passe o valor da potência, o expoente será 2\n",
        "def potencia (num, pot= 2):\n",
        "  return num**pot"
      ],
      "metadata": {
        "id": "eQY52-vDiZsz"
      },
      "execution_count": 1,
      "outputs": []
    },
    {
      "cell_type": "code",
      "source": [
        "print(potencia(3))\n",
        "print(potencia(3,3))"
      ],
      "metadata": {
        "colab": {
          "base_uri": "https://localhost:8080/"
        },
        "id": "R3FCRQbMjlHm",
        "outputId": "47528280-5ece-4e07-b59b-1376258a7efe"
      },
      "execution_count": null,
      "outputs": [
        {
          "output_type": "stream",
          "name": "stdout",
          "text": [
            "9\n",
            "27\n"
          ]
        }
      ]
    },
    {
      "cell_type": "code",
      "source": [
        "#usando a função map\n",
        "lista_numeros = [1,2,3,4,5]\n",
        "\n",
        "list(map(potencia,lista_numeros))"
      ],
      "metadata": {
        "colab": {
          "base_uri": "https://localhost:8080/"
        },
        "id": "ZTO7oEEGj3wZ",
        "outputId": "f7bd4f70-a939-475b-a5d6-1e87c544df48"
      },
      "execution_count": 7,
      "outputs": [
        {
          "output_type": "execute_result",
          "data": {
            "text/plain": [
              "[1, 4, 9, 16, 25]"
            ]
          },
          "metadata": {},
          "execution_count": 7
        }
      ]
    },
    {
      "cell_type": "code",
      "source": [
        "lista_numeros = [1,2,3,4,5]\n",
        "\n",
        "list(map(lambda n:n**3,lista_numeros))"
      ],
      "metadata": {
        "colab": {
          "base_uri": "https://localhost:8080/"
        },
        "id": "nBzdxUoTysXI",
        "outputId": "20e8d44f-8dda-47ae-e7bd-595fff096be8"
      },
      "execution_count": 8,
      "outputs": [
        {
          "output_type": "execute_result",
          "data": {
            "text/plain": [
              "[1, 8, 27, 64, 125]"
            ]
          },
          "metadata": {},
          "execution_count": 8
        }
      ]
    },
    {
      "cell_type": "markdown",
      "source": [
        "### Filter\n",
        "\n",
        "aplica um filtro em todos os elementos dentro de uma lista"
      ],
      "metadata": {
        "id": "VQATlaekkR2X"
      }
    },
    {
      "cell_type": "code",
      "source": [
        "def checar_par (num):\n",
        "  return num%2 == 0"
      ],
      "metadata": {
        "id": "zo8RJf0OkWMh"
      },
      "execution_count": null,
      "outputs": []
    },
    {
      "cell_type": "code",
      "source": [
        "checar_par(11)"
      ],
      "metadata": {
        "colab": {
          "base_uri": "https://localhost:8080/"
        },
        "id": "JWIvmDUEk6bp",
        "outputId": "be1bc8fd-25cd-4f56-a347-5ca3454fa1fb"
      },
      "execution_count": null,
      "outputs": [
        {
          "output_type": "execute_result",
          "data": {
            "text/plain": [
              "False"
            ]
          },
          "metadata": {},
          "execution_count": 45
        }
      ]
    },
    {
      "cell_type": "code",
      "source": [
        "#Usando Filter\n",
        "list(filter(checar_par,lista_numeros))"
      ],
      "metadata": {
        "colab": {
          "base_uri": "https://localhost:8080/"
        },
        "id": "Ip6UuG0SlAx_",
        "outputId": "6a1b8cc6-0ef6-4e13-e6bb-134071b50b06"
      },
      "execution_count": null,
      "outputs": [
        {
          "output_type": "execute_result",
          "data": {
            "text/plain": [
              "[2, 4]"
            ]
          },
          "metadata": {},
          "execution_count": 47
        }
      ]
    }
  ]
}