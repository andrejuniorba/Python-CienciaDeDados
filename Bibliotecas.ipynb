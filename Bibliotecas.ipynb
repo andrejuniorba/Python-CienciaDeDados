{
  "nbformat": 4,
  "nbformat_minor": 0,
  "metadata": {
    "colab": {
      "name": "Bibliotecas.ipynb",
      "provenance": [],
      "collapsed_sections": [],
      "mount_file_id": "1wV9TPYcA-ZFu5L1JoBR4xMJgyLflkdRu",
      "authorship_tag": "ABX9TyO2wxJq/RewQ9v3mdzdjlst",
      "include_colab_link": true
    },
    "kernelspec": {
      "name": "python3",
      "display_name": "Python 3"
    },
    "language_info": {
      "name": "python"
    }
  },
  "cells": [
    {
      "cell_type": "markdown",
      "metadata": {
        "id": "view-in-github",
        "colab_type": "text"
      },
      "source": [
        "<a href=\"https://colab.research.google.com/github/andrejuniorba/Python-CienciaDeDados/blob/main/Bibliotecas.ipynb\" target=\"_parent\"><img src=\"https://colab.research.google.com/assets/colab-badge.svg\" alt=\"Open In Colab\"/></a>"
      ]
    },
    {
      "cell_type": "markdown",
      "source": [
        "# **Data Science com Python**"
      ],
      "metadata": {
        "id": "AyCYojYfYfmM"
      }
    },
    {
      "cell_type": "markdown",
      "source": [
        "Imersão no mundo do Data Science, unindo o fundamental da teoria com a prática em Python."
      ],
      "metadata": {
        "id": "jdIA_AfWYjtH"
      }
    },
    {
      "cell_type": "markdown",
      "source": [
        "<center><img src = \"http://assets.stickpng.com/images/5848152fcef1014c0b5e4967.png\" width=\"250\">"
      ],
      "metadata": {
        "id": "dP319EpMYoVB"
      }
    },
    {
      "cell_type": "markdown",
      "source": [
        "# 01. Bibliotecas\n",
        "\n",
        "São pacotes de funções\n",
        "[site](https://pypi.org/)"
      ],
      "metadata": {
        "id": "PMUYM8rAYWrT"
      }
    },
    {
      "cell_type": "code",
      "source": [
        "import numpy as np\n",
        "import pandas as pd"
      ],
      "metadata": {
        "id": "LHgVNUj4cErx"
      },
      "execution_count": 1,
      "outputs": []
    },
    {
      "cell_type": "markdown",
      "source": [
        "### Numpy\n",
        "\n",
        "Principal objeto é os \"array\" (matriz)"
      ],
      "metadata": {
        "id": "KG1fBE6wdaN4"
      }
    },
    {
      "cell_type": "code",
      "source": [
        "#Array que contém apenas \"0\"\n",
        "a = np.zeros(3)"
      ],
      "metadata": {
        "id": "OZh7jyYZdqXO"
      },
      "execution_count": 3,
      "outputs": []
    },
    {
      "cell_type": "code",
      "source": [
        "a"
      ],
      "metadata": {
        "colab": {
          "base_uri": "https://localhost:8080/"
        },
        "id": "3iVpGOqIe0Bf",
        "outputId": "70fc7c0e-5c12-4190-e450-05e2370d774b"
      },
      "execution_count": 6,
      "outputs": [
        {
          "output_type": "execute_result",
          "data": {
            "text/plain": [
              "array([0., 0., 0.])"
            ]
          },
          "metadata": {},
          "execution_count": 6
        }
      ]
    },
    {
      "cell_type": "code",
      "source": [
        "#Atributo shape retorna as dimensões do array\n",
        "a.shape"
      ],
      "metadata": {
        "colab": {
          "base_uri": "https://localhost:8080/"
        },
        "id": "Gq40LsRkeWDr",
        "outputId": "09d3af86-789c-4720-f1a9-0398a1f33eca"
      },
      "execution_count": 5,
      "outputs": [
        {
          "output_type": "execute_result",
          "data": {
            "text/plain": [
              "(3,)"
            ]
          },
          "metadata": {},
          "execution_count": 5
        }
      ]
    },
    {
      "cell_type": "code",
      "source": [
        "#As dimensões são manipuláveis. Podemos determinar o nº de linhas e colunas\n",
        "a.shape = (3,1)"
      ],
      "metadata": {
        "id": "_M7I4e_4e2AU"
      },
      "execution_count": 8,
      "outputs": []
    },
    {
      "cell_type": "code",
      "source": [
        "a.shape"
      ],
      "metadata": {
        "colab": {
          "base_uri": "https://localhost:8080/"
        },
        "id": "ULXLpxNefD2q",
        "outputId": "e51f7a32-704e-44a0-fefb-934bb04b1e2c"
      },
      "execution_count": 10,
      "outputs": [
        {
          "output_type": "execute_result",
          "data": {
            "text/plain": [
              "(3, 1)"
            ]
          },
          "metadata": {},
          "execution_count": 10
        }
      ]
    },
    {
      "cell_type": "code",
      "source": [
        "a"
      ],
      "metadata": {
        "colab": {
          "base_uri": "https://localhost:8080/"
        },
        "id": "BR_3iG91fVyj",
        "outputId": "7165666f-25ed-4f65-ee08-5192371acfaa"
      },
      "execution_count": 11,
      "outputs": [
        {
          "output_type": "execute_result",
          "data": {
            "text/plain": [
              "array([[0.],\n",
              "       [0.],\n",
              "       [0.]])"
            ]
          },
          "metadata": {},
          "execution_count": 11
        }
      ]
    },
    {
      "cell_type": "code",
      "source": [
        "#Array que contém apenas \"1\"\n",
        "b = np.ones(10)"
      ],
      "metadata": {
        "id": "DZw92aO4fapE"
      },
      "execution_count": 13,
      "outputs": []
    },
    {
      "cell_type": "code",
      "source": [
        "b"
      ],
      "metadata": {
        "colab": {
          "base_uri": "https://localhost:8080/"
        },
        "id": "q5fkRtlqgAr_",
        "outputId": "bbe85366-69ad-4971-c701-7aeb1287446f"
      },
      "execution_count": 14,
      "outputs": [
        {
          "output_type": "execute_result",
          "data": {
            "text/plain": [
              "array([1., 1., 1., 1., 1., 1., 1., 1., 1., 1.])"
            ]
          },
          "metadata": {},
          "execution_count": 14
        }
      ]
    },
    {
      "cell_type": "code",
      "source": [
        "#Array vazios\n",
        "c = np.empty(4)"
      ],
      "metadata": {
        "id": "__i6DWAGgIFB"
      },
      "execution_count": 15,
      "outputs": []
    },
    {
      "cell_type": "code",
      "source": [
        "c"
      ],
      "metadata": {
        "colab": {
          "base_uri": "https://localhost:8080/"
        },
        "id": "4Kc9C2_6gX27",
        "outputId": "ab10e9be-74d9-445e-c9af-cfbbc826175a"
      },
      "execution_count": 16,
      "outputs": [
        {
          "output_type": "execute_result",
          "data": {
            "text/plain": [
              "array([5.e-324, 5.e-324, 5.e-324, 0.e+000])"
            ]
          },
          "metadata": {},
          "execution_count": 16
        }
      ]
    },
    {
      "cell_type": "code",
      "source": [
        "#Array no qual determinamos início, fim e número de componentes\n",
        "d = np.linspace(3,15,10)"
      ],
      "metadata": {
        "id": "amR-lWUDgiDi"
      },
      "execution_count": 17,
      "outputs": []
    },
    {
      "cell_type": "code",
      "source": [
        "d"
      ],
      "metadata": {
        "colab": {
          "base_uri": "https://localhost:8080/"
        },
        "id": "q1B5z5trg3b1",
        "outputId": "230d8875-d7df-46bf-9b85-b828d9f2f926"
      },
      "execution_count": 18,
      "outputs": [
        {
          "output_type": "execute_result",
          "data": {
            "text/plain": [
              "array([ 3.        ,  4.33333333,  5.66666667,  7.        ,  8.33333333,\n",
              "        9.66666667, 11.        , 12.33333333, 13.66666667, 15.        ])"
            ]
          },
          "metadata": {},
          "execution_count": 18
        }
      ]
    },
    {
      "cell_type": "code",
      "source": [
        "#Determinar manualmente os elementos do array\n",
        "e = np.array(10)\n",
        "f = np.array([1,2,3,4])\n",
        "lista = [5,6,7]\n",
        "g = np.array(lista)\n",
        "\n",
        "lista_listas = [[1,2,3],[4,5,6]]\n",
        "\n",
        "h = np.array(lista_listas)"
      ],
      "metadata": {
        "id": "2WhaygiChCSp"
      },
      "execution_count": 27,
      "outputs": []
    },
    {
      "cell_type": "code",
      "source": [
        "print(e)\n",
        "print(f)\n",
        "print(g)"
      ],
      "metadata": {
        "colab": {
          "base_uri": "https://localhost:8080/"
        },
        "id": "1rgZX4m-hXFX",
        "outputId": "c0600746-0863-4701-efbe-7ff31932b377"
      },
      "execution_count": 31,
      "outputs": [
        {
          "output_type": "stream",
          "name": "stdout",
          "text": [
            "10\n",
            "[1 2 3 4]\n",
            "[5 6 7]\n"
          ]
        }
      ]
    },
    {
      "cell_type": "code",
      "source": [
        "print(h)"
      ],
      "metadata": {
        "colab": {
          "base_uri": "https://localhost:8080/"
        },
        "id": "AW5NDZj-jDar",
        "outputId": "f249be55-2b94-4367-fed1-58fc741b317c"
      },
      "execution_count": 30,
      "outputs": [
        {
          "output_type": "stream",
          "name": "stdout",
          "text": [
            "[[1 2 3]\n",
            " [4 5 6]]\n"
          ]
        }
      ]
    },
    {
      "cell_type": "code",
      "source": [
        "#Evitar a aleatoriedade \n",
        "np.random.seed(10)\n",
        "\n",
        "#Criando aleatóriamente limitado de 0 a 10 tendo apenas 6 númerosnp.random.randint(0,10,size = 6)\n",
        "np.random.randint(0,10, size=10)"
      ],
      "metadata": {
        "colab": {
          "base_uri": "https://localhost:8080/"
        },
        "id": "YSvQiZKFjJwM",
        "outputId": "ee116529-fb9a-4f80-ef10-2faa630ff5ae"
      },
      "execution_count": 41,
      "outputs": [
        {
          "output_type": "execute_result",
          "data": {
            "text/plain": [
              "array([9, 4, 0, 1, 9, 0, 1, 8, 9, 0])"
            ]
          },
          "metadata": {},
          "execution_count": 41
        }
      ]
    },
    {
      "cell_type": "code",
      "source": [
        "i = np.random.randint(0,10, size=10)"
      ],
      "metadata": {
        "id": "BQZ-ZllTksWT"
      },
      "execution_count": 42,
      "outputs": []
    },
    {
      "cell_type": "code",
      "source": [
        "i"
      ],
      "metadata": {
        "colab": {
          "base_uri": "https://localhost:8080/"
        },
        "id": "DPukXjDkkwRe",
        "outputId": "64fdcbdb-7933-464f-f034-e91955d144fb"
      },
      "execution_count": 43,
      "outputs": [
        {
          "output_type": "execute_result",
          "data": {
            "text/plain": [
              "array([8, 6, 4, 3, 0, 4, 6, 8, 1, 8])"
            ]
          },
          "metadata": {},
          "execution_count": 43
        }
      ]
    },
    {
      "cell_type": "code",
      "source": [
        "#Indexação e slicing nos arrays\n",
        "print(i[0])\n",
        "print(i[0:3])\n",
        "print(i[0:6:2])"
      ],
      "metadata": {
        "colab": {
          "base_uri": "https://localhost:8080/"
        },
        "id": "UUdH-vj5kxKv",
        "outputId": "2dde0c6c-affc-44d6-f6b7-147a44d3827e"
      },
      "execution_count": 46,
      "outputs": [
        {
          "output_type": "stream",
          "name": "stdout",
          "text": [
            "8\n",
            "[8 6 4]\n",
            "[8 4 0]\n"
          ]
        }
      ]
    },
    {
      "cell_type": "code",
      "source": [
        "a = np.array([2,5,6])\n",
        "b = np.array([10,15,24])"
      ],
      "metadata": {
        "id": "LVf8nb7clUMo"
      },
      "execution_count": 47,
      "outputs": []
    },
    {
      "cell_type": "code",
      "source": [
        "#Adição\n",
        "np.add(a,b)"
      ],
      "metadata": {
        "colab": {
          "base_uri": "https://localhost:8080/"
        },
        "id": "ydZYvAR5lk5o",
        "outputId": "b4b32e2e-7142-40f8-8485-8d424360cdab"
      },
      "execution_count": 48,
      "outputs": [
        {
          "output_type": "execute_result",
          "data": {
            "text/plain": [
              "array([12, 20, 30])"
            ]
          },
          "metadata": {},
          "execution_count": 48
        }
      ]
    },
    {
      "cell_type": "code",
      "source": [
        "#Subtração\n",
        "np.subtract(a,b)"
      ],
      "metadata": {
        "colab": {
          "base_uri": "https://localhost:8080/"
        },
        "id": "PKzOhQaClu7k",
        "outputId": "a858e183-bf96-4169-f3a4-67a92898557e"
      },
      "execution_count": 49,
      "outputs": [
        {
          "output_type": "execute_result",
          "data": {
            "text/plain": [
              "array([ -8, -10, -18])"
            ]
          },
          "metadata": {},
          "execution_count": 49
        }
      ]
    },
    {
      "cell_type": "code",
      "source": [
        "#Multiplicação\n",
        "np.multiply(a,b)"
      ],
      "metadata": {
        "colab": {
          "base_uri": "https://localhost:8080/"
        },
        "id": "5fOE40Hml3Ey",
        "outputId": "bcdf542f-7eff-4d52-f4ab-e53eabf97d9e"
      },
      "execution_count": 50,
      "outputs": [
        {
          "output_type": "execute_result",
          "data": {
            "text/plain": [
              "array([ 20,  75, 144])"
            ]
          },
          "metadata": {},
          "execution_count": 50
        }
      ]
    },
    {
      "cell_type": "code",
      "source": [
        "#Divisão\n",
        "np.divide(b,a)"
      ],
      "metadata": {
        "colab": {
          "base_uri": "https://localhost:8080/"
        },
        "id": "TBEpVM90l_he",
        "outputId": "5e942f31-784f-493a-c3f7-26badc0210c5"
      },
      "execution_count": 52,
      "outputs": [
        {
          "output_type": "execute_result",
          "data": {
            "text/plain": [
              "array([5., 3., 4.])"
            ]
          },
          "metadata": {},
          "execution_count": 52
        }
      ]
    },
    {
      "cell_type": "markdown",
      "source": [
        "## Pandas\n",
        "[Yahoo Finance](https://finance.yahoo.com/)"
      ],
      "metadata": {
        "id": "JEdcZE0umN1I"
      }
    },
    {
      "cell_type": "code",
      "source": [
        "import pandas as pd\n",
        "#função para abrir base de dados csv\n",
        "dados = pd.read_csv('/content/drive/MyDrive/Dados - Data Science/WEGE3.SA.csv')"
      ],
      "metadata": {
        "id": "8f8NuLN3mP77"
      },
      "execution_count": 6,
      "outputs": []
    },
    {
      "cell_type": "code",
      "source": [
        "dados"
      ],
      "metadata": {
        "colab": {
          "base_uri": "https://localhost:8080/",
          "height": 424
        },
        "id": "L9C3xfALIE2j",
        "outputId": "9b36ecd1-a4cc-4598-ac9f-d20723f555bc"
      },
      "execution_count": 7,
      "outputs": [
        {
          "output_type": "execute_result",
          "data": {
            "text/plain": [
              "           Date       Open       High        Low      Close  Adj Close  \\\n",
              "0    2017-07-24   7.392307   7.473076   7.261538   7.426923   7.051007   \n",
              "1    2017-07-25   7.476923   7.476923   7.307692   7.369230   6.996235   \n",
              "2    2017-07-26   7.323076   7.442307   7.276923   7.326923   6.956069   \n",
              "3    2017-07-27   7.388461   7.419230   7.223076   7.269230   6.901296   \n",
              "4    2017-07-28   7.261538   7.296153   7.165384   7.200000   6.835570   \n",
              "..          ...        ...        ...        ...        ...        ...   \n",
              "988  2021-07-15  35.000000  35.590000  34.900002  34.919998  34.919998   \n",
              "989  2021-07-16  35.040001  35.259998  34.209999  34.290001  34.290001   \n",
              "990  2021-07-19  34.000000  34.369999  33.599998  34.180000  34.180000   \n",
              "991  2021-07-20  34.049999  34.830002  33.869999  34.549999  34.549999   \n",
              "992  2021-07-21  34.750000  34.970001  34.099998  34.450001  34.450001   \n",
              "\n",
              "        Volume  \n",
              "0    2638220.0  \n",
              "1    2505880.0  \n",
              "2    2112240.0  \n",
              "3    1910480.0  \n",
              "4    2866760.0  \n",
              "..         ...  \n",
              "988  4807000.0  \n",
              "989  5380000.0  \n",
              "990  4756600.0  \n",
              "991  4042300.0  \n",
              "992  4315700.0  \n",
              "\n",
              "[993 rows x 7 columns]"
            ],
            "text/html": [
              "\n",
              "  <div id=\"df-637f5e1c-ccd8-42fa-9693-980ba1dff9ab\">\n",
              "    <div class=\"colab-df-container\">\n",
              "      <div>\n",
              "<style scoped>\n",
              "    .dataframe tbody tr th:only-of-type {\n",
              "        vertical-align: middle;\n",
              "    }\n",
              "\n",
              "    .dataframe tbody tr th {\n",
              "        vertical-align: top;\n",
              "    }\n",
              "\n",
              "    .dataframe thead th {\n",
              "        text-align: right;\n",
              "    }\n",
              "</style>\n",
              "<table border=\"1\" class=\"dataframe\">\n",
              "  <thead>\n",
              "    <tr style=\"text-align: right;\">\n",
              "      <th></th>\n",
              "      <th>Date</th>\n",
              "      <th>Open</th>\n",
              "      <th>High</th>\n",
              "      <th>Low</th>\n",
              "      <th>Close</th>\n",
              "      <th>Adj Close</th>\n",
              "      <th>Volume</th>\n",
              "    </tr>\n",
              "  </thead>\n",
              "  <tbody>\n",
              "    <tr>\n",
              "      <th>0</th>\n",
              "      <td>2017-07-24</td>\n",
              "      <td>7.392307</td>\n",
              "      <td>7.473076</td>\n",
              "      <td>7.261538</td>\n",
              "      <td>7.426923</td>\n",
              "      <td>7.051007</td>\n",
              "      <td>2638220.0</td>\n",
              "    </tr>\n",
              "    <tr>\n",
              "      <th>1</th>\n",
              "      <td>2017-07-25</td>\n",
              "      <td>7.476923</td>\n",
              "      <td>7.476923</td>\n",
              "      <td>7.307692</td>\n",
              "      <td>7.369230</td>\n",
              "      <td>6.996235</td>\n",
              "      <td>2505880.0</td>\n",
              "    </tr>\n",
              "    <tr>\n",
              "      <th>2</th>\n",
              "      <td>2017-07-26</td>\n",
              "      <td>7.323076</td>\n",
              "      <td>7.442307</td>\n",
              "      <td>7.276923</td>\n",
              "      <td>7.326923</td>\n",
              "      <td>6.956069</td>\n",
              "      <td>2112240.0</td>\n",
              "    </tr>\n",
              "    <tr>\n",
              "      <th>3</th>\n",
              "      <td>2017-07-27</td>\n",
              "      <td>7.388461</td>\n",
              "      <td>7.419230</td>\n",
              "      <td>7.223076</td>\n",
              "      <td>7.269230</td>\n",
              "      <td>6.901296</td>\n",
              "      <td>1910480.0</td>\n",
              "    </tr>\n",
              "    <tr>\n",
              "      <th>4</th>\n",
              "      <td>2017-07-28</td>\n",
              "      <td>7.261538</td>\n",
              "      <td>7.296153</td>\n",
              "      <td>7.165384</td>\n",
              "      <td>7.200000</td>\n",
              "      <td>6.835570</td>\n",
              "      <td>2866760.0</td>\n",
              "    </tr>\n",
              "    <tr>\n",
              "      <th>...</th>\n",
              "      <td>...</td>\n",
              "      <td>...</td>\n",
              "      <td>...</td>\n",
              "      <td>...</td>\n",
              "      <td>...</td>\n",
              "      <td>...</td>\n",
              "      <td>...</td>\n",
              "    </tr>\n",
              "    <tr>\n",
              "      <th>988</th>\n",
              "      <td>2021-07-15</td>\n",
              "      <td>35.000000</td>\n",
              "      <td>35.590000</td>\n",
              "      <td>34.900002</td>\n",
              "      <td>34.919998</td>\n",
              "      <td>34.919998</td>\n",
              "      <td>4807000.0</td>\n",
              "    </tr>\n",
              "    <tr>\n",
              "      <th>989</th>\n",
              "      <td>2021-07-16</td>\n",
              "      <td>35.040001</td>\n",
              "      <td>35.259998</td>\n",
              "      <td>34.209999</td>\n",
              "      <td>34.290001</td>\n",
              "      <td>34.290001</td>\n",
              "      <td>5380000.0</td>\n",
              "    </tr>\n",
              "    <tr>\n",
              "      <th>990</th>\n",
              "      <td>2021-07-19</td>\n",
              "      <td>34.000000</td>\n",
              "      <td>34.369999</td>\n",
              "      <td>33.599998</td>\n",
              "      <td>34.180000</td>\n",
              "      <td>34.180000</td>\n",
              "      <td>4756600.0</td>\n",
              "    </tr>\n",
              "    <tr>\n",
              "      <th>991</th>\n",
              "      <td>2021-07-20</td>\n",
              "      <td>34.049999</td>\n",
              "      <td>34.830002</td>\n",
              "      <td>33.869999</td>\n",
              "      <td>34.549999</td>\n",
              "      <td>34.549999</td>\n",
              "      <td>4042300.0</td>\n",
              "    </tr>\n",
              "    <tr>\n",
              "      <th>992</th>\n",
              "      <td>2021-07-21</td>\n",
              "      <td>34.750000</td>\n",
              "      <td>34.970001</td>\n",
              "      <td>34.099998</td>\n",
              "      <td>34.450001</td>\n",
              "      <td>34.450001</td>\n",
              "      <td>4315700.0</td>\n",
              "    </tr>\n",
              "  </tbody>\n",
              "</table>\n",
              "<p>993 rows × 7 columns</p>\n",
              "</div>\n",
              "      <button class=\"colab-df-convert\" onclick=\"convertToInteractive('df-637f5e1c-ccd8-42fa-9693-980ba1dff9ab')\"\n",
              "              title=\"Convert this dataframe to an interactive table.\"\n",
              "              style=\"display:none;\">\n",
              "        \n",
              "  <svg xmlns=\"http://www.w3.org/2000/svg\" height=\"24px\"viewBox=\"0 0 24 24\"\n",
              "       width=\"24px\">\n",
              "    <path d=\"M0 0h24v24H0V0z\" fill=\"none\"/>\n",
              "    <path d=\"M18.56 5.44l.94 2.06.94-2.06 2.06-.94-2.06-.94-.94-2.06-.94 2.06-2.06.94zm-11 1L8.5 8.5l.94-2.06 2.06-.94-2.06-.94L8.5 2.5l-.94 2.06-2.06.94zm10 10l.94 2.06.94-2.06 2.06-.94-2.06-.94-.94-2.06-.94 2.06-2.06.94z\"/><path d=\"M17.41 7.96l-1.37-1.37c-.4-.4-.92-.59-1.43-.59-.52 0-1.04.2-1.43.59L10.3 9.45l-7.72 7.72c-.78.78-.78 2.05 0 2.83L4 21.41c.39.39.9.59 1.41.59.51 0 1.02-.2 1.41-.59l7.78-7.78 2.81-2.81c.8-.78.8-2.07 0-2.86zM5.41 20L4 18.59l7.72-7.72 1.47 1.35L5.41 20z\"/>\n",
              "  </svg>\n",
              "      </button>\n",
              "      \n",
              "  <style>\n",
              "    .colab-df-container {\n",
              "      display:flex;\n",
              "      flex-wrap:wrap;\n",
              "      gap: 12px;\n",
              "    }\n",
              "\n",
              "    .colab-df-convert {\n",
              "      background-color: #E8F0FE;\n",
              "      border: none;\n",
              "      border-radius: 50%;\n",
              "      cursor: pointer;\n",
              "      display: none;\n",
              "      fill: #1967D2;\n",
              "      height: 32px;\n",
              "      padding: 0 0 0 0;\n",
              "      width: 32px;\n",
              "    }\n",
              "\n",
              "    .colab-df-convert:hover {\n",
              "      background-color: #E2EBFA;\n",
              "      box-shadow: 0px 1px 2px rgba(60, 64, 67, 0.3), 0px 1px 3px 1px rgba(60, 64, 67, 0.15);\n",
              "      fill: #174EA6;\n",
              "    }\n",
              "\n",
              "    [theme=dark] .colab-df-convert {\n",
              "      background-color: #3B4455;\n",
              "      fill: #D2E3FC;\n",
              "    }\n",
              "\n",
              "    [theme=dark] .colab-df-convert:hover {\n",
              "      background-color: #434B5C;\n",
              "      box-shadow: 0px 1px 3px 1px rgba(0, 0, 0, 0.15);\n",
              "      filter: drop-shadow(0px 1px 2px rgba(0, 0, 0, 0.3));\n",
              "      fill: #FFFFFF;\n",
              "    }\n",
              "  </style>\n",
              "\n",
              "      <script>\n",
              "        const buttonEl =\n",
              "          document.querySelector('#df-637f5e1c-ccd8-42fa-9693-980ba1dff9ab button.colab-df-convert');\n",
              "        buttonEl.style.display =\n",
              "          google.colab.kernel.accessAllowed ? 'block' : 'none';\n",
              "\n",
              "        async function convertToInteractive(key) {\n",
              "          const element = document.querySelector('#df-637f5e1c-ccd8-42fa-9693-980ba1dff9ab');\n",
              "          const dataTable =\n",
              "            await google.colab.kernel.invokeFunction('convertToInteractive',\n",
              "                                                     [key], {});\n",
              "          if (!dataTable) return;\n",
              "\n",
              "          const docLinkHtml = 'Like what you see? Visit the ' +\n",
              "            '<a target=\"_blank\" href=https://colab.research.google.com/notebooks/data_table.ipynb>data table notebook</a>'\n",
              "            + ' to learn more about interactive tables.';\n",
              "          element.innerHTML = '';\n",
              "          dataTable['output_type'] = 'display_data';\n",
              "          await google.colab.output.renderOutput(dataTable, element);\n",
              "          const docLink = document.createElement('div');\n",
              "          docLink.innerHTML = docLinkHtml;\n",
              "          element.appendChild(docLink);\n",
              "        }\n",
              "      </script>\n",
              "    </div>\n",
              "  </div>\n",
              "  "
            ]
          },
          "metadata": {},
          "execution_count": 7
        }
      ]
    },
    {
      "cell_type": "code",
      "source": [
        "#Verificar dimensões (linhas, colunas)\n",
        "dados.shape"
      ],
      "metadata": {
        "colab": {
          "base_uri": "https://localhost:8080/"
        },
        "id": "OAKZtJWZo1cV",
        "outputId": "64c29d31-64db-4415-f6dd-8c77372bd4f5"
      },
      "execution_count": 8,
      "outputs": [
        {
          "output_type": "execute_result",
          "data": {
            "text/plain": [
              "(993, 7)"
            ]
          },
          "metadata": {},
          "execution_count": 8
        }
      ]
    },
    {
      "cell_type": "code",
      "source": [
        "#Verificar o tipo das variáveis\n",
        "\n",
        "#object = strings\n",
        "dados.dtypes"
      ],
      "metadata": {
        "colab": {
          "base_uri": "https://localhost:8080/"
        },
        "id": "z_6j_O1mHUP1",
        "outputId": "7f0479fb-25a8-47af-9ea1-6c812e529605"
      },
      "execution_count": 9,
      "outputs": [
        {
          "output_type": "execute_result",
          "data": {
            "text/plain": [
              "Date          object\n",
              "Open         float64\n",
              "High         float64\n",
              "Low          float64\n",
              "Close        float64\n",
              "Adj Close    float64\n",
              "Volume       float64\n",
              "dtype: object"
            ]
          },
          "metadata": {},
          "execution_count": 9
        }
      ]
    },
    {
      "cell_type": "code",
      "source": [
        "#verificar qual o tipo da variável dados\n",
        "type(dados)"
      ],
      "metadata": {
        "colab": {
          "base_uri": "https://localhost:8080/"
        },
        "id": "6SyDGXLZIekI",
        "outputId": "045412b1-632b-4cb1-88dd-621cc5ebb09c"
      },
      "execution_count": 10,
      "outputs": [
        {
          "output_type": "execute_result",
          "data": {
            "text/plain": [
              "pandas.core.frame.DataFrame"
            ]
          },
          "metadata": {},
          "execution_count": 10
        }
      ]
    },
    {
      "cell_type": "code",
      "source": [
        "#Verificar as 5 primeiras linhas da base de dados\n",
        "#Dentro dos parênteses você pode adicionar a quantidade de linhas que quer visualizar\n",
        "dados.head()"
      ],
      "metadata": {
        "colab": {
          "base_uri": "https://localhost:8080/",
          "height": 206
        },
        "id": "VmNBT_VNIm96",
        "outputId": "b21c0f32-b3be-4b49-b78f-4adcef3bb4d7"
      },
      "execution_count": 12,
      "outputs": [
        {
          "output_type": "execute_result",
          "data": {
            "text/plain": [
              "         Date      Open      High       Low     Close  Adj Close     Volume\n",
              "0  2017-07-24  7.392307  7.473076  7.261538  7.426923   7.051007  2638220.0\n",
              "1  2017-07-25  7.476923  7.476923  7.307692  7.369230   6.996235  2505880.0\n",
              "2  2017-07-26  7.323076  7.442307  7.276923  7.326923   6.956069  2112240.0\n",
              "3  2017-07-27  7.388461  7.419230  7.223076  7.269230   6.901296  1910480.0\n",
              "4  2017-07-28  7.261538  7.296153  7.165384  7.200000   6.835570  2866760.0"
            ],
            "text/html": [
              "\n",
              "  <div id=\"df-738b0e31-6f2e-4234-8d07-7ad1868d56f2\">\n",
              "    <div class=\"colab-df-container\">\n",
              "      <div>\n",
              "<style scoped>\n",
              "    .dataframe tbody tr th:only-of-type {\n",
              "        vertical-align: middle;\n",
              "    }\n",
              "\n",
              "    .dataframe tbody tr th {\n",
              "        vertical-align: top;\n",
              "    }\n",
              "\n",
              "    .dataframe thead th {\n",
              "        text-align: right;\n",
              "    }\n",
              "</style>\n",
              "<table border=\"1\" class=\"dataframe\">\n",
              "  <thead>\n",
              "    <tr style=\"text-align: right;\">\n",
              "      <th></th>\n",
              "      <th>Date</th>\n",
              "      <th>Open</th>\n",
              "      <th>High</th>\n",
              "      <th>Low</th>\n",
              "      <th>Close</th>\n",
              "      <th>Adj Close</th>\n",
              "      <th>Volume</th>\n",
              "    </tr>\n",
              "  </thead>\n",
              "  <tbody>\n",
              "    <tr>\n",
              "      <th>0</th>\n",
              "      <td>2017-07-24</td>\n",
              "      <td>7.392307</td>\n",
              "      <td>7.473076</td>\n",
              "      <td>7.261538</td>\n",
              "      <td>7.426923</td>\n",
              "      <td>7.051007</td>\n",
              "      <td>2638220.0</td>\n",
              "    </tr>\n",
              "    <tr>\n",
              "      <th>1</th>\n",
              "      <td>2017-07-25</td>\n",
              "      <td>7.476923</td>\n",
              "      <td>7.476923</td>\n",
              "      <td>7.307692</td>\n",
              "      <td>7.369230</td>\n",
              "      <td>6.996235</td>\n",
              "      <td>2505880.0</td>\n",
              "    </tr>\n",
              "    <tr>\n",
              "      <th>2</th>\n",
              "      <td>2017-07-26</td>\n",
              "      <td>7.323076</td>\n",
              "      <td>7.442307</td>\n",
              "      <td>7.276923</td>\n",
              "      <td>7.326923</td>\n",
              "      <td>6.956069</td>\n",
              "      <td>2112240.0</td>\n",
              "    </tr>\n",
              "    <tr>\n",
              "      <th>3</th>\n",
              "      <td>2017-07-27</td>\n",
              "      <td>7.388461</td>\n",
              "      <td>7.419230</td>\n",
              "      <td>7.223076</td>\n",
              "      <td>7.269230</td>\n",
              "      <td>6.901296</td>\n",
              "      <td>1910480.0</td>\n",
              "    </tr>\n",
              "    <tr>\n",
              "      <th>4</th>\n",
              "      <td>2017-07-28</td>\n",
              "      <td>7.261538</td>\n",
              "      <td>7.296153</td>\n",
              "      <td>7.165384</td>\n",
              "      <td>7.200000</td>\n",
              "      <td>6.835570</td>\n",
              "      <td>2866760.0</td>\n",
              "    </tr>\n",
              "  </tbody>\n",
              "</table>\n",
              "</div>\n",
              "      <button class=\"colab-df-convert\" onclick=\"convertToInteractive('df-738b0e31-6f2e-4234-8d07-7ad1868d56f2')\"\n",
              "              title=\"Convert this dataframe to an interactive table.\"\n",
              "              style=\"display:none;\">\n",
              "        \n",
              "  <svg xmlns=\"http://www.w3.org/2000/svg\" height=\"24px\"viewBox=\"0 0 24 24\"\n",
              "       width=\"24px\">\n",
              "    <path d=\"M0 0h24v24H0V0z\" fill=\"none\"/>\n",
              "    <path d=\"M18.56 5.44l.94 2.06.94-2.06 2.06-.94-2.06-.94-.94-2.06-.94 2.06-2.06.94zm-11 1L8.5 8.5l.94-2.06 2.06-.94-2.06-.94L8.5 2.5l-.94 2.06-2.06.94zm10 10l.94 2.06.94-2.06 2.06-.94-2.06-.94-.94-2.06-.94 2.06-2.06.94z\"/><path d=\"M17.41 7.96l-1.37-1.37c-.4-.4-.92-.59-1.43-.59-.52 0-1.04.2-1.43.59L10.3 9.45l-7.72 7.72c-.78.78-.78 2.05 0 2.83L4 21.41c.39.39.9.59 1.41.59.51 0 1.02-.2 1.41-.59l7.78-7.78 2.81-2.81c.8-.78.8-2.07 0-2.86zM5.41 20L4 18.59l7.72-7.72 1.47 1.35L5.41 20z\"/>\n",
              "  </svg>\n",
              "      </button>\n",
              "      \n",
              "  <style>\n",
              "    .colab-df-container {\n",
              "      display:flex;\n",
              "      flex-wrap:wrap;\n",
              "      gap: 12px;\n",
              "    }\n",
              "\n",
              "    .colab-df-convert {\n",
              "      background-color: #E8F0FE;\n",
              "      border: none;\n",
              "      border-radius: 50%;\n",
              "      cursor: pointer;\n",
              "      display: none;\n",
              "      fill: #1967D2;\n",
              "      height: 32px;\n",
              "      padding: 0 0 0 0;\n",
              "      width: 32px;\n",
              "    }\n",
              "\n",
              "    .colab-df-convert:hover {\n",
              "      background-color: #E2EBFA;\n",
              "      box-shadow: 0px 1px 2px rgba(60, 64, 67, 0.3), 0px 1px 3px 1px rgba(60, 64, 67, 0.15);\n",
              "      fill: #174EA6;\n",
              "    }\n",
              "\n",
              "    [theme=dark] .colab-df-convert {\n",
              "      background-color: #3B4455;\n",
              "      fill: #D2E3FC;\n",
              "    }\n",
              "\n",
              "    [theme=dark] .colab-df-convert:hover {\n",
              "      background-color: #434B5C;\n",
              "      box-shadow: 0px 1px 3px 1px rgba(0, 0, 0, 0.15);\n",
              "      filter: drop-shadow(0px 1px 2px rgba(0, 0, 0, 0.3));\n",
              "      fill: #FFFFFF;\n",
              "    }\n",
              "  </style>\n",
              "\n",
              "      <script>\n",
              "        const buttonEl =\n",
              "          document.querySelector('#df-738b0e31-6f2e-4234-8d07-7ad1868d56f2 button.colab-df-convert');\n",
              "        buttonEl.style.display =\n",
              "          google.colab.kernel.accessAllowed ? 'block' : 'none';\n",
              "\n",
              "        async function convertToInteractive(key) {\n",
              "          const element = document.querySelector('#df-738b0e31-6f2e-4234-8d07-7ad1868d56f2');\n",
              "          const dataTable =\n",
              "            await google.colab.kernel.invokeFunction('convertToInteractive',\n",
              "                                                     [key], {});\n",
              "          if (!dataTable) return;\n",
              "\n",
              "          const docLinkHtml = 'Like what you see? Visit the ' +\n",
              "            '<a target=\"_blank\" href=https://colab.research.google.com/notebooks/data_table.ipynb>data table notebook</a>'\n",
              "            + ' to learn more about interactive tables.';\n",
              "          element.innerHTML = '';\n",
              "          dataTable['output_type'] = 'display_data';\n",
              "          await google.colab.output.renderOutput(dataTable, element);\n",
              "          const docLink = document.createElement('div');\n",
              "          docLink.innerHTML = docLinkHtml;\n",
              "          element.appendChild(docLink);\n",
              "        }\n",
              "      </script>\n",
              "    </div>\n",
              "  </div>\n",
              "  "
            ]
          },
          "metadata": {},
          "execution_count": 12
        }
      ]
    },
    {
      "cell_type": "code",
      "source": [
        "#Verificar as últimas 5 linhas\n",
        "dados.tail()"
      ],
      "metadata": {
        "colab": {
          "base_uri": "https://localhost:8080/",
          "height": 206
        },
        "id": "rzl3Nf62JK-j",
        "outputId": "8ec3e1eb-457a-4a6c-ae40-87b49fa775e7"
      },
      "execution_count": 14,
      "outputs": [
        {
          "output_type": "execute_result",
          "data": {
            "text/plain": [
              "           Date       Open       High        Low      Close  Adj Close  \\\n",
              "988  2021-07-15  35.000000  35.590000  34.900002  34.919998  34.919998   \n",
              "989  2021-07-16  35.040001  35.259998  34.209999  34.290001  34.290001   \n",
              "990  2021-07-19  34.000000  34.369999  33.599998  34.180000  34.180000   \n",
              "991  2021-07-20  34.049999  34.830002  33.869999  34.549999  34.549999   \n",
              "992  2021-07-21  34.750000  34.970001  34.099998  34.450001  34.450001   \n",
              "\n",
              "        Volume  \n",
              "988  4807000.0  \n",
              "989  5380000.0  \n",
              "990  4756600.0  \n",
              "991  4042300.0  \n",
              "992  4315700.0  "
            ],
            "text/html": [
              "\n",
              "  <div id=\"df-27342f2c-d482-4c27-9d08-37e69f6bd0d0\">\n",
              "    <div class=\"colab-df-container\">\n",
              "      <div>\n",
              "<style scoped>\n",
              "    .dataframe tbody tr th:only-of-type {\n",
              "        vertical-align: middle;\n",
              "    }\n",
              "\n",
              "    .dataframe tbody tr th {\n",
              "        vertical-align: top;\n",
              "    }\n",
              "\n",
              "    .dataframe thead th {\n",
              "        text-align: right;\n",
              "    }\n",
              "</style>\n",
              "<table border=\"1\" class=\"dataframe\">\n",
              "  <thead>\n",
              "    <tr style=\"text-align: right;\">\n",
              "      <th></th>\n",
              "      <th>Date</th>\n",
              "      <th>Open</th>\n",
              "      <th>High</th>\n",
              "      <th>Low</th>\n",
              "      <th>Close</th>\n",
              "      <th>Adj Close</th>\n",
              "      <th>Volume</th>\n",
              "    </tr>\n",
              "  </thead>\n",
              "  <tbody>\n",
              "    <tr>\n",
              "      <th>988</th>\n",
              "      <td>2021-07-15</td>\n",
              "      <td>35.000000</td>\n",
              "      <td>35.590000</td>\n",
              "      <td>34.900002</td>\n",
              "      <td>34.919998</td>\n",
              "      <td>34.919998</td>\n",
              "      <td>4807000.0</td>\n",
              "    </tr>\n",
              "    <tr>\n",
              "      <th>989</th>\n",
              "      <td>2021-07-16</td>\n",
              "      <td>35.040001</td>\n",
              "      <td>35.259998</td>\n",
              "      <td>34.209999</td>\n",
              "      <td>34.290001</td>\n",
              "      <td>34.290001</td>\n",
              "      <td>5380000.0</td>\n",
              "    </tr>\n",
              "    <tr>\n",
              "      <th>990</th>\n",
              "      <td>2021-07-19</td>\n",
              "      <td>34.000000</td>\n",
              "      <td>34.369999</td>\n",
              "      <td>33.599998</td>\n",
              "      <td>34.180000</td>\n",
              "      <td>34.180000</td>\n",
              "      <td>4756600.0</td>\n",
              "    </tr>\n",
              "    <tr>\n",
              "      <th>991</th>\n",
              "      <td>2021-07-20</td>\n",
              "      <td>34.049999</td>\n",
              "      <td>34.830002</td>\n",
              "      <td>33.869999</td>\n",
              "      <td>34.549999</td>\n",
              "      <td>34.549999</td>\n",
              "      <td>4042300.0</td>\n",
              "    </tr>\n",
              "    <tr>\n",
              "      <th>992</th>\n",
              "      <td>2021-07-21</td>\n",
              "      <td>34.750000</td>\n",
              "      <td>34.970001</td>\n",
              "      <td>34.099998</td>\n",
              "      <td>34.450001</td>\n",
              "      <td>34.450001</td>\n",
              "      <td>4315700.0</td>\n",
              "    </tr>\n",
              "  </tbody>\n",
              "</table>\n",
              "</div>\n",
              "      <button class=\"colab-df-convert\" onclick=\"convertToInteractive('df-27342f2c-d482-4c27-9d08-37e69f6bd0d0')\"\n",
              "              title=\"Convert this dataframe to an interactive table.\"\n",
              "              style=\"display:none;\">\n",
              "        \n",
              "  <svg xmlns=\"http://www.w3.org/2000/svg\" height=\"24px\"viewBox=\"0 0 24 24\"\n",
              "       width=\"24px\">\n",
              "    <path d=\"M0 0h24v24H0V0z\" fill=\"none\"/>\n",
              "    <path d=\"M18.56 5.44l.94 2.06.94-2.06 2.06-.94-2.06-.94-.94-2.06-.94 2.06-2.06.94zm-11 1L8.5 8.5l.94-2.06 2.06-.94-2.06-.94L8.5 2.5l-.94 2.06-2.06.94zm10 10l.94 2.06.94-2.06 2.06-.94-2.06-.94-.94-2.06-.94 2.06-2.06.94z\"/><path d=\"M17.41 7.96l-1.37-1.37c-.4-.4-.92-.59-1.43-.59-.52 0-1.04.2-1.43.59L10.3 9.45l-7.72 7.72c-.78.78-.78 2.05 0 2.83L4 21.41c.39.39.9.59 1.41.59.51 0 1.02-.2 1.41-.59l7.78-7.78 2.81-2.81c.8-.78.8-2.07 0-2.86zM5.41 20L4 18.59l7.72-7.72 1.47 1.35L5.41 20z\"/>\n",
              "  </svg>\n",
              "      </button>\n",
              "      \n",
              "  <style>\n",
              "    .colab-df-container {\n",
              "      display:flex;\n",
              "      flex-wrap:wrap;\n",
              "      gap: 12px;\n",
              "    }\n",
              "\n",
              "    .colab-df-convert {\n",
              "      background-color: #E8F0FE;\n",
              "      border: none;\n",
              "      border-radius: 50%;\n",
              "      cursor: pointer;\n",
              "      display: none;\n",
              "      fill: #1967D2;\n",
              "      height: 32px;\n",
              "      padding: 0 0 0 0;\n",
              "      width: 32px;\n",
              "    }\n",
              "\n",
              "    .colab-df-convert:hover {\n",
              "      background-color: #E2EBFA;\n",
              "      box-shadow: 0px 1px 2px rgba(60, 64, 67, 0.3), 0px 1px 3px 1px rgba(60, 64, 67, 0.15);\n",
              "      fill: #174EA6;\n",
              "    }\n",
              "\n",
              "    [theme=dark] .colab-df-convert {\n",
              "      background-color: #3B4455;\n",
              "      fill: #D2E3FC;\n",
              "    }\n",
              "\n",
              "    [theme=dark] .colab-df-convert:hover {\n",
              "      background-color: #434B5C;\n",
              "      box-shadow: 0px 1px 3px 1px rgba(0, 0, 0, 0.15);\n",
              "      filter: drop-shadow(0px 1px 2px rgba(0, 0, 0, 0.3));\n",
              "      fill: #FFFFFF;\n",
              "    }\n",
              "  </style>\n",
              "\n",
              "      <script>\n",
              "        const buttonEl =\n",
              "          document.querySelector('#df-27342f2c-d482-4c27-9d08-37e69f6bd0d0 button.colab-df-convert');\n",
              "        buttonEl.style.display =\n",
              "          google.colab.kernel.accessAllowed ? 'block' : 'none';\n",
              "\n",
              "        async function convertToInteractive(key) {\n",
              "          const element = document.querySelector('#df-27342f2c-d482-4c27-9d08-37e69f6bd0d0');\n",
              "          const dataTable =\n",
              "            await google.colab.kernel.invokeFunction('convertToInteractive',\n",
              "                                                     [key], {});\n",
              "          if (!dataTable) return;\n",
              "\n",
              "          const docLinkHtml = 'Like what you see? Visit the ' +\n",
              "            '<a target=\"_blank\" href=https://colab.research.google.com/notebooks/data_table.ipynb>data table notebook</a>'\n",
              "            + ' to learn more about interactive tables.';\n",
              "          element.innerHTML = '';\n",
              "          dataTable['output_type'] = 'display_data';\n",
              "          await google.colab.output.renderOutput(dataTable, element);\n",
              "          const docLink = document.createElement('div');\n",
              "          docLink.innerHTML = docLinkHtml;\n",
              "          element.appendChild(docLink);\n",
              "        }\n",
              "      </script>\n",
              "    </div>\n",
              "  </div>\n",
              "  "
            ]
          },
          "metadata": {},
          "execution_count": 14
        }
      ]
    },
    {
      "cell_type": "markdown",
      "source": [
        "### Operadores no Pandas para filtros"
      ],
      "metadata": {
        "id": "N8WYz5V5JvQC"
      }
    },
    {
      "cell_type": "code",
      "source": [
        "#Filtrar(extração) usando o nome da linha (index)\n",
        "dados.loc[0]"
      ],
      "metadata": {
        "colab": {
          "base_uri": "https://localhost:8080/"
        },
        "id": "OIF3bIcfJ22O",
        "outputId": "71cea3c1-76f6-478d-a812-2148229ce966"
      },
      "execution_count": 15,
      "outputs": [
        {
          "output_type": "execute_result",
          "data": {
            "text/plain": [
              "Date         2017-07-24\n",
              "Open           7.392307\n",
              "High           7.473076\n",
              "Low            7.261538\n",
              "Close          7.426923\n",
              "Adj Close      7.051007\n",
              "Volume        2638220.0\n",
              "Name: 0, dtype: object"
            ]
          },
          "metadata": {},
          "execution_count": 15
        }
      ]
    },
    {
      "cell_type": "code",
      "source": [
        "#Filtrar(extração) usando a posição da linha\n",
        "#Por coincidência o index e posição são as mesmas\n",
        "dados.iloc[0]"
      ],
      "metadata": {
        "colab": {
          "base_uri": "https://localhost:8080/"
        },
        "id": "F1Wr2gfHKL8o",
        "outputId": "af78a8d3-625a-41d8-c408-903051397805"
      },
      "execution_count": 16,
      "outputs": [
        {
          "output_type": "execute_result",
          "data": {
            "text/plain": [
              "Date         2017-07-24\n",
              "Open           7.392307\n",
              "High           7.473076\n",
              "Low            7.261538\n",
              "Close          7.426923\n",
              "Adj Close      7.051007\n",
              "Volume        2638220.0\n",
              "Name: 0, dtype: object"
            ]
          },
          "metadata": {},
          "execution_count": 16
        }
      ]
    },
    {
      "cell_type": "code",
      "source": [
        "#Filtrar células (linha,coluna)\n",
        "dados.iloc[0,1]"
      ],
      "metadata": {
        "colab": {
          "base_uri": "https://localhost:8080/"
        },
        "id": "xFxlJIebLPgE",
        "outputId": "d0828b47-4100-49fe-9c43-413ca2cde010"
      },
      "execution_count": 18,
      "outputs": [
        {
          "output_type": "execute_result",
          "data": {
            "text/plain": [
              "7.392307"
            ]
          },
          "metadata": {},
          "execution_count": 18
        }
      ]
    },
    {
      "cell_type": "code",
      "source": [
        "#Filtrar colunas com nome específico\n",
        "dados['Open']"
      ],
      "metadata": {
        "colab": {
          "base_uri": "https://localhost:8080/"
        },
        "id": "YRn8qX1RLtmC",
        "outputId": "4cc53779-e349-43df-d59b-7a8a0a7c2e1c"
      },
      "execution_count": 20,
      "outputs": [
        {
          "output_type": "execute_result",
          "data": {
            "text/plain": [
              "0       7.392307\n",
              "1       7.476923\n",
              "2       7.323076\n",
              "3       7.388461\n",
              "4       7.261538\n",
              "         ...    \n",
              "988    35.000000\n",
              "989    35.040001\n",
              "990    34.000000\n",
              "991    34.049999\n",
              "992    34.750000\n",
              "Name: Open, Length: 993, dtype: float64"
            ]
          },
          "metadata": {},
          "execution_count": 20
        }
      ]
    },
    {
      "cell_type": "code",
      "source": [
        "#Plotar uma coluna, pode ser de qualquer um desses jeitos.\n",
        "#Para retirar a mensagem em cima do gráfico basta adicionar um \";\" ao final do comando.\n",
        "dados['Open'].plot()\n",
        "dados.Close.plot()"
      ],
      "metadata": {
        "colab": {
          "base_uri": "https://localhost:8080/",
          "height": 282
        },
        "id": "ORNtHo8_MFad",
        "outputId": "f7fce0ee-a83a-4bd4-fe15-2c87ab1d82bd"
      },
      "execution_count": 22,
      "outputs": [
        {
          "output_type": "execute_result",
          "data": {
            "text/plain": [
              "<matplotlib.axes._subplots.AxesSubplot at 0x7ff9810f4750>"
            ]
          },
          "metadata": {},
          "execution_count": 22
        },
        {
          "output_type": "display_data",
          "data": {
            "text/plain": [
              "<Figure size 432x288 with 1 Axes>"
            ],
            "image/png": "[encoded data removed]"
          },
          "metadata": {
            "needs_background": "light"
          }
        }
      ]
    },
    {
      "cell_type": "code",
      "source": [
        "#Plotar um segmento de uma coluna usando filtro [inicio: fim]\n",
        "dados.iloc[0:500]\n",
        "#dados.iloc[0:500].Close.plot();\n"
      ],
      "metadata": {
        "colab": {
          "base_uri": "https://localhost:8080/",
          "height": 424
        },
        "id": "NCMc6OOGNOaE",
        "outputId": "ed9b281d-620b-4a88-dc18-5532b9e58e12"
      },
      "execution_count": 28,
      "outputs": [
        {
          "output_type": "execute_result",
          "data": {
            "text/plain": [
              "           Date       Open       High        Low      Close  Adj Close  \\\n",
              "0    2017-07-24   7.392307   7.473076   7.261538   7.426923   7.051007   \n",
              "1    2017-07-25   7.476923   7.476923   7.307692   7.369230   6.996235   \n",
              "2    2017-07-26   7.323076   7.442307   7.276923   7.326923   6.956069   \n",
              "3    2017-07-27   7.388461   7.419230   7.223076   7.269230   6.901296   \n",
              "4    2017-07-28   7.261538   7.296153   7.165384   7.200000   6.835570   \n",
              "..          ...        ...        ...        ...        ...        ...   \n",
              "495  2019-07-18  11.325000  11.465000  11.315000  11.375000  11.147419   \n",
              "496  2019-07-19  11.350000  11.475000  11.350000  11.395000  11.167021   \n",
              "497  2019-07-22  11.445000  11.465000  11.300000  11.300000  11.073921   \n",
              "498  2019-07-23  11.330000  11.415000  11.265000  11.290000  11.064116   \n",
              "499  2019-07-24  11.450000  11.665000  11.370000  11.500000  11.269919   \n",
              "\n",
              "         Volume  \n",
              "0     2638220.0  \n",
              "1     2505880.0  \n",
              "2     2112240.0  \n",
              "3     1910480.0  \n",
              "4     2866760.0  \n",
              "..          ...  \n",
              "495   3995200.0  \n",
              "496   5632000.0  \n",
              "497   2134800.0  \n",
              "498   3183200.0  \n",
              "499  10416200.0  \n",
              "\n",
              "[500 rows x 7 columns]"
            ],
            "text/html": [
              "\n",
              "  <div id=\"df-28564bbe-0d01-4123-824b-fc78905adffe\">\n",
              "    <div class=\"colab-df-container\">\n",
              "      <div>\n",
              "<style scoped>\n",
              "    .dataframe tbody tr th:only-of-type {\n",
              "        vertical-align: middle;\n",
              "    }\n",
              "\n",
              "    .dataframe tbody tr th {\n",
              "        vertical-align: top;\n",
              "    }\n",
              "\n",
              "    .dataframe thead th {\n",
              "        text-align: right;\n",
              "    }\n",
              "</style>\n",
              "<table border=\"1\" class=\"dataframe\">\n",
              "  <thead>\n",
              "    <tr style=\"text-align: right;\">\n",
              "      <th></th>\n",
              "      <th>Date</th>\n",
              "      <th>Open</th>\n",
              "      <th>High</th>\n",
              "      <th>Low</th>\n",
              "      <th>Close</th>\n",
              "      <th>Adj Close</th>\n",
              "      <th>Volume</th>\n",
              "    </tr>\n",
              "  </thead>\n",
              "  <tbody>\n",
              "    <tr>\n",
              "      <th>0</th>\n",
              "      <td>2017-07-24</td>\n",
              "      <td>7.392307</td>\n",
              "      <td>7.473076</td>\n",
              "      <td>7.261538</td>\n",
              "      <td>7.426923</td>\n",
              "      <td>7.051007</td>\n",
              "      <td>2638220.0</td>\n",
              "    </tr>\n",
              "    <tr>\n",
              "      <th>1</th>\n",
              "      <td>2017-07-25</td>\n",
              "      <td>7.476923</td>\n",
              "      <td>7.476923</td>\n",
              "      <td>7.307692</td>\n",
              "      <td>7.369230</td>\n",
              "      <td>6.996235</td>\n",
              "      <td>2505880.0</td>\n",
              "    </tr>\n",
              "    <tr>\n",
              "      <th>2</th>\n",
              "      <td>2017-07-26</td>\n",
              "      <td>7.323076</td>\n",
              "      <td>7.442307</td>\n",
              "      <td>7.276923</td>\n",
              "      <td>7.326923</td>\n",
              "      <td>6.956069</td>\n",
              "      <td>2112240.0</td>\n",
              "    </tr>\n",
              "    <tr>\n",
              "      <th>3</th>\n",
              "      <td>2017-07-27</td>\n",
              "      <td>7.388461</td>\n",
              "      <td>7.419230</td>\n",
              "      <td>7.223076</td>\n",
              "      <td>7.269230</td>\n",
              "      <td>6.901296</td>\n",
              "      <td>1910480.0</td>\n",
              "    </tr>\n",
              "    <tr>\n",
              "      <th>4</th>\n",
              "      <td>2017-07-28</td>\n",
              "      <td>7.261538</td>\n",
              "      <td>7.296153</td>\n",
              "      <td>7.165384</td>\n",
              "      <td>7.200000</td>\n",
              "      <td>6.835570</td>\n",
              "      <td>2866760.0</td>\n",
              "    </tr>\n",
              "    <tr>\n",
              "      <th>...</th>\n",
              "      <td>...</td>\n",
              "      <td>...</td>\n",
              "      <td>...</td>\n",
              "      <td>...</td>\n",
              "      <td>...</td>\n",
              "      <td>...</td>\n",
              "      <td>...</td>\n",
              "    </tr>\n",
              "    <tr>\n",
              "      <th>495</th>\n",
              "      <td>2019-07-18</td>\n",
              "      <td>11.325000</td>\n",
              "      <td>11.465000</td>\n",
              "      <td>11.315000</td>\n",
              "      <td>11.375000</td>\n",
              "      <td>11.147419</td>\n",
              "      <td>3995200.0</td>\n",
              "    </tr>\n",
              "    <tr>\n",
              "      <th>496</th>\n",
              "      <td>2019-07-19</td>\n",
              "      <td>11.350000</td>\n",
              "      <td>11.475000</td>\n",
              "      <td>11.350000</td>\n",
              "      <td>11.395000</td>\n",
              "      <td>11.167021</td>\n",
              "      <td>5632000.0</td>\n",
              "    </tr>\n",
              "    <tr>\n",
              "      <th>497</th>\n",
              "      <td>2019-07-22</td>\n",
              "      <td>11.445000</td>\n",
              "      <td>11.465000</td>\n",
              "      <td>11.300000</td>\n",
              "      <td>11.300000</td>\n",
              "      <td>11.073921</td>\n",
              "      <td>2134800.0</td>\n",
              "    </tr>\n",
              "    <tr>\n",
              "      <th>498</th>\n",
              "      <td>2019-07-23</td>\n",
              "      <td>11.330000</td>\n",
              "      <td>11.415000</td>\n",
              "      <td>11.265000</td>\n",
              "      <td>11.290000</td>\n",
              "      <td>11.064116</td>\n",
              "      <td>3183200.0</td>\n",
              "    </tr>\n",
              "    <tr>\n",
              "      <th>499</th>\n",
              "      <td>2019-07-24</td>\n",
              "      <td>11.450000</td>\n",
              "      <td>11.665000</td>\n",
              "      <td>11.370000</td>\n",
              "      <td>11.500000</td>\n",
              "      <td>11.269919</td>\n",
              "      <td>10416200.0</td>\n",
              "    </tr>\n",
              "  </tbody>\n",
              "</table>\n",
              "<p>500 rows × 7 columns</p>\n",
              "</div>\n",
              "      <button class=\"colab-df-convert\" onclick=\"convertToInteractive('df-28564bbe-0d01-4123-824b-fc78905adffe')\"\n",
              "              title=\"Convert this dataframe to an interactive table.\"\n",
              "              style=\"display:none;\">\n",
              "        \n",
              "  <svg xmlns=\"http://www.w3.org/2000/svg\" height=\"24px\"viewBox=\"0 0 24 24\"\n",
              "       width=\"24px\">\n",
              "    <path d=\"M0 0h24v24H0V0z\" fill=\"none\"/>\n",
              "    <path d=\"M18.56 5.44l.94 2.06.94-2.06 2.06-.94-2.06-.94-.94-2.06-.94 2.06-2.06.94zm-11 1L8.5 8.5l.94-2.06 2.06-.94-2.06-.94L8.5 2.5l-.94 2.06-2.06.94zm10 10l.94 2.06.94-2.06 2.06-.94-2.06-.94-.94-2.06-.94 2.06-2.06.94z\"/><path d=\"M17.41 7.96l-1.37-1.37c-.4-.4-.92-.59-1.43-.59-.52 0-1.04.2-1.43.59L10.3 9.45l-7.72 7.72c-.78.78-.78 2.05 0 2.83L4 21.41c.39.39.9.59 1.41.59.51 0 1.02-.2 1.41-.59l7.78-7.78 2.81-2.81c.8-.78.8-2.07 0-2.86zM5.41 20L4 18.59l7.72-7.72 1.47 1.35L5.41 20z\"/>\n",
              "  </svg>\n",
              "      </button>\n",
              "      \n",
              "  <style>\n",
              "    .colab-df-container {\n",
              "      display:flex;\n",
              "      flex-wrap:wrap;\n",
              "      gap: 12px;\n",
              "    }\n",
              "\n",
              "    .colab-df-convert {\n",
              "      background-color: #E8F0FE;\n",
              "      border: none;\n",
              "      border-radius: 50%;\n",
              "      cursor: pointer;\n",
              "      display: none;\n",
              "      fill: #1967D2;\n",
              "      height: 32px;\n",
              "      padding: 0 0 0 0;\n",
              "      width: 32px;\n",
              "    }\n",
              "\n",
              "    .colab-df-convert:hover {\n",
              "      background-color: #E2EBFA;\n",
              "      box-shadow: 0px 1px 2px rgba(60, 64, 67, 0.3), 0px 1px 3px 1px rgba(60, 64, 67, 0.15);\n",
              "      fill: #174EA6;\n",
              "    }\n",
              "\n",
              "    [theme=dark] .colab-df-convert {\n",
              "      background-color: #3B4455;\n",
              "      fill: #D2E3FC;\n",
              "    }\n",
              "\n",
              "    [theme=dark] .colab-df-convert:hover {\n",
              "      background-color: #434B5C;\n",
              "      box-shadow: 0px 1px 3px 1px rgba(0, 0, 0, 0.15);\n",
              "      filter: drop-shadow(0px 1px 2px rgba(0, 0, 0, 0.3));\n",
              "      fill: #FFFFFF;\n",
              "    }\n",
              "  </style>\n",
              "\n",
              "      <script>\n",
              "        const buttonEl =\n",
              "          document.querySelector('#df-28564bbe-0d01-4123-824b-fc78905adffe button.colab-df-convert');\n",
              "        buttonEl.style.display =\n",
              "          google.colab.kernel.accessAllowed ? 'block' : 'none';\n",
              "\n",
              "        async function convertToInteractive(key) {\n",
              "          const element = document.querySelector('#df-28564bbe-0d01-4123-824b-fc78905adffe');\n",
              "          const dataTable =\n",
              "            await google.colab.kernel.invokeFunction('convertToInteractive',\n",
              "                                                     [key], {});\n",
              "          if (!dataTable) return;\n",
              "\n",
              "          const docLinkHtml = 'Like what you see? Visit the ' +\n",
              "            '<a target=\"_blank\" href=https://colab.research.google.com/notebooks/data_table.ipynb>data table notebook</a>'\n",
              "            + ' to learn more about interactive tables.';\n",
              "          element.innerHTML = '';\n",
              "          dataTable['output_type'] = 'display_data';\n",
              "          await google.colab.output.renderOutput(dataTable, element);\n",
              "          const docLink = document.createElement('div');\n",
              "          docLink.innerHTML = docLinkHtml;\n",
              "          element.appendChild(docLink);\n",
              "        }\n",
              "      </script>\n",
              "    </div>\n",
              "  </div>\n",
              "  "
            ]
          },
          "metadata": {},
          "execution_count": 28
        }
      ]
    },
    {
      "cell_type": "code",
      "source": [
        "#Trocar posições entre index e Data\n",
        "dados.index = dados.Date"
      ],
      "metadata": {
        "id": "I_WicGs8OMqm"
      },
      "execution_count": 29,
      "outputs": []
    },
    {
      "cell_type": "code",
      "source": [
        "dados.head()"
      ],
      "metadata": {
        "colab": {
          "base_uri": "https://localhost:8080/",
          "height": 282
        },
        "id": "tSzUM-sbOcqt",
        "outputId": "f0ee4cf1-724c-444b-f3af-34e20f1233b9"
      },
      "execution_count": 30,
      "outputs": [
        {
          "output_type": "execute_result",
          "data": {
            "text/plain": [
              "                  Date      Open      High       Low     Close  Adj Close  \\\n",
              "Date                                                                        \n",
              "2017-07-24  2017-07-24  7.392307  7.473076  7.261538  7.426923   7.051007   \n",
              "2017-07-25  2017-07-25  7.476923  7.476923  7.307692  7.369230   6.996235   \n",
              "2017-07-26  2017-07-26  7.323076  7.442307  7.276923  7.326923   6.956069   \n",
              "2017-07-27  2017-07-27  7.388461  7.419230  7.223076  7.269230   6.901296   \n",
              "2017-07-28  2017-07-28  7.261538  7.296153  7.165384  7.200000   6.835570   \n",
              "\n",
              "               Volume  \n",
              "Date                   \n",
              "2017-07-24  2638220.0  \n",
              "2017-07-25  2505880.0  \n",
              "2017-07-26  2112240.0  \n",
              "2017-07-27  1910480.0  \n",
              "2017-07-28  2866760.0  "
            ],
            "text/html": [
              "\n",
              "  <div id=\"df-04baa73b-85a9-4e12-bad6-6e1e77b764e0\">\n",
              "    <div class=\"colab-df-container\">\n",
              "      <div>\n",
              "<style scoped>\n",
              "    .dataframe tbody tr th:only-of-type {\n",
              "        vertical-align: middle;\n",
              "    }\n",
              "\n",
              "    .dataframe tbody tr th {\n",
              "        vertical-align: top;\n",
              "    }\n",
              "\n",
              "    .dataframe thead th {\n",
              "        text-align: right;\n",
              "    }\n",
              "</style>\n",
              "<table border=\"1\" class=\"dataframe\">\n",
              "  <thead>\n",
              "    <tr style=\"text-align: right;\">\n",
              "      <th></th>\n",
              "      <th>Date</th>\n",
              "      <th>Open</th>\n",
              "      <th>High</th>\n",
              "      <th>Low</th>\n",
              "      <th>Close</th>\n",
              "      <th>Adj Close</th>\n",
              "      <th>Volume</th>\n",
              "    </tr>\n",
              "    <tr>\n",
              "      <th>Date</th>\n",
              "      <th></th>\n",
              "      <th></th>\n",
              "      <th></th>\n",
              "      <th></th>\n",
              "      <th></th>\n",
              "      <th></th>\n",
              "      <th></th>\n",
              "    </tr>\n",
              "  </thead>\n",
              "  <tbody>\n",
              "    <tr>\n",
              "      <th>2017-07-24</th>\n",
              "      <td>2017-07-24</td>\n",
              "      <td>7.392307</td>\n",
              "      <td>7.473076</td>\n",
              "      <td>7.261538</td>\n",
              "      <td>7.426923</td>\n",
              "      <td>7.051007</td>\n",
              "      <td>2638220.0</td>\n",
              "    </tr>\n",
              "    <tr>\n",
              "      <th>2017-07-25</th>\n",
              "      <td>2017-07-25</td>\n",
              "      <td>7.476923</td>\n",
              "      <td>7.476923</td>\n",
              "      <td>7.307692</td>\n",
              "      <td>7.369230</td>\n",
              "      <td>6.996235</td>\n",
              "      <td>2505880.0</td>\n",
              "    </tr>\n",
              "    <tr>\n",
              "      <th>2017-07-26</th>\n",
              "      <td>2017-07-26</td>\n",
              "      <td>7.323076</td>\n",
              "      <td>7.442307</td>\n",
              "      <td>7.276923</td>\n",
              "      <td>7.326923</td>\n",
              "      <td>6.956069</td>\n",
              "      <td>2112240.0</td>\n",
              "    </tr>\n",
              "    <tr>\n",
              "      <th>2017-07-27</th>\n",
              "      <td>2017-07-27</td>\n",
              "      <td>7.388461</td>\n",
              "      <td>7.419230</td>\n",
              "      <td>7.223076</td>\n",
              "      <td>7.269230</td>\n",
              "      <td>6.901296</td>\n",
              "      <td>1910480.0</td>\n",
              "    </tr>\n",
              "    <tr>\n",
              "      <th>2017-07-28</th>\n",
              "      <td>2017-07-28</td>\n",
              "      <td>7.261538</td>\n",
              "      <td>7.296153</td>\n",
              "      <td>7.165384</td>\n",
              "      <td>7.200000</td>\n",
              "      <td>6.835570</td>\n",
              "      <td>2866760.0</td>\n",
              "    </tr>\n",
              "  </tbody>\n",
              "</table>\n",
              "</div>\n",
              "      <button class=\"colab-df-convert\" onclick=\"convertToInteractive('df-04baa73b-85a9-4e12-bad6-6e1e77b764e0')\"\n",
              "              title=\"Convert this dataframe to an interactive table.\"\n",
              "              style=\"display:none;\">\n",
              "        \n",
              "  <svg xmlns=\"http://www.w3.org/2000/svg\" height=\"24px\"viewBox=\"0 0 24 24\"\n",
              "       width=\"24px\">\n",
              "    <path d=\"M0 0h24v24H0V0z\" fill=\"none\"/>\n",
              "    <path d=\"M18.56 5.44l.94 2.06.94-2.06 2.06-.94-2.06-.94-.94-2.06-.94 2.06-2.06.94zm-11 1L8.5 8.5l.94-2.06 2.06-.94-2.06-.94L8.5 2.5l-.94 2.06-2.06.94zm10 10l.94 2.06.94-2.06 2.06-.94-2.06-.94-.94-2.06-.94 2.06-2.06.94z\"/><path d=\"M17.41 7.96l-1.37-1.37c-.4-.4-.92-.59-1.43-.59-.52 0-1.04.2-1.43.59L10.3 9.45l-7.72 7.72c-.78.78-.78 2.05 0 2.83L4 21.41c.39.39.9.59 1.41.59.51 0 1.02-.2 1.41-.59l7.78-7.78 2.81-2.81c.8-.78.8-2.07 0-2.86zM5.41 20L4 18.59l7.72-7.72 1.47 1.35L5.41 20z\"/>\n",
              "  </svg>\n",
              "      </button>\n",
              "      \n",
              "  <style>\n",
              "    .colab-df-container {\n",
              "      display:flex;\n",
              "      flex-wrap:wrap;\n",
              "      gap: 12px;\n",
              "    }\n",
              "\n",
              "    .colab-df-convert {\n",
              "      background-color: #E8F0FE;\n",
              "      border: none;\n",
              "      border-radius: 50%;\n",
              "      cursor: pointer;\n",
              "      display: none;\n",
              "      fill: #1967D2;\n",
              "      height: 32px;\n",
              "      padding: 0 0 0 0;\n",
              "      width: 32px;\n",
              "    }\n",
              "\n",
              "    .colab-df-convert:hover {\n",
              "      background-color: #E2EBFA;\n",
              "      box-shadow: 0px 1px 2px rgba(60, 64, 67, 0.3), 0px 1px 3px 1px rgba(60, 64, 67, 0.15);\n",
              "      fill: #174EA6;\n",
              "    }\n",
              "\n",
              "    [theme=dark] .colab-df-convert {\n",
              "      background-color: #3B4455;\n",
              "      fill: #D2E3FC;\n",
              "    }\n",
              "\n",
              "    [theme=dark] .colab-df-convert:hover {\n",
              "      background-color: #434B5C;\n",
              "      box-shadow: 0px 1px 3px 1px rgba(0, 0, 0, 0.15);\n",
              "      filter: drop-shadow(0px 1px 2px rgba(0, 0, 0, 0.3));\n",
              "      fill: #FFFFFF;\n",
              "    }\n",
              "  </style>\n",
              "\n",
              "      <script>\n",
              "        const buttonEl =\n",
              "          document.querySelector('#df-04baa73b-85a9-4e12-bad6-6e1e77b764e0 button.colab-df-convert');\n",
              "        buttonEl.style.display =\n",
              "          google.colab.kernel.accessAllowed ? 'block' : 'none';\n",
              "\n",
              "        async function convertToInteractive(key) {\n",
              "          const element = document.querySelector('#df-04baa73b-85a9-4e12-bad6-6e1e77b764e0');\n",
              "          const dataTable =\n",
              "            await google.colab.kernel.invokeFunction('convertToInteractive',\n",
              "                                                     [key], {});\n",
              "          if (!dataTable) return;\n",
              "\n",
              "          const docLinkHtml = 'Like what you see? Visit the ' +\n",
              "            '<a target=\"_blank\" href=https://colab.research.google.com/notebooks/data_table.ipynb>data table notebook</a>'\n",
              "            + ' to learn more about interactive tables.';\n",
              "          element.innerHTML = '';\n",
              "          dataTable['output_type'] = 'display_data';\n",
              "          await google.colab.output.renderOutput(dataTable, element);\n",
              "          const docLink = document.createElement('div');\n",
              "          docLink.innerHTML = docLinkHtml;\n",
              "          element.appendChild(docLink);\n",
              "        }\n",
              "      </script>\n",
              "    </div>\n",
              "  </div>\n",
              "  "
            ]
          },
          "metadata": {},
          "execution_count": 30
        }
      ]
    },
    {
      "cell_type": "code",
      "source": [
        "#Mudar diretório\n",
        "import os\n",
        "\n",
        "#Qual o diretório que estamos trabalhando\n",
        "os.getcwd()"
      ],
      "metadata": {
        "colab": {
          "base_uri": "https://localhost:8080/",
          "height": 35
        },
        "id": "u1TYTDIZPDJB",
        "outputId": "5803c9e8-6c6b-404e-e7b9-9b6eb4b0c62d"
      },
      "execution_count": 31,
      "outputs": [
        {
          "output_type": "execute_result",
          "data": {
            "text/plain": [
              "'/content'"
            ],
            "application/vnd.google.colaboratory.intrinsic+json": {
              "type": "string"
            }
          },
          "metadata": {},
          "execution_count": 31
        }
      ]
    },
    {
      "cell_type": "code",
      "source": [
        "#Modificando\n",
        "#>>> os.chdir('passa o diretório')"
      ],
      "metadata": {
        "id": "j4WFGfvhP03k"
      },
      "execution_count": 34,
      "outputs": []
    },
    {
      "cell_type": "code",
      "source": [
        "dados.head()"
      ],
      "metadata": {
        "colab": {
          "base_uri": "https://localhost:8080/",
          "height": 282
        },
        "id": "gwWpBrM3QfMa",
        "outputId": "a7b62fba-3b1d-4eb1-cd3f-be6bab128f60"
      },
      "execution_count": 35,
      "outputs": [
        {
          "output_type": "execute_result",
          "data": {
            "text/plain": [
              "                  Date      Open      High       Low     Close  Adj Close  \\\n",
              "Date                                                                        \n",
              "2017-07-24  2017-07-24  7.392307  7.473076  7.261538  7.426923   7.051007   \n",
              "2017-07-25  2017-07-25  7.476923  7.476923  7.307692  7.369230   6.996235   \n",
              "2017-07-26  2017-07-26  7.323076  7.442307  7.276923  7.326923   6.956069   \n",
              "2017-07-27  2017-07-27  7.388461  7.419230  7.223076  7.269230   6.901296   \n",
              "2017-07-28  2017-07-28  7.261538  7.296153  7.165384  7.200000   6.835570   \n",
              "\n",
              "               Volume  \n",
              "Date                   \n",
              "2017-07-24  2638220.0  \n",
              "2017-07-25  2505880.0  \n",
              "2017-07-26  2112240.0  \n",
              "2017-07-27  1910480.0  \n",
              "2017-07-28  2866760.0  "
            ],
            "text/html": [
              "\n",
              "  <div id=\"df-a9ef5c22-87f3-4f26-982c-9e6bc22c54d7\">\n",
              "    <div class=\"colab-df-container\">\n",
              "      <div>\n",
              "<style scoped>\n",
              "    .dataframe tbody tr th:only-of-type {\n",
              "        vertical-align: middle;\n",
              "    }\n",
              "\n",
              "    .dataframe tbody tr th {\n",
              "        vertical-align: top;\n",
              "    }\n",
              "\n",
              "    .dataframe thead th {\n",
              "        text-align: right;\n",
              "    }\n",
              "</style>\n",
              "<table border=\"1\" class=\"dataframe\">\n",
              "  <thead>\n",
              "    <tr style=\"text-align: right;\">\n",
              "      <th></th>\n",
              "      <th>Date</th>\n",
              "      <th>Open</th>\n",
              "      <th>High</th>\n",
              "      <th>Low</th>\n",
              "      <th>Close</th>\n",
              "      <th>Adj Close</th>\n",
              "      <th>Volume</th>\n",
              "    </tr>\n",
              "    <tr>\n",
              "      <th>Date</th>\n",
              "      <th></th>\n",
              "      <th></th>\n",
              "      <th></th>\n",
              "      <th></th>\n",
              "      <th></th>\n",
              "      <th></th>\n",
              "      <th></th>\n",
              "    </tr>\n",
              "  </thead>\n",
              "  <tbody>\n",
              "    <tr>\n",
              "      <th>2017-07-24</th>\n",
              "      <td>2017-07-24</td>\n",
              "      <td>7.392307</td>\n",
              "      <td>7.473076</td>\n",
              "      <td>7.261538</td>\n",
              "      <td>7.426923</td>\n",
              "      <td>7.051007</td>\n",
              "      <td>2638220.0</td>\n",
              "    </tr>\n",
              "    <tr>\n",
              "      <th>2017-07-25</th>\n",
              "      <td>2017-07-25</td>\n",
              "      <td>7.476923</td>\n",
              "      <td>7.476923</td>\n",
              "      <td>7.307692</td>\n",
              "      <td>7.369230</td>\n",
              "      <td>6.996235</td>\n",
              "      <td>2505880.0</td>\n",
              "    </tr>\n",
              "    <tr>\n",
              "      <th>2017-07-26</th>\n",
              "      <td>2017-07-26</td>\n",
              "      <td>7.323076</td>\n",
              "      <td>7.442307</td>\n",
              "      <td>7.276923</td>\n",
              "      <td>7.326923</td>\n",
              "      <td>6.956069</td>\n",
              "      <td>2112240.0</td>\n",
              "    </tr>\n",
              "    <tr>\n",
              "      <th>2017-07-27</th>\n",
              "      <td>2017-07-27</td>\n",
              "      <td>7.388461</td>\n",
              "      <td>7.419230</td>\n",
              "      <td>7.223076</td>\n",
              "      <td>7.269230</td>\n",
              "      <td>6.901296</td>\n",
              "      <td>1910480.0</td>\n",
              "    </tr>\n",
              "    <tr>\n",
              "      <th>2017-07-28</th>\n",
              "      <td>2017-07-28</td>\n",
              "      <td>7.261538</td>\n",
              "      <td>7.296153</td>\n",
              "      <td>7.165384</td>\n",
              "      <td>7.200000</td>\n",
              "      <td>6.835570</td>\n",
              "      <td>2866760.0</td>\n",
              "    </tr>\n",
              "  </tbody>\n",
              "</table>\n",
              "</div>\n",
              "      <button class=\"colab-df-convert\" onclick=\"convertToInteractive('df-a9ef5c22-87f3-4f26-982c-9e6bc22c54d7')\"\n",
              "              title=\"Convert this dataframe to an interactive table.\"\n",
              "              style=\"display:none;\">\n",
              "        \n",
              "  <svg xmlns=\"http://www.w3.org/2000/svg\" height=\"24px\"viewBox=\"0 0 24 24\"\n",
              "       width=\"24px\">\n",
              "    <path d=\"M0 0h24v24H0V0z\" fill=\"none\"/>\n",
              "    <path d=\"M18.56 5.44l.94 2.06.94-2.06 2.06-.94-2.06-.94-.94-2.06-.94 2.06-2.06.94zm-11 1L8.5 8.5l.94-2.06 2.06-.94-2.06-.94L8.5 2.5l-.94 2.06-2.06.94zm10 10l.94 2.06.94-2.06 2.06-.94-2.06-.94-.94-2.06-.94 2.06-2.06.94z\"/><path d=\"M17.41 7.96l-1.37-1.37c-.4-.4-.92-.59-1.43-.59-.52 0-1.04.2-1.43.59L10.3 9.45l-7.72 7.72c-.78.78-.78 2.05 0 2.83L4 21.41c.39.39.9.59 1.41.59.51 0 1.02-.2 1.41-.59l7.78-7.78 2.81-2.81c.8-.78.8-2.07 0-2.86zM5.41 20L4 18.59l7.72-7.72 1.47 1.35L5.41 20z\"/>\n",
              "  </svg>\n",
              "      </button>\n",
              "      \n",
              "  <style>\n",
              "    .colab-df-container {\n",
              "      display:flex;\n",
              "      flex-wrap:wrap;\n",
              "      gap: 12px;\n",
              "    }\n",
              "\n",
              "    .colab-df-convert {\n",
              "      background-color: #E8F0FE;\n",
              "      border: none;\n",
              "      border-radius: 50%;\n",
              "      cursor: pointer;\n",
              "      display: none;\n",
              "      fill: #1967D2;\n",
              "      height: 32px;\n",
              "      padding: 0 0 0 0;\n",
              "      width: 32px;\n",
              "    }\n",
              "\n",
              "    .colab-df-convert:hover {\n",
              "      background-color: #E2EBFA;\n",
              "      box-shadow: 0px 1px 2px rgba(60, 64, 67, 0.3), 0px 1px 3px 1px rgba(60, 64, 67, 0.15);\n",
              "      fill: #174EA6;\n",
              "    }\n",
              "\n",
              "    [theme=dark] .colab-df-convert {\n",
              "      background-color: #3B4455;\n",
              "      fill: #D2E3FC;\n",
              "    }\n",
              "\n",
              "    [theme=dark] .colab-df-convert:hover {\n",
              "      background-color: #434B5C;\n",
              "      box-shadow: 0px 1px 3px 1px rgba(0, 0, 0, 0.15);\n",
              "      filter: drop-shadow(0px 1px 2px rgba(0, 0, 0, 0.3));\n",
              "      fill: #FFFFFF;\n",
              "    }\n",
              "  </style>\n",
              "\n",
              "      <script>\n",
              "        const buttonEl =\n",
              "          document.querySelector('#df-a9ef5c22-87f3-4f26-982c-9e6bc22c54d7 button.colab-df-convert');\n",
              "        buttonEl.style.display =\n",
              "          google.colab.kernel.accessAllowed ? 'block' : 'none';\n",
              "\n",
              "        async function convertToInteractive(key) {\n",
              "          const element = document.querySelector('#df-a9ef5c22-87f3-4f26-982c-9e6bc22c54d7');\n",
              "          const dataTable =\n",
              "            await google.colab.kernel.invokeFunction('convertToInteractive',\n",
              "                                                     [key], {});\n",
              "          if (!dataTable) return;\n",
              "\n",
              "          const docLinkHtml = 'Like what you see? Visit the ' +\n",
              "            '<a target=\"_blank\" href=https://colab.research.google.com/notebooks/data_table.ipynb>data table notebook</a>'\n",
              "            + ' to learn more about interactive tables.';\n",
              "          element.innerHTML = '';\n",
              "          dataTable['output_type'] = 'display_data';\n",
              "          await google.colab.output.renderOutput(dataTable, element);\n",
              "          const docLink = document.createElement('div');\n",
              "          docLink.innerHTML = docLinkHtml;\n",
              "          element.appendChild(docLink);\n",
              "        }\n",
              "      </script>\n",
              "    </div>\n",
              "  </div>\n",
              "  "
            ]
          },
          "metadata": {},
          "execution_count": 35
        }
      ]
    },
    {
      "cell_type": "code",
      "source": [
        "#Renomear as colunas de um dataframe.\n",
        "#Para manter a mudança é necessário adicionar o \"inplace=True\"\n",
        "dados.rename(columns={'Date':'Data', 'Adj Close': 'WEGE3'}, inplace=True)"
      ],
      "metadata": {
        "id": "J2lIS7q3QN92"
      },
      "execution_count": 37,
      "outputs": []
    },
    {
      "cell_type": "code",
      "source": [
        "dados.head()"
      ],
      "metadata": {
        "colab": {
          "base_uri": "https://localhost:8080/",
          "height": 238
        },
        "id": "4pxZ7W6JRXRK",
        "outputId": "ce744a36-43b4-4ead-9627-4bf3a6f51291"
      },
      "execution_count": 38,
      "outputs": [
        {
          "output_type": "execute_result",
          "data": {
            "text/plain": [
              "                  Data      Open      High       Low     Close     WEGE3  \\\n",
              "Date                                                                       \n",
              "2017-07-24  2017-07-24  7.392307  7.473076  7.261538  7.426923  7.051007   \n",
              "2017-07-25  2017-07-25  7.476923  7.476923  7.307692  7.369230  6.996235   \n",
              "2017-07-26  2017-07-26  7.323076  7.442307  7.276923  7.326923  6.956069   \n",
              "2017-07-27  2017-07-27  7.388461  7.419230  7.223076  7.269230  6.901296   \n",
              "2017-07-28  2017-07-28  7.261538  7.296153  7.165384  7.200000  6.835570   \n",
              "\n",
              "               Volume  \n",
              "Date                   \n",
              "2017-07-24  2638220.0  \n",
              "2017-07-25  2505880.0  \n",
              "2017-07-26  2112240.0  \n",
              "2017-07-27  1910480.0  \n",
              "2017-07-28  2866760.0  "
            ],
            "text/html": [
              "\n",
              "  <div id=\"df-002fdbd9-37f7-43c0-9010-03358da14462\">\n",
              "    <div class=\"colab-df-container\">\n",
              "      <div>\n",
              "<style scoped>\n",
              "    .dataframe tbody tr th:only-of-type {\n",
              "        vertical-align: middle;\n",
              "    }\n",
              "\n",
              "    .dataframe tbody tr th {\n",
              "        vertical-align: top;\n",
              "    }\n",
              "\n",
              "    .dataframe thead th {\n",
              "        text-align: right;\n",
              "    }\n",
              "</style>\n",
              "<table border=\"1\" class=\"dataframe\">\n",
              "  <thead>\n",
              "    <tr style=\"text-align: right;\">\n",
              "      <th></th>\n",
              "      <th>Data</th>\n",
              "      <th>Open</th>\n",
              "      <th>High</th>\n",
              "      <th>Low</th>\n",
              "      <th>Close</th>\n",
              "      <th>WEGE3</th>\n",
              "      <th>Volume</th>\n",
              "    </tr>\n",
              "    <tr>\n",
              "      <th>Date</th>\n",
              "      <th></th>\n",
              "      <th></th>\n",
              "      <th></th>\n",
              "      <th></th>\n",
              "      <th></th>\n",
              "      <th></th>\n",
              "      <th></th>\n",
              "    </tr>\n",
              "  </thead>\n",
              "  <tbody>\n",
              "    <tr>\n",
              "      <th>2017-07-24</th>\n",
              "      <td>2017-07-24</td>\n",
              "      <td>7.392307</td>\n",
              "      <td>7.473076</td>\n",
              "      <td>7.261538</td>\n",
              "      <td>7.426923</td>\n",
              "      <td>7.051007</td>\n",
              "      <td>2638220.0</td>\n",
              "    </tr>\n",
              "    <tr>\n",
              "      <th>2017-07-25</th>\n",
              "      <td>2017-07-25</td>\n",
              "      <td>7.476923</td>\n",
              "      <td>7.476923</td>\n",
              "      <td>7.307692</td>\n",
              "      <td>7.369230</td>\n",
              "      <td>6.996235</td>\n",
              "      <td>2505880.0</td>\n",
              "    </tr>\n",
              "    <tr>\n",
              "      <th>2017-07-26</th>\n",
              "      <td>2017-07-26</td>\n",
              "      <td>7.323076</td>\n",
              "      <td>7.442307</td>\n",
              "      <td>7.276923</td>\n",
              "      <td>7.326923</td>\n",
              "      <td>6.956069</td>\n",
              "      <td>2112240.0</td>\n",
              "    </tr>\n",
              "    <tr>\n",
              "      <th>2017-07-27</th>\n",
              "      <td>2017-07-27</td>\n",
              "      <td>7.388461</td>\n",
              "      <td>7.419230</td>\n",
              "      <td>7.223076</td>\n",
              "      <td>7.269230</td>\n",
              "      <td>6.901296</td>\n",
              "      <td>1910480.0</td>\n",
              "    </tr>\n",
              "    <tr>\n",
              "      <th>2017-07-28</th>\n",
              "      <td>2017-07-28</td>\n",
              "      <td>7.261538</td>\n",
              "      <td>7.296153</td>\n",
              "      <td>7.165384</td>\n",
              "      <td>7.200000</td>\n",
              "      <td>6.835570</td>\n",
              "      <td>2866760.0</td>\n",
              "    </tr>\n",
              "  </tbody>\n",
              "</table>\n",
              "</div>\n",
              "      <button class=\"colab-df-convert\" onclick=\"convertToInteractive('df-002fdbd9-37f7-43c0-9010-03358da14462')\"\n",
              "              title=\"Convert this dataframe to an interactive table.\"\n",
              "              style=\"display:none;\">\n",
              "        \n",
              "  <svg xmlns=\"http://www.w3.org/2000/svg\" height=\"24px\"viewBox=\"0 0 24 24\"\n",
              "       width=\"24px\">\n",
              "    <path d=\"M0 0h24v24H0V0z\" fill=\"none\"/>\n",
              "    <path d=\"M18.56 5.44l.94 2.06.94-2.06 2.06-.94-2.06-.94-.94-2.06-.94 2.06-2.06.94zm-11 1L8.5 8.5l.94-2.06 2.06-.94-2.06-.94L8.5 2.5l-.94 2.06-2.06.94zm10 10l.94 2.06.94-2.06 2.06-.94-2.06-.94-.94-2.06-.94 2.06-2.06.94z\"/><path d=\"M17.41 7.96l-1.37-1.37c-.4-.4-.92-.59-1.43-.59-.52 0-1.04.2-1.43.59L10.3 9.45l-7.72 7.72c-.78.78-.78 2.05 0 2.83L4 21.41c.39.39.9.59 1.41.59.51 0 1.02-.2 1.41-.59l7.78-7.78 2.81-2.81c.8-.78.8-2.07 0-2.86zM5.41 20L4 18.59l7.72-7.72 1.47 1.35L5.41 20z\"/>\n",
              "  </svg>\n",
              "      </button>\n",
              "      \n",
              "  <style>\n",
              "    .colab-df-container {\n",
              "      display:flex;\n",
              "      flex-wrap:wrap;\n",
              "      gap: 12px;\n",
              "    }\n",
              "\n",
              "    .colab-df-convert {\n",
              "      background-color: #E8F0FE;\n",
              "      border: none;\n",
              "      border-radius: 50%;\n",
              "      cursor: pointer;\n",
              "      display: none;\n",
              "      fill: #1967D2;\n",
              "      height: 32px;\n",
              "      padding: 0 0 0 0;\n",
              "      width: 32px;\n",
              "    }\n",
              "\n",
              "    .colab-df-convert:hover {\n",
              "      background-color: #E2EBFA;\n",
              "      box-shadow: 0px 1px 2px rgba(60, 64, 67, 0.3), 0px 1px 3px 1px rgba(60, 64, 67, 0.15);\n",
              "      fill: #174EA6;\n",
              "    }\n",
              "\n",
              "    [theme=dark] .colab-df-convert {\n",
              "      background-color: #3B4455;\n",
              "      fill: #D2E3FC;\n",
              "    }\n",
              "\n",
              "    [theme=dark] .colab-df-convert:hover {\n",
              "      background-color: #434B5C;\n",
              "      box-shadow: 0px 1px 3px 1px rgba(0, 0, 0, 0.15);\n",
              "      filter: drop-shadow(0px 1px 2px rgba(0, 0, 0, 0.3));\n",
              "      fill: #FFFFFF;\n",
              "    }\n",
              "  </style>\n",
              "\n",
              "      <script>\n",
              "        const buttonEl =\n",
              "          document.querySelector('#df-002fdbd9-37f7-43c0-9010-03358da14462 button.colab-df-convert');\n",
              "        buttonEl.style.display =\n",
              "          google.colab.kernel.accessAllowed ? 'block' : 'none';\n",
              "\n",
              "        async function convertToInteractive(key) {\n",
              "          const element = document.querySelector('#df-002fdbd9-37f7-43c0-9010-03358da14462');\n",
              "          const dataTable =\n",
              "            await google.colab.kernel.invokeFunction('convertToInteractive',\n",
              "                                                     [key], {});\n",
              "          if (!dataTable) return;\n",
              "\n",
              "          const docLinkHtml = 'Like what you see? Visit the ' +\n",
              "            '<a target=\"_blank\" href=https://colab.research.google.com/notebooks/data_table.ipynb>data table notebook</a>'\n",
              "            + ' to learn more about interactive tables.';\n",
              "          element.innerHTML = '';\n",
              "          dataTable['output_type'] = 'display_data';\n",
              "          await google.colab.output.renderOutput(dataTable, element);\n",
              "          const docLink = document.createElement('div');\n",
              "          docLink.innerHTML = docLinkHtml;\n",
              "          element.appendChild(docLink);\n",
              "        }\n",
              "      </script>\n",
              "    </div>\n",
              "  </div>\n",
              "  "
            ]
          },
          "metadata": {},
          "execution_count": 38
        }
      ]
    },
    {
      "cell_type": "code",
      "source": [
        "#Como remover colunas\n",
        "#(axis = 0 exclui linhas)(axis = 1 exclui colunas)\n",
        "dados.drop(['Data', 'Volume'], axis=1, inplace=True)"
      ],
      "metadata": {
        "id": "CyK-awcURZPn"
      },
      "execution_count": 39,
      "outputs": []
    },
    {
      "cell_type": "code",
      "source": [
        "dados.head()"
      ],
      "metadata": {
        "colab": {
          "base_uri": "https://localhost:8080/",
          "height": 238
        },
        "id": "V44JxbJjSBNl",
        "outputId": "839663bc-e6b7-4ad3-d124-88d574ad81b0"
      },
      "execution_count": 40,
      "outputs": [
        {
          "output_type": "execute_result",
          "data": {
            "text/plain": [
              "                Open      High       Low     Close     WEGE3\n",
              "Date                                                        \n",
              "2017-07-24  7.392307  7.473076  7.261538  7.426923  7.051007\n",
              "2017-07-25  7.476923  7.476923  7.307692  7.369230  6.996235\n",
              "2017-07-26  7.323076  7.442307  7.276923  7.326923  6.956069\n",
              "2017-07-27  7.388461  7.419230  7.223076  7.269230  6.901296\n",
              "2017-07-28  7.261538  7.296153  7.165384  7.200000  6.835570"
            ],
            "text/html": [
              "\n",
              "  <div id=\"df-05f912c9-11cb-46fa-ad3b-e070113a2495\">\n",
              "    <div class=\"colab-df-container\">\n",
              "      <div>\n",
              "<style scoped>\n",
              "    .dataframe tbody tr th:only-of-type {\n",
              "        vertical-align: middle;\n",
              "    }\n",
              "\n",
              "    .dataframe tbody tr th {\n",
              "        vertical-align: top;\n",
              "    }\n",
              "\n",
              "    .dataframe thead th {\n",
              "        text-align: right;\n",
              "    }\n",
              "</style>\n",
              "<table border=\"1\" class=\"dataframe\">\n",
              "  <thead>\n",
              "    <tr style=\"text-align: right;\">\n",
              "      <th></th>\n",
              "      <th>Open</th>\n",
              "      <th>High</th>\n",
              "      <th>Low</th>\n",
              "      <th>Close</th>\n",
              "      <th>WEGE3</th>\n",
              "    </tr>\n",
              "    <tr>\n",
              "      <th>Date</th>\n",
              "      <th></th>\n",
              "      <th></th>\n",
              "      <th></th>\n",
              "      <th></th>\n",
              "      <th></th>\n",
              "    </tr>\n",
              "  </thead>\n",
              "  <tbody>\n",
              "    <tr>\n",
              "      <th>2017-07-24</th>\n",
              "      <td>7.392307</td>\n",
              "      <td>7.473076</td>\n",
              "      <td>7.261538</td>\n",
              "      <td>7.426923</td>\n",
              "      <td>7.051007</td>\n",
              "    </tr>\n",
              "    <tr>\n",
              "      <th>2017-07-25</th>\n",
              "      <td>7.476923</td>\n",
              "      <td>7.476923</td>\n",
              "      <td>7.307692</td>\n",
              "      <td>7.369230</td>\n",
              "      <td>6.996235</td>\n",
              "    </tr>\n",
              "    <tr>\n",
              "      <th>2017-07-26</th>\n",
              "      <td>7.323076</td>\n",
              "      <td>7.442307</td>\n",
              "      <td>7.276923</td>\n",
              "      <td>7.326923</td>\n",
              "      <td>6.956069</td>\n",
              "    </tr>\n",
              "    <tr>\n",
              "      <th>2017-07-27</th>\n",
              "      <td>7.388461</td>\n",
              "      <td>7.419230</td>\n",
              "      <td>7.223076</td>\n",
              "      <td>7.269230</td>\n",
              "      <td>6.901296</td>\n",
              "    </tr>\n",
              "    <tr>\n",
              "      <th>2017-07-28</th>\n",
              "      <td>7.261538</td>\n",
              "      <td>7.296153</td>\n",
              "      <td>7.165384</td>\n",
              "      <td>7.200000</td>\n",
              "      <td>6.835570</td>\n",
              "    </tr>\n",
              "  </tbody>\n",
              "</table>\n",
              "</div>\n",
              "      <button class=\"colab-df-convert\" onclick=\"convertToInteractive('df-05f912c9-11cb-46fa-ad3b-e070113a2495')\"\n",
              "              title=\"Convert this dataframe to an interactive table.\"\n",
              "              style=\"display:none;\">\n",
              "        \n",
              "  <svg xmlns=\"http://www.w3.org/2000/svg\" height=\"24px\"viewBox=\"0 0 24 24\"\n",
              "       width=\"24px\">\n",
              "    <path d=\"M0 0h24v24H0V0z\" fill=\"none\"/>\n",
              "    <path d=\"M18.56 5.44l.94 2.06.94-2.06 2.06-.94-2.06-.94-.94-2.06-.94 2.06-2.06.94zm-11 1L8.5 8.5l.94-2.06 2.06-.94-2.06-.94L8.5 2.5l-.94 2.06-2.06.94zm10 10l.94 2.06.94-2.06 2.06-.94-2.06-.94-.94-2.06-.94 2.06-2.06.94z\"/><path d=\"M17.41 7.96l-1.37-1.37c-.4-.4-.92-.59-1.43-.59-.52 0-1.04.2-1.43.59L10.3 9.45l-7.72 7.72c-.78.78-.78 2.05 0 2.83L4 21.41c.39.39.9.59 1.41.59.51 0 1.02-.2 1.41-.59l7.78-7.78 2.81-2.81c.8-.78.8-2.07 0-2.86zM5.41 20L4 18.59l7.72-7.72 1.47 1.35L5.41 20z\"/>\n",
              "  </svg>\n",
              "      </button>\n",
              "      \n",
              "  <style>\n",
              "    .colab-df-container {\n",
              "      display:flex;\n",
              "      flex-wrap:wrap;\n",
              "      gap: 12px;\n",
              "    }\n",
              "\n",
              "    .colab-df-convert {\n",
              "      background-color: #E8F0FE;\n",
              "      border: none;\n",
              "      border-radius: 50%;\n",
              "      cursor: pointer;\n",
              "      display: none;\n",
              "      fill: #1967D2;\n",
              "      height: 32px;\n",
              "      padding: 0 0 0 0;\n",
              "      width: 32px;\n",
              "    }\n",
              "\n",
              "    .colab-df-convert:hover {\n",
              "      background-color: #E2EBFA;\n",
              "      box-shadow: 0px 1px 2px rgba(60, 64, 67, 0.3), 0px 1px 3px 1px rgba(60, 64, 67, 0.15);\n",
              "      fill: #174EA6;\n",
              "    }\n",
              "\n",
              "    [theme=dark] .colab-df-convert {\n",
              "      background-color: #3B4455;\n",
              "      fill: #D2E3FC;\n",
              "    }\n",
              "\n",
              "    [theme=dark] .colab-df-convert:hover {\n",
              "      background-color: #434B5C;\n",
              "      box-shadow: 0px 1px 3px 1px rgba(0, 0, 0, 0.15);\n",
              "      filter: drop-shadow(0px 1px 2px rgba(0, 0, 0, 0.3));\n",
              "      fill: #FFFFFF;\n",
              "    }\n",
              "  </style>\n",
              "\n",
              "      <script>\n",
              "        const buttonEl =\n",
              "          document.querySelector('#df-05f912c9-11cb-46fa-ad3b-e070113a2495 button.colab-df-convert');\n",
              "        buttonEl.style.display =\n",
              "          google.colab.kernel.accessAllowed ? 'block' : 'none';\n",
              "\n",
              "        async function convertToInteractive(key) {\n",
              "          const element = document.querySelector('#df-05f912c9-11cb-46fa-ad3b-e070113a2495');\n",
              "          const dataTable =\n",
              "            await google.colab.kernel.invokeFunction('convertToInteractive',\n",
              "                                                     [key], {});\n",
              "          if (!dataTable) return;\n",
              "\n",
              "          const docLinkHtml = 'Like what you see? Visit the ' +\n",
              "            '<a target=\"_blank\" href=https://colab.research.google.com/notebooks/data_table.ipynb>data table notebook</a>'\n",
              "            + ' to learn more about interactive tables.';\n",
              "          element.innerHTML = '';\n",
              "          dataTable['output_type'] = 'display_data';\n",
              "          await google.colab.output.renderOutput(dataTable, element);\n",
              "          const docLink = document.createElement('div');\n",
              "          docLink.innerHTML = docLinkHtml;\n",
              "          element.appendChild(docLink);\n",
              "        }\n",
              "      </script>\n",
              "    </div>\n",
              "  </div>\n",
              "  "
            ]
          },
          "metadata": {},
          "execution_count": 40
        }
      ]
    },
    {
      "cell_type": "code",
      "source": [
        "#Plotando todas as colunas\n",
        "dados.plot();"
      ],
      "metadata": {
        "colab": {
          "base_uri": "https://localhost:8080/",
          "height": 279
        },
        "id": "IL3QqOh4SmSx",
        "outputId": "97774a47-4dd2-4820-c531-e8fc48befed6"
      },
      "execution_count": 41,
      "outputs": [
        {
          "output_type": "display_data",
          "data": {
            "text/plain": [
              "<Figure size 432x288 with 1 Axes>"
            ],
            "image/png": "[encoded data removed]"
          },
          "metadata": {
            "needs_background": "light"
          }
        }
      ]
    },
    {
      "cell_type": "code",
      "source": [
        "#Filtrando apenas algumas linhas específicas\n",
        "dados.iloc[943:994].plot()"
      ],
      "metadata": {
        "colab": {
          "base_uri": "https://localhost:8080/",
          "height": 296
        },
        "id": "C8MBBWx4Su5H",
        "outputId": "aaddaa95-4d3a-412e-d1b4-8a11684e97df"
      },
      "execution_count": 42,
      "outputs": [
        {
          "output_type": "execute_result",
          "data": {
            "text/plain": [
              "<matplotlib.axes._subplots.AxesSubplot at 0x7ff980d7d210>"
            ]
          },
          "metadata": {},
          "execution_count": 42
        },
        {
          "output_type": "display_data",
          "data": {
            "text/plain": [
              "<Figure size 432x288 with 1 Axes>"
            ],
            "image/png": "[encoded data removed]"
          },
          "metadata": {
            "needs_background": "light"
          }
        }
      ]
    },
    {
      "cell_type": "code",
      "source": [
        "#Aumentar o tamnho do gráfico\n",
        "dados.iloc[943:994].plot(figsize=(10,10))"
      ],
      "metadata": {
        "colab": {
          "base_uri": "https://localhost:8080/",
          "height": 623
        },
        "id": "mAwHi9OmTrsj",
        "outputId": "8a116884-d725-4c5d-d925-27ae2ada83a2"
      },
      "execution_count": 43,
      "outputs": [
        {
          "output_type": "execute_result",
          "data": {
            "text/plain": [
              "<matplotlib.axes._subplots.AxesSubplot at 0x7ff980c97150>"
            ]
          },
          "metadata": {},
          "execution_count": 43
        },
        {
          "output_type": "display_data",
          "data": {
            "text/plain": [
              "<Figure size 720x720 with 1 Axes>"
            ],
            "image/png": "[encoded data removed]"
          },
          "metadata": {
            "needs_background": "light"
          }
        }
      ]
    }
  ]
}